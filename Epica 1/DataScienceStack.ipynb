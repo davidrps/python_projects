{
 "cells": [
  {
   "attachments": {},
   "cell_type": "markdown",
   "metadata": {},
   "source": [
    "# Data Science Stack\n",
    "\n",
    "Lista de las herramientas imprescindibles de Data Science:\n",
    "\n",
    "- Lenguajes de programación: Python y R son los lenguajes de programación más utilizados en el campo de la Data Science.\n",
    "\n",
    "- Librerías y paquetes: Pandas, Numpy, Matplotlib, Seaborn, Scikit-Learn, Plotly y Statsmodels son algunas de las librerías y paquetes más importantes en el campo de la Data Science.\n",
    "\n",
    "- Entornos de análisis de datos: Jupyter Notebook, Colab de Google, R Studio y Spyder son algunos de los entornos de análisis de datos más utilizados.\n",
    "\n",
    "- Almacenamiento y gestión de datos: SQL y NoSQL, Amazon S3 y Google Cloud Storage son algunos de los sistemas de almacenamiento y gestión de datos más utilizados.\n",
    "\n",
    "- Herramientas de visualización de datos: Tableau, PowerBI y QlikView son algunas de las herramientas de visualización de datos más utilizadas.\n",
    "\n",
    "- Herramientas de aprendizaje automático: TensorFlow, PyTorch, Keras y scikit-learn son algunas de las herramientas de aprendizaje automático más utilizadas.\n",
    "\n",
    "- Sistemas de integración y automatización: Apache NiFi, Apache Airflow y Jenkins son algunos de los sistemas de integración y automatización más utilizados.\n",
    "\n",
    "Es importante tener en cuenta que el conocimiento de estas herramientas y tecnologías es solo una parte de la Data Science y que también es importante tener habilidades en **matemáticas**, **estadística**, **comunicación** y **liderazgo** para ser un buen profesional en Data Science."
   ]
  },
  {
   "attachments": {},
   "cell_type": "markdown",
   "metadata": {},
   "source": [
    "Ejercicio:\n",
    "\n",
    "1.- Haz una lista de cuáles de estas herramientas hemos utilizado en el curso"
   ]
  },
  {
   "attachments": {},
   "cell_type": "markdown",
   "metadata": {},
   "source": [
    "- Lenguajes de programación: Python.\n",
    "- Librerías y paquetes: Pandas, Numpy, Matplotlib, Seaborn, Scikit-Learn.\n",
    "- Entornos de análisis de datos: Jupyter Notebook, Colab.\n",
    "- Almacenamiento y gestión de datos: - \n",
    "- Herramientas de visualización de datos: -\n",
    "- Herramientas de aprendizaje automático: TensorFlow, PyTorch, Keras y scikit-learn."
   ]
  },
  {
   "attachments": {},
   "cell_type": "markdown",
   "metadata": {},
   "source": [
    "2.- Indica si hay alguna otra herramienta que no hayamos visto en el bootcamp, pero que te suene o hayas trabajado con ella previamente.\n",
    "\n",
    "SAP, SPSS, Cloud, Mongo DB, Spark, SOAP, UML, XML, BPMN, CAAT, Kubernetes, Docker,  Synapse, Kafka, Redshift, Glue, Athena, BigQuery, S3, STATA.\n"
   ]
  },
  {
   "attachments": {},
   "cell_type": "markdown",
   "metadata": {},
   "source": [
    "3.- Valora entre Junior/Senior/Master tus habilidades en:\n",
    "\n",
    "- Programación: Senior.\n",
    "- Matemáticas: Senior.\n",
    "- Estadística: Senior\n",
    "- Comunicación: Master\n",
    "- Liderazgo: Master."
   ]
  },
  {
   "attachments": {},
   "cell_type": "markdown",
   "metadata": {},
   "source": [
    "4.- ¿Qué objetivos o planes tienes para mejorar estas habilidades en el futuro, aparte de lo que pueda aportar este Bootcamp?\n",
    "- Hacer 10 proyectos integrales (recopilación, limpieza y transformación, análisis, evaluación y ajuste y predicción) con todo lo aprendido.\n",
    "- Publicar y compartir mi blog con mis proyectos y contenido Data Science. \n",
    "- Postularme a búsquedas de como Data Science.  "
   ]
  }
 ],
 "metadata": {
  "kernelspec": {
   "display_name": "Python 3",
   "language": "python",
   "name": "python3"
  },
  "language_info": {
   "name": "python",
   "version": "3.9.5 (tags/v3.9.5:0a7dcbd, May  3 2021, 17:27:52) [MSC v.1928 64 bit (AMD64)]"
  },
  "orig_nbformat": 4,
  "vscode": {
   "interpreter": {
    "hash": "2e242e6b8c453217117083c6680e6db82176874e34559806b32fd7417ddae620"
   }
  }
 },
 "nbformat": 4,
 "nbformat_minor": 2
}
