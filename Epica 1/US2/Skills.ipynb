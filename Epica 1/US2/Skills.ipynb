{
 "cells": [
  {
   "cell_type": "code",
   "execution_count": null,
   "metadata": {},
   "outputs": [],
   "source": [
    "Python\n",
    "Jupyter Notebooks\n",
    "Google Colabs\n",
    "Pandas\n",
    "NumPy\n",
    "CSV\n",
    "Data Science\n",
    "Data Mining\n",
    "Web Scraping\n",
    "Linear Regression\n",
    "Neural Networks\n",
    "Time Series Analysis\n",
    "Bitcoin Forecasting\n",
    "Sentiment Analysis\n",
    "Artificial Intelligence\n",
    "Machine Learning\n",
    "Deep Learning\n",
    "ARIMA\n",
    "Tensorflow\n",
    "Keras\n",
    "PyTorch\n",
    "Seaborn\n",
    "Scikit-learn\n",
    "datasets\n",
    "Matplotlib\n",
    "Prediction\n",
    "Square Mean Error\n",
    "Statistical Distributions\n",
    "Gaussian\n",
    "Uniform\n",
    "Naive-Bayes probability\n",
    "Correlation Heatmaps\n",
    "Trends\n",
    "Noise\n",
    "Prophet\n",
    "Exogenous variables\n",
    "Data Wrangling\n",
    "Seasonality\n",
    "Model Cross Validation\n",
    "KNN Classification\n",
    "Dimensionality Reduction\n",
    "NLP\n",
    "Headlines\n"
   ]
  }
 ],
 "metadata": {
  "kernelspec": {
   "display_name": "Python 3",
   "language": "python",
   "name": "python3"
  },
  "language_info": {
   "name": "python",
   "version": "3.9.5 (tags/v3.9.5:0a7dcbd, May  3 2021, 17:27:52) [MSC v.1928 64 bit (AMD64)]"
  },
  "orig_nbformat": 4,
  "vscode": {
   "interpreter": {
    "hash": "2e242e6b8c453217117083c6680e6db82176874e34559806b32fd7417ddae620"
   }
  }
 },
 "nbformat": 4,
 "nbformat_minor": 2
}
