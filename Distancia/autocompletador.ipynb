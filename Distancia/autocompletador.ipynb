{
 "cells": [
  {
   "cell_type": "code",
   "execution_count": null,
   "metadata": {},
   "outputs": [],
   "source": [
    "file = open(\"es_ES.txt\", encoding=\"UTF-8\")\n",
    "\n",
    "#importo librerías necesarias\n",
    "\n",
    "#leo el archivo\n",
    "#texto = file.read()\n",
    "\n",
    "#paso a una variable sólo las palabras de las ER\n",
    "#palabras = texto.split()\n",
    "\n",
    "#Guardo sólo las palabras\n",
    "#print(\"Ingrese la palabra a buscar\" )    \n",
    "\n",
    "#Funcion para recorrer el archivo, buscar y devolver la palabra encontrada\n",
    "def buscar(palabras):\n",
    "    for x in palabras:\n",
    "        palabraEncontrada = palabras\n",
    "    return palabraEncontrada    \n",
    "\n",
    "def main(palabras):\n",
    "    print((\"La palabra buscada es: \", ))    \n",
    "main(palabras);\n",
    "\n",
    "print(palabras.index(\"abe\"))\n",
    "print((\"La palabra buscada es: \", ))    \n",
    "print(palabras[palabras.index(\"abej\")])\n",
    "\n",
    "#vectorizar palabras\n",
    "#leventaien\n",
    "#enbeddings"
   ]
  }
 ],
 "metadata": {
  "kernelspec": {
   "display_name": "Python 3",
   "language": "python",
   "name": "python3"
  },
  "language_info": {
   "name": "python",
   "version": "3.9.5 (tags/v3.9.5:0a7dcbd, May  3 2021, 17:27:52) [MSC v.1928 64 bit (AMD64)]"
  },
  "orig_nbformat": 4,
  "vscode": {
   "interpreter": {
    "hash": "2e242e6b8c453217117083c6680e6db82176874e34559806b32fd7417ddae620"
   }
  }
 },
 "nbformat": 4,
 "nbformat_minor": 2
}
