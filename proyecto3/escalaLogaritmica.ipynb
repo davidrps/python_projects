{
 "cells": [
  {
   "attachments": {},
   "cell_type": "markdown",
   "id": "2b0f273f",
   "metadata": {},
   "source": [
    "# Escala Logarítmica\n",
    "\n",
    "![](escalaLogaritmica.png)\n",
    "\n",
    "La escala logarítmica es una forma de representar proporciones grandes en una escala reducida, mediante el uso de logaritmos. En esta escala, cada incremento en el valor del eje representa una multiplicación en lugar de una suma. Por ejemplo, en una escala lineal, un incremento de 10 unidades representa un aumento del 10%, mientras que en una escala logarítmica, un incremento de 1 unidad representa un aumento del 100%. Esto permite representar valores muy grandes o muy pequeños en un rango manejable."
   ]
  },
  {
   "attachments": {},
   "cell_type": "markdown",
   "id": "ff4a85fb",
   "metadata": {},
   "source": [
    "## Órdenes de Magnitud\n",
    "\n",
    "![](ordenesDeMagnitud.png)"
   ]
  },
  {
   "attachments": {},
   "cell_type": "markdown",
   "id": "85e77103",
   "metadata": {},
   "source": [
    "## Logaritmo\n",
    "\n",
    "Un logaritmo es una función matemática que permite encontrar la \"potencia\" a la cual se debe elevar una base para obtener un determinado valor. Por ejemplo, el logaritmo base 10 de 100 es 2, ya que 10 elevado a la 2 es igual a 100. En otras palabras, el logaritmo de un número es el exponente al que se debe elevar la base para obtener ese número. El logaritmo se representa con la notación logb(x), donde b es la base del logaritmo y x es el número al que se está calculando el logaritmo. El logaritmo más comúnmente utilizado es el logaritmo base 10, pero también se pueden utilizar otras bases como el logaritmo base 2 o el logaritmo base e.\n",
    "\n",
    "![](logaritmo10.jpg)"
   ]
  },
  {
   "attachments": {},
   "cell_type": "markdown",
   "id": "2a005205",
   "metadata": {},
   "source": [
    "## Ejercicio\n",
    "\n",
    "- Calcular el logaritmo decimal de 1, 10, 100, 1.000 y 10.000\n",
    "\n",
    "- Crear un dataframe de 100 filas con 3 columnas: La primera llamada X contiene valores decimales incrementales del 1 al 10, por ejemplo: 1.0, 1.1, 1.2, 1.3, ...\n",
    "\n",
    "La segunda columna llamada Y, contiene el valor Y = 3 + 5 * X\n",
    "\n",
    "La tercera columna llamada log10Y contiene el logaritmo decimal de Y\n",
    "\n",
    "- Representar gráficamente Y vs X\n",
    "\n",
    "- Representar gráficamente log10Y vs X\n",
    "\n",
    "- Representar gráficamente Y vs X forzando el eje Y a ser representado en escala logarítmica con la correspondiente función de matplotlib"
   ]
  },
  {
   "attachments": {},
   "cell_type": "markdown",
   "id": "7dde7b0c",
   "metadata": {},
   "source": [
    "## Visualizar detalles de escala\n",
    "\n",
    "La escala lineal (no logarítmica) permite visualizar correctamente los datos que no sufren grandes variaciones de escala o en orden de magnitud. Por ejemplo, imaginemos el siguiente dataframe:"
   ]
  },
  {
   "cell_type": "code",
   "execution_count": 1,
   "id": "f5efc30e",
   "metadata": {},
   "outputs": [
    {
     "name": "stdout",
     "output_type": "stream",
     "text": [
      "   Y\n",
      "0  2\n",
      "1  3\n",
      "2  6\n",
      "3  5\n",
      "4  7\n",
      "5  4\n"
     ]
    }
   ],
   "source": [
    "import pandas as pd\n",
    "\n",
    "df = pd.DataFrame([2, 3, 6, 5, 7, 4], columns=[\"Y\"])\n",
    "print(df)"
   ]
  },
  {
   "cell_type": "code",
   "execution_count": 2,
   "id": "6d5c96e1",
   "metadata": {},
   "outputs": [
    {
     "data": {
      "image/png": "[encoded data removed]",
      "text/plain": [
       "<Figure size 432x288 with 1 Axes>"
      ]
     },
     "metadata": {
      "needs_background": "light"
     },
     "output_type": "display_data"
    }
   ],
   "source": [
    "import matplotlib.pyplot as plt\n",
    "\n",
    "plt.plot(df)\n",
    "plt.show()"
   ]
  },
  {
   "attachments": {},
   "cell_type": "markdown",
   "id": "e233baf1",
   "metadata": {},
   "source": [
    "Podemos ver todas las variaciones del dato claramente en escala lineal.\n",
    "\n",
    "Ahora supongamos que agrego nuevos datos que se disparan en valor, alcanzando otros órdenes de magnitud:"
   ]
  },
  {
   "cell_type": "code",
   "execution_count": 4,
   "id": "b5f99378",
   "metadata": {},
   "outputs": [
    {
     "data": {
      "text/html": [
       "<div>\n",
       "<style scoped>\n",
       "    .dataframe tbody tr th:only-of-type {\n",
       "        vertical-align: middle;\n",
       "    }\n",
       "\n",
       "    .dataframe tbody tr th {\n",
       "        vertical-align: top;\n",
       "    }\n",
       "\n",
       "    .dataframe thead th {\n",
       "        text-align: right;\n",
       "    }\n",
       "</style>\n",
       "<table border=\"1\" class=\"dataframe\">\n",
       "  <thead>\n",
       "    <tr style=\"text-align: right;\">\n",
       "      <th></th>\n",
       "      <th>Y</th>\n",
       "    </tr>\n",
       "  </thead>\n",
       "  <tbody>\n",
       "    <tr>\n",
       "      <th>0</th>\n",
       "      <td>2</td>\n",
       "    </tr>\n",
       "    <tr>\n",
       "      <th>1</th>\n",
       "      <td>3</td>\n",
       "    </tr>\n",
       "    <tr>\n",
       "      <th>2</th>\n",
       "      <td>6</td>\n",
       "    </tr>\n",
       "    <tr>\n",
       "      <th>3</th>\n",
       "      <td>5</td>\n",
       "    </tr>\n",
       "    <tr>\n",
       "      <th>4</th>\n",
       "      <td>7</td>\n",
       "    </tr>\n",
       "    <tr>\n",
       "      <th>5</th>\n",
       "      <td>4</td>\n",
       "    </tr>\n",
       "    <tr>\n",
       "      <th>6</th>\n",
       "      <td>100</td>\n",
       "    </tr>\n",
       "  </tbody>\n",
       "</table>\n",
       "</div>"
      ],
      "text/plain": [
       "     Y\n",
       "0    2\n",
       "1    3\n",
       "2    6\n",
       "3    5\n",
       "4    7\n",
       "5    4\n",
       "6  100"
      ]
     },
     "execution_count": 4,
     "metadata": {},
     "output_type": "execute_result"
    }
   ],
   "source": [
    "df.loc[6] = 100\n",
    "df"
   ]
  },
  {
   "cell_type": "code",
   "execution_count": 5,
   "id": "369ee055",
   "metadata": {},
   "outputs": [
    {
     "data": {
      "image/png": "[encoded data removed]",
      "text/plain": [
       "<Figure size 432x288 with 1 Axes>"
      ]
     },
     "metadata": {
      "needs_background": "light"
     },
     "output_type": "display_data"
    }
   ],
   "source": [
    "plt.plot(df)\n",
    "plt.show()"
   ]
  },
  {
   "attachments": {},
   "cell_type": "markdown",
   "id": "e7013f4c",
   "metadata": {},
   "source": [
    "Observo que las variaciones que antes eran claras en los datos previos ahora apenas se perciben.\n",
    "\n",
    "Imaginemos que agrego otro nuevo dato que aún se aleja más en escala respecto a los datos originales:"
   ]
  },
  {
   "cell_type": "code",
   "execution_count": 6,
   "id": "8ec9d528",
   "metadata": {},
   "outputs": [
    {
     "data": {
      "text/html": [
       "<div>\n",
       "<style scoped>\n",
       "    .dataframe tbody tr th:only-of-type {\n",
       "        vertical-align: middle;\n",
       "    }\n",
       "\n",
       "    .dataframe tbody tr th {\n",
       "        vertical-align: top;\n",
       "    }\n",
       "\n",
       "    .dataframe thead th {\n",
       "        text-align: right;\n",
       "    }\n",
       "</style>\n",
       "<table border=\"1\" class=\"dataframe\">\n",
       "  <thead>\n",
       "    <tr style=\"text-align: right;\">\n",
       "      <th></th>\n",
       "      <th>Y</th>\n",
       "    </tr>\n",
       "  </thead>\n",
       "  <tbody>\n",
       "    <tr>\n",
       "      <th>0</th>\n",
       "      <td>2</td>\n",
       "    </tr>\n",
       "    <tr>\n",
       "      <th>1</th>\n",
       "      <td>3</td>\n",
       "    </tr>\n",
       "    <tr>\n",
       "      <th>2</th>\n",
       "      <td>6</td>\n",
       "    </tr>\n",
       "    <tr>\n",
       "      <th>3</th>\n",
       "      <td>5</td>\n",
       "    </tr>\n",
       "    <tr>\n",
       "      <th>4</th>\n",
       "      <td>7</td>\n",
       "    </tr>\n",
       "    <tr>\n",
       "      <th>5</th>\n",
       "      <td>4</td>\n",
       "    </tr>\n",
       "    <tr>\n",
       "      <th>6</th>\n",
       "      <td>100</td>\n",
       "    </tr>\n",
       "    <tr>\n",
       "      <th>7</th>\n",
       "      <td>10000</td>\n",
       "    </tr>\n",
       "  </tbody>\n",
       "</table>\n",
       "</div>"
      ],
      "text/plain": [
       "       Y\n",
       "0      2\n",
       "1      3\n",
       "2      6\n",
       "3      5\n",
       "4      7\n",
       "5      4\n",
       "6    100\n",
       "7  10000"
      ]
     },
     "execution_count": 6,
     "metadata": {},
     "output_type": "execute_result"
    }
   ],
   "source": [
    "df.loc[7] = 10000\n",
    "df"
   ]
  },
  {
   "cell_type": "code",
   "execution_count": 7,
   "id": "936be5ed",
   "metadata": {},
   "outputs": [
    {
     "data": {
      "image/png": "[encoded data removed]",
      "text/plain": [
       "<Figure size 432x288 with 1 Axes>"
      ]
     },
     "metadata": {
      "needs_background": "light"
     },
     "output_type": "display_data"
    }
   ],
   "source": [
    "plt.plot(df)\n",
    "plt.show()"
   ]
  },
  {
   "attachments": {},
   "cell_type": "markdown",
   "id": "d0dd205f",
   "metadata": {},
   "source": [
    "Observo que los datos originales han quedado aplanados y es imposible visualizar cualquier diferencia entre ellos.\n",
    "\n",
    "Aquí es donde entra en juego la escala logarítmica que nos va a permitir visualizar con claridad todas las variaciones de los datos sea cual sea su escala."
   ]
  },
  {
   "cell_type": "code",
   "execution_count": 8,
   "id": "195ccf20",
   "metadata": {},
   "outputs": [
    {
     "data": {
      "image/png": "[encoded data removed]",
      "text/plain": [
       "<Figure size 432x288 with 1 Axes>"
      ]
     },
     "metadata": {
      "needs_background": "light"
     },
     "output_type": "display_data"
    }
   ],
   "source": [
    "fig, ax = plt.subplots()\n",
    "ax.plot(df)\n",
    "ax.set_yscale(\"log\")\n",
    "plt.show()"
   ]
  },
  {
   "attachments": {},
   "cell_type": "markdown",
   "id": "f4772f29",
   "metadata": {},
   "source": [
    "Pero tendremos que estar atentos al usar la escala logarítmica ya que datos que parecen cercanos como el del punto 6 y 7, en realidad están muy separados, y datos que están muy cercanos como los del punto 1 y 2, en realidad son muy próximos, ya que la escala en la parte inferior es pequeña y en la parte superior es enorme."
   ]
  },
  {
   "attachments": {},
   "cell_type": "markdown",
   "id": "db7f3547",
   "metadata": {},
   "source": [
    "## Ejercicio\n",
    "\n",
    "Visualiza la valoración de Bitcoin desde su origen en 2009, en escala lineal y luego en escala logarítmica. ¿Qué conclusiones se pueden obtener de esta comparativa?\n",
    "\n",
    "Para visualizar la gráfica puedes usar tu propio programa en Jupyter o bien visitar páginas de charts que te lo muestren ya hecho."
   ]
  }
 ],
 "metadata": {
  "kernelspec": {
   "display_name": "Python 3",
   "language": "python",
   "name": "python3"
  },
  "language_info": {
   "codemirror_mode": {
    "name": "ipython",
    "version": 3
   },
   "file_extension": ".py",
   "mimetype": "text/x-python",
   "name": "python",
   "nbconvert_exporter": "python",
   "pygments_lexer": "ipython3",
   "version": "3.7.1 (default, Dec 10 2018, 22:54:23) [MSC v.1915 64 bit (AMD64)]"
  },
  "vscode": {
   "interpreter": {
    "hash": "7dd15e51a4470d085f7a243fb04650bc4fe166c7b9d4ae5b8d1a77af89f8b74e"
   }
  }
 },
 "nbformat": 4,
 "nbformat_minor": 5
}
