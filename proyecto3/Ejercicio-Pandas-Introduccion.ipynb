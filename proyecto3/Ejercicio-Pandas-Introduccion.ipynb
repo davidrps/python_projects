{
 "cells": [
  {
   "attachments": {},
   "cell_type": "markdown",
   "metadata": {},
   "source": [
    "# Ejercicio Pandas\n",
    "\n",
    "### Ejercicio de slicing de un dataframe"
   ]
  },
  {
   "attachments": {},
   "cell_type": "markdown",
   "metadata": {},
   "source": [
    "Crear un DataFrame de ejemplo con estos datos de ventas:\n",
    "```\n",
    "producto\tventas\tfecha\n",
    "A\t100\t2022-01-01\n",
    "B\t200\t2022-01-02\n",
    "C\t150\t2022-01-03\n",
    "D\t180\t2022-01-04\n",
    "E\t80\t2022-01-05\n",
    "F\t90\t2022-01-06\n",
    "G\t210\t2022-01-07\n",
    "H\t190\t2022-01-08\n",
    "I\t220\t2022-01-09\n",
    "J\t130\t2022-01-10\n",
    "```"
   ]
  },
  {
   "cell_type": "code",
   "execution_count": 1,
   "metadata": {},
   "outputs": [],
   "source": [
    "import pandas as pd"
   ]
  },
  {
   "cell_type": "code",
   "execution_count": 3,
   "metadata": {},
   "outputs": [
    {
     "name": "stdout",
     "output_type": "stream",
     "text": [
      "   ventas       fecha\n",
      "A     100  2022-01-01\n",
      "B     200  2022-01-02\n",
      "C     150  2022-01-03\n",
      "D     180  2022-01-04\n",
      "E      80  2022-01-05\n",
      "F      90  2022-01-06\n",
      "G     210  2022-01-07\n",
      "H     190  2022-01-08\n",
      "I     220  2022-01-09\n",
      "J     130  2022-01-10\n"
     ]
    }
   ],
   "source": [
    "data = {\n",
    "  \"ventas\": [100, 200, 150, 180, 80, 90, 210, 190, 220, 130],\n",
    "  \"fecha\": ['2022-01-01', '2022-01-02', '2022-01-03', '2022-01-04','2022-01-05', '2022-01-06', '2022-01-07', '2022-01-08', '2022-01-09', '2022-01-10']\n",
    "}\n",
    "\n",
    "df = pd.DataFrame(data, index = ['A','B','C','D','E','F','G','H','I','J'])\n",
    "print(df) "
   ]
  },
  {
   "attachments": {},
   "cell_type": "markdown",
   "metadata": {},
   "source": [
    "Seleccionar partes específicas del DataFrame utilizando slicing:"
   ]
  },
  {
   "attachments": {},
   "cell_type": "markdown",
   "metadata": {},
   "source": [
    "1.- Seleccionar solo las primeras 3 filas del DataFrame:"
   ]
  },
  {
   "cell_type": "code",
   "execution_count": 4,
   "metadata": {},
   "outputs": [
    {
     "name": "stdout",
     "output_type": "stream",
     "text": [
      "   ventas       fecha\n",
      "A     100  2022-01-01\n",
      "B     200  2022-01-02\n",
      "C     150  2022-01-03\n"
     ]
    }
   ],
   "source": [
    "print(df.loc[['A', 'B','C']])"
   ]
  },
  {
   "attachments": {},
   "cell_type": "markdown",
   "metadata": {},
   "source": [
    "Seleccionar las filas del índice 2 al 6 del DataFrame:"
   ]
  },
  {
   "cell_type": "code",
   "execution_count": null,
   "metadata": {},
   "outputs": [],
   "source": [
    "print(df.loc[['A', 'B','C']])"
   ]
  },
  {
   "attachments": {},
   "cell_type": "markdown",
   "metadata": {},
   "source": [
    "Seleccionar las filas donde las ventas son mayores a 150:"
   ]
  },
  {
   "cell_type": "code",
   "execution_count": null,
   "metadata": {},
   "outputs": [],
   "source": []
  },
  {
   "attachments": {},
   "cell_type": "markdown",
   "metadata": {},
   "source": [
    "Seleccionar solo la columna \"producto\" del DataFrame:"
   ]
  },
  {
   "cell_type": "code",
   "execution_count": null,
   "metadata": {},
   "outputs": [],
   "source": []
  },
  {
   "attachments": {},
   "cell_type": "markdown",
   "metadata": {},
   "source": [
    "Seleccionar las columnas \"producto\" y \"ventas\" del DataFrame:"
   ]
  },
  {
   "cell_type": "code",
   "execution_count": null,
   "metadata": {},
   "outputs": [],
   "source": []
  }
 ],
 "metadata": {
  "kernelspec": {
   "display_name": "base",
   "language": "python",
   "name": "python3"
  },
  "language_info": {
   "codemirror_mode": {
    "name": "ipython",
    "version": 3
   },
   "file_extension": ".py",
   "mimetype": "text/x-python",
   "name": "python",
   "nbconvert_exporter": "python",
   "pygments_lexer": "ipython3",
   "version": "3.8.8 (default, Apr 13 2021, 15:08:03) [MSC v.1916 64 bit (AMD64)]"
  },
  "orig_nbformat": 4,
  "vscode": {
   "interpreter": {
    "hash": "5beeed5a7ffdc4b4a0108c0b3292efe9a775794c700b606d5e33717d9ba16765"
   }
  }
 },
 "nbformat": 4,
 "nbformat_minor": 2
}
