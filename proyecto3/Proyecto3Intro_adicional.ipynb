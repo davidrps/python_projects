{
 "cells": [
  {
   "attachments": {},
   "cell_type": "markdown",
   "metadata": {},
   "source": [
    "# Proyecto 3\n",
    "\n",
    "## Aplicando Data Science Para El Mercado Cripto:\n",
    "\n",
    "Nuestro cliente es una financiera que trabaja en el Trading, nos pide que apliquemos todos nuestros conocimientos para estudiar el mercado de las criptomonedas y que le ayudemos a predecir el precio de éstas. Usarás para ello algoritmos de Clasificación y de Series de Tiempo."
   ]
  },
  {
   "attachments": {},
   "cell_type": "markdown",
   "metadata": {},
   "source": [
    "## ¿Qué es el Trading?\n",
    "\n",
    "El trading es comprar y vender activos financieros, como acciones, divisas, índices y criptomonedas, con el objetivo de obtener beneficios a corto plazo. Los traders pueden operar en el mercado de valores, en el mercado de divisas (también conocido como Forex) o en otros mercados financieros (crypto, por ejemplo). Algunos traders trabajan en una empresa o banco o broker, mientras que otros son individuos que operan por cuenta propia."
   ]
  },
  {
   "attachments": {},
   "cell_type": "markdown",
   "metadata": {},
   "source": [
    "![](trading.jpg)"
   ]
  },
  {
   "attachments": {},
   "cell_type": "markdown",
   "metadata": {},
   "source": [
    "# ¿Cuáles son las criptomonedas más importantes?\n",
    "\n",
    "Las criptomonedas más importantes son:\n",
    "\n",
    "- Bitcoin (BTC): Es la primera y más conocida criptomoneda. Fue creada en 2009 y es considerada la primera implementación de la tecnología blockchain.\n",
    "\n",
    "- Ethereum (ETH): Es una plataforma de contratos inteligentes que permite la creación de aplicaciones descentralizadas. Su moneda nativa se llama Ether.\n",
    "\n",
    "- Ripple (XRP): Es una criptomoneda que se utiliza principalmente para facilitar el intercambio de dinero entre diferentes divisas. Es utilizada por la compañía Ripple Labs.\n",
    "\n",
    "- Bitcoin Cash (BCH): Es una bifurcación de Bitcoin que se creó en 2017. Se diferencia de Bitcoin en que tiene un tamaño de bloque más grande, lo que permite la confirmación de transacciones más rápido.\n",
    "\n",
    "- Litecoin (LTC): Es una criptomoneda que se basa en la misma tecnología que Bitcoin, pero con una serie de mejoras que la hacen más rápida y eficiente.\n",
    "\n",
    "- Cardano (ADA): Es una plataforma de contratos inteligentes que utiliza la tecnología blockchain y se enfoca en la privacidad y la seguridad. Su moneda nativa se llama Ada."
   ]
  },
  {
   "attachments": {},
   "cell_type": "markdown",
   "metadata": {},
   "source": [
    "![](criptomonedas.jpg)"
   ]
  },
  {
   "attachments": {},
   "cell_type": "markdown",
   "metadata": {},
   "source": [
    "# Ejercicio:\n",
    "\n",
    "Extrae de coinmarketcap.com los nombres de las 1.000 criptomonedas más importantes\n",
    "\n",
    "Para ello, utiliza las técnicas de web scrapping aprendidas en el proyecto 2"
   ]
  },
  {
   "attachments": {},
   "cell_type": "markdown",
   "metadata": {},
   "source": [
    "### ¿Qué métodos hay para realizar predicciones en series de tiempo?\n",
    "\n",
    "- Modelos ARIMA (AutoRegressive Integrated Moving Average) que son una extensión de los modelos ARMA (AutoRegressive Moving Average) que incluyen términos de diferenciación para manejar la estacionalidad en los datos.\n",
    "\n",
    "- Modelos de procesos estocásticos, como el modelo de Holt-Winters, que se utilizan para manejar la estacionalidad y la tendencia en los datos.\n",
    "\n",
    "- Redes neuronales artificiales (RNNs), como las redes LSTM (Long Short-Term Memory) y GRU (Gated Recurrent Unit), que se utilizan para manejar secuencias de datos y pueden capturar patrones complejos en los datos.\n",
    "\n",
    "- Modelos basados en aprendizaje automático, como el XGBoost y Random Forest.\n",
    "\n",
    "- Modelos de propagación de tendencias, como el modelo de Croston, que se utilizan para predecir la frecuencia y la magnitud de los eventos con baja frecuencia."
   ]
  },
  {
   "attachments": {},
   "cell_type": "markdown",
   "metadata": {},
   "source": [
    "***\n",
    "\n",
    "## Data Mining\n",
    "\n",
    "Aparte de Binance hay otras fuentes en línea donde puedes obtener el historial de precios de Bitcoin, algunas de las cuales son gratuitas y otras requieren una suscripción o una tarifa por uso:\n",
    "\n",
    "- Coinmarketcap: Ofrece una API gratuita que permite acceder a los precios históricos de cientos de criptomonedas, incluyendo Bitcoin. Puedes encontrar más información sobre cómo utilizar su API en su sitio web: https://coinmarketcap.com/api/\n",
    "\n",
    "- CryptoCompare: Ofrece una API gratuita con acceso a precios históricos de más de 7,000 activos criptográficos, incluyendo Bitcoin. Puedes encontrar más información sobre cómo utilizar su API en su sitio web: https://min-api.cryptocompare.com/\n",
    "\n",
    "- Quandl: Es una plataforma de datos financieros que ofrece acceso a una gran cantidad de datos financieros, incluyendo precios históricos de Bitcoin. Puedes utilizar su API gratuitamente con un límite de uso diario o suscribirte a un plan de pago para obtener acceso ilimitado. Más información en su sitio web: https://www.quandl.com/data/BITSTAMP-Bitstamp-Bitcoin-Exchange\n",
    "\n",
    "También puedes encontrar conjuntos de datos históricos de Bitcoin en sitios web como Kaggle o GitHub que puedes descargar y utilizar localmente en tu computadora."
   ]
  },
  {
   "cell_type": "code",
   "execution_count": 4,
   "metadata": {},
   "outputs": [
    {
     "name": "stdout",
     "output_type": "stream",
     "text": [
      "[[1514851200000, 13382.16, 15473.49, 12890.02, 14675.11, 20078.092111], [1514937600000, 14690.0, 15307.56, 14150.0, 14919.51, 15905.667639], [1515024000000, 14919.51, 15280.0, 13918.04, 15059.54, 21329.649574], [1515110400000, 15059.56, 17176.24, 14600.0, 16960.39, 23251.491125], [1515196800000, 16960.39, 17143.13, 16011.21, 17069.79, 18571.457508], [1515283200000, 17069.79, 17099.96, 15610.0, 16150.03, 12493.125558], [1515369600000, 16218.85, 16322.3, 12812.0, 14902.54, 26600.609912], [1515456000000, 14902.54, 15500.0, 14011.05, 14400.0, 14315.004253], [1515542400000, 14401.0, 14955.66, 13131.31, 14907.09, 17411.001655], [1515628800000, 14940.0, 14968.68, 11400.0, 13238.78, 33554.723751]]\n",
      "<class 'list'>\n"
     ]
    }
   ],
   "source": [
    "# pip3 install ccxt\n",
    "import ccxt\n",
    "from datetime import datetime\n",
    "\n",
    "# Inicializar el objeto de intercambio\n",
    "exchange = ccxt.binance()\n",
    "\n",
    "# Especificar el par de trading y el periodo de tiempo\n",
    "symbol = 'BTC/USDT'\n",
    "timeframe = '1d'\n",
    "\n",
    "# Obtener el historial de precios\n",
    "start_date = int(datetime(2018, 1, 1, 10, 20).timestamp() * 1000)\n",
    "candles = exchange.fetch_ohlcv(symbol, timeframe, since=start_date, limit=None)\n",
    "# candles = exchange.get_historical_klines(\"BTCUSDT\", Client.KLINE_INTERVAL_1DAY, \"1 Jan, 2018\", \"23 Jan, 2023\")\n",
    "\n",
    "\n",
    "# Imprimir 10 primeras filas del historial de precios\n",
    "print(candles[:10])\n",
    "print(type(candles))"
   ]
  },
  {
   "cell_type": "code",
   "execution_count": 5,
   "metadata": {},
   "outputs": [
    {
     "data": {
      "text/html": [
       "<div>\n",
       "<style scoped>\n",
       "    .dataframe tbody tr th:only-of-type {\n",
       "        vertical-align: middle;\n",
       "    }\n",
       "\n",
       "    .dataframe tbody tr th {\n",
       "        vertical-align: top;\n",
       "    }\n",
       "\n",
       "    .dataframe thead th {\n",
       "        text-align: right;\n",
       "    }\n",
       "</style>\n",
       "<table border=\"1\" class=\"dataframe\">\n",
       "  <thead>\n",
       "    <tr style=\"text-align: right;\">\n",
       "      <th></th>\n",
       "      <th>0</th>\n",
       "      <th>1</th>\n",
       "      <th>2</th>\n",
       "      <th>3</th>\n",
       "      <th>4</th>\n",
       "      <th>5</th>\n",
       "    </tr>\n",
       "  </thead>\n",
       "  <tbody>\n",
       "    <tr>\n",
       "      <th>0</th>\n",
       "      <td>1514851200000</td>\n",
       "      <td>13382.16</td>\n",
       "      <td>15473.49</td>\n",
       "      <td>12890.02</td>\n",
       "      <td>14675.11</td>\n",
       "      <td>20078.092111</td>\n",
       "    </tr>\n",
       "    <tr>\n",
       "      <th>1</th>\n",
       "      <td>1514937600000</td>\n",
       "      <td>14690.00</td>\n",
       "      <td>15307.56</td>\n",
       "      <td>14150.00</td>\n",
       "      <td>14919.51</td>\n",
       "      <td>15905.667639</td>\n",
       "    </tr>\n",
       "    <tr>\n",
       "      <th>2</th>\n",
       "      <td>1515024000000</td>\n",
       "      <td>14919.51</td>\n",
       "      <td>15280.00</td>\n",
       "      <td>13918.04</td>\n",
       "      <td>15059.54</td>\n",
       "      <td>21329.649574</td>\n",
       "    </tr>\n",
       "    <tr>\n",
       "      <th>3</th>\n",
       "      <td>1515110400000</td>\n",
       "      <td>15059.56</td>\n",
       "      <td>17176.24</td>\n",
       "      <td>14600.00</td>\n",
       "      <td>16960.39</td>\n",
       "      <td>23251.491125</td>\n",
       "    </tr>\n",
       "    <tr>\n",
       "      <th>4</th>\n",
       "      <td>1515196800000</td>\n",
       "      <td>16960.39</td>\n",
       "      <td>17143.13</td>\n",
       "      <td>16011.21</td>\n",
       "      <td>17069.79</td>\n",
       "      <td>18571.457508</td>\n",
       "    </tr>\n",
       "    <tr>\n",
       "      <th>...</th>\n",
       "      <td>...</td>\n",
       "      <td>...</td>\n",
       "      <td>...</td>\n",
       "      <td>...</td>\n",
       "      <td>...</td>\n",
       "      <td>...</td>\n",
       "    </tr>\n",
       "    <tr>\n",
       "      <th>495</th>\n",
       "      <td>1557619200000</td>\n",
       "      <td>7076.24</td>\n",
       "      <td>7521.78</td>\n",
       "      <td>6750.00</td>\n",
       "      <td>6967.31</td>\n",
       "      <td>86948.975339</td>\n",
       "    </tr>\n",
       "    <tr>\n",
       "      <th>496</th>\n",
       "      <td>1557705600000</td>\n",
       "      <td>6968.24</td>\n",
       "      <td>8100.00</td>\n",
       "      <td>6870.00</td>\n",
       "      <td>7790.71</td>\n",
       "      <td>85804.735333</td>\n",
       "    </tr>\n",
       "    <tr>\n",
       "      <th>497</th>\n",
       "      <td>1557792000000</td>\n",
       "      <td>7795.62</td>\n",
       "      <td>8366.00</td>\n",
       "      <td>7599.56</td>\n",
       "      <td>7947.56</td>\n",
       "      <td>76583.722603</td>\n",
       "    </tr>\n",
       "    <tr>\n",
       "      <th>498</th>\n",
       "      <td>1557878400000</td>\n",
       "      <td>7945.26</td>\n",
       "      <td>8249.00</td>\n",
       "      <td>7850.00</td>\n",
       "      <td>8169.87</td>\n",
       "      <td>37884.327211</td>\n",
       "    </tr>\n",
       "    <tr>\n",
       "      <th>499</th>\n",
       "      <td>1557964800000</td>\n",
       "      <td>8169.08</td>\n",
       "      <td>8320.00</td>\n",
       "      <td>7705.00</td>\n",
       "      <td>7866.59</td>\n",
       "      <td>69630.513996</td>\n",
       "    </tr>\n",
       "  </tbody>\n",
       "</table>\n",
       "<p>500 rows × 6 columns</p>\n",
       "</div>"
      ],
      "text/plain": [
       "                 0         1         2         3         4             5\n",
       "0    1514851200000  13382.16  15473.49  12890.02  14675.11  20078.092111\n",
       "1    1514937600000  14690.00  15307.56  14150.00  14919.51  15905.667639\n",
       "2    1515024000000  14919.51  15280.00  13918.04  15059.54  21329.649574\n",
       "3    1515110400000  15059.56  17176.24  14600.00  16960.39  23251.491125\n",
       "4    1515196800000  16960.39  17143.13  16011.21  17069.79  18571.457508\n",
       "..             ...       ...       ...       ...       ...           ...\n",
       "495  1557619200000   7076.24   7521.78   6750.00   6967.31  86948.975339\n",
       "496  1557705600000   6968.24   8100.00   6870.00   7790.71  85804.735333\n",
       "497  1557792000000   7795.62   8366.00   7599.56   7947.56  76583.722603\n",
       "498  1557878400000   7945.26   8249.00   7850.00   8169.87  37884.327211\n",
       "499  1557964800000   8169.08   8320.00   7705.00   7866.59  69630.513996\n",
       "\n",
       "[500 rows x 6 columns]"
      ]
     },
     "execution_count": 5,
     "metadata": {},
     "output_type": "execute_result"
    }
   ],
   "source": [
    "import pandas as pd\n",
    "\n",
    "# Convert array into dataFrame\n",
    "df = pd.DataFrame(candles)\n",
    "df"
   ]
  },
  {
   "attachments": {},
   "cell_type": "markdown",
   "metadata": {},
   "source": [
    "## Data Wrangling: Limpieza de datos"
   ]
  },
  {
   "cell_type": "code",
   "execution_count": 6,
   "metadata": {},
   "outputs": [
    {
     "name": "stdout",
     "output_type": "stream",
     "text": [
      "time       int64\n",
      "price    float64\n",
      "dtype: object\n"
     ]
    },
    {
     "data": {
      "text/html": [
       "<div>\n",
       "<style scoped>\n",
       "    .dataframe tbody tr th:only-of-type {\n",
       "        vertical-align: middle;\n",
       "    }\n",
       "\n",
       "    .dataframe tbody tr th {\n",
       "        vertical-align: top;\n",
       "    }\n",
       "\n",
       "    .dataframe thead th {\n",
       "        text-align: right;\n",
       "    }\n",
       "</style>\n",
       "<table border=\"1\" class=\"dataframe\">\n",
       "  <thead>\n",
       "    <tr style=\"text-align: right;\">\n",
       "      <th></th>\n",
       "      <th>time</th>\n",
       "      <th>price</th>\n",
       "    </tr>\n",
       "  </thead>\n",
       "  <tbody>\n",
       "    <tr>\n",
       "      <th>0</th>\n",
       "      <td>1514851200000</td>\n",
       "      <td>13382.16</td>\n",
       "    </tr>\n",
       "    <tr>\n",
       "      <th>1</th>\n",
       "      <td>1514937600000</td>\n",
       "      <td>14690.00</td>\n",
       "    </tr>\n",
       "    <tr>\n",
       "      <th>2</th>\n",
       "      <td>1515024000000</td>\n",
       "      <td>14919.51</td>\n",
       "    </tr>\n",
       "    <tr>\n",
       "      <th>3</th>\n",
       "      <td>1515110400000</td>\n",
       "      <td>15059.56</td>\n",
       "    </tr>\n",
       "    <tr>\n",
       "      <th>4</th>\n",
       "      <td>1515196800000</td>\n",
       "      <td>16960.39</td>\n",
       "    </tr>\n",
       "    <tr>\n",
       "      <th>...</th>\n",
       "      <td>...</td>\n",
       "      <td>...</td>\n",
       "    </tr>\n",
       "    <tr>\n",
       "      <th>495</th>\n",
       "      <td>1557619200000</td>\n",
       "      <td>7076.24</td>\n",
       "    </tr>\n",
       "    <tr>\n",
       "      <th>496</th>\n",
       "      <td>1557705600000</td>\n",
       "      <td>6968.24</td>\n",
       "    </tr>\n",
       "    <tr>\n",
       "      <th>497</th>\n",
       "      <td>1557792000000</td>\n",
       "      <td>7795.62</td>\n",
       "    </tr>\n",
       "    <tr>\n",
       "      <th>498</th>\n",
       "      <td>1557878400000</td>\n",
       "      <td>7945.26</td>\n",
       "    </tr>\n",
       "    <tr>\n",
       "      <th>499</th>\n",
       "      <td>1557964800000</td>\n",
       "      <td>8169.08</td>\n",
       "    </tr>\n",
       "  </tbody>\n",
       "</table>\n",
       "<p>500 rows × 2 columns</p>\n",
       "</div>"
      ],
      "text/plain": [
       "              time     price\n",
       "0    1514851200000  13382.16\n",
       "1    1514937600000  14690.00\n",
       "2    1515024000000  14919.51\n",
       "3    1515110400000  15059.56\n",
       "4    1515196800000  16960.39\n",
       "..             ...       ...\n",
       "495  1557619200000   7076.24\n",
       "496  1557705600000   6968.24\n",
       "497  1557792000000   7795.62\n",
       "498  1557878400000   7945.26\n",
       "499  1557964800000   8169.08\n",
       "\n",
       "[500 rows x 2 columns]"
      ]
     },
     "execution_count": 6,
     "metadata": {},
     "output_type": "execute_result"
    }
   ],
   "source": [
    "# Filter out all data except timestamp and 1st valuation (Columns #0 and #1)\n",
    "df = df[[0, 1]]\n",
    "\n",
    "# dataFrame column assignments throw warnings. We avoid them\n",
    "pd.options.mode.chained_assignment = None  # default='warn'\n",
    "\n",
    "# Rename dataFrame columns\n",
    "df.rename( columns={0 :'time'}, inplace=True)\n",
    "df.rename( columns={1 :'price'}, inplace=True)\n",
    "\n",
    "# No need to convert string to float\n",
    "# print (df.dtypes)\n",
    "# df.price = df.price.astype(float)\n",
    "print (df.dtypes)\n",
    "\n",
    "df"
   ]
  },
  {
   "attachments": {},
   "cell_type": "markdown",
   "metadata": {},
   "source": [
    "## Data Wrangling: procesando fechas (timestamps) y valores (float)"
   ]
  },
  {
   "cell_type": "code",
   "execution_count": 7,
   "metadata": {},
   "outputs": [
    {
     "name": "stdout",
     "output_type": "stream",
     "text": [
      "          time     price\n",
      "0   2018-01-02  13382.16\n",
      "1   2018-01-03  14690.00\n",
      "2   2018-01-04  14919.51\n",
      "3   2018-01-05  15059.56\n",
      "4   2018-01-06  16960.39\n",
      "..         ...       ...\n",
      "495 2019-05-12   7076.24\n",
      "496 2019-05-13   6968.24\n",
      "497 2019-05-14   7795.62\n",
      "498 2019-05-15   7945.26\n",
      "499 2019-05-16   8169.08\n",
      "\n",
      "[500 rows x 2 columns]\n"
     ]
    }
   ],
   "source": [
    "from datetime import datetime, timedelta\n",
    "\n",
    "# Transform timestamp into datetime format\n",
    "# timestamp resolution is millisecond (x/1000)\n",
    "# and start counting on 1970\n",
    "posix_epoch = datetime(1970, 1, 1)\n",
    "df['time'] = df['time'].apply(lambda x: posix_epoch + timedelta(seconds = x/1000))\n",
    "print(df)"
   ]
  },
  {
   "attachments": {},
   "cell_type": "markdown",
   "metadata": {},
   "source": [
    "## Creando gráfica"
   ]
  },
  {
   "cell_type": "code",
   "execution_count": 8,
   "metadata": {},
   "outputs": [
    {
     "data": {
      "text/plain": [
       "[<matplotlib.lines.Line2D at 0x7f30e58045e0>]"
      ]
     },
     "execution_count": 8,
     "metadata": {},
     "output_type": "execute_result"
    },
    {
     "data": {
      "image/png": "[encoded data removed]",
      "text/plain": [
       "<Figure size 640x480 with 1 Axes>"
      ]
     },
     "metadata": {},
     "output_type": "display_data"
    }
   ],
   "source": [
    "import matplotlib.pyplot as plt\n",
    "\n",
    "# Draw chart of Bitcoin price evolution\n",
    "plt.plot(df['time'], df['price'])"
   ]
  },
  {
   "attachments": {},
   "cell_type": "markdown",
   "metadata": {},
   "source": [
    "### Estableciendo la columna de tiempo como índice del dataframe"
   ]
  },
  {
   "cell_type": "code",
   "execution_count": 10,
   "metadata": {},
   "outputs": [
    {
     "data": {
      "text/html": [
       "<div>\n",
       "<style scoped>\n",
       "    .dataframe tbody tr th:only-of-type {\n",
       "        vertical-align: middle;\n",
       "    }\n",
       "\n",
       "    .dataframe tbody tr th {\n",
       "        vertical-align: top;\n",
       "    }\n",
       "\n",
       "    .dataframe thead th {\n",
       "        text-align: right;\n",
       "    }\n",
       "</style>\n",
       "<table border=\"1\" class=\"dataframe\">\n",
       "  <thead>\n",
       "    <tr style=\"text-align: right;\">\n",
       "      <th></th>\n",
       "      <th>price</th>\n",
       "    </tr>\n",
       "    <tr>\n",
       "      <th>time</th>\n",
       "      <th></th>\n",
       "    </tr>\n",
       "  </thead>\n",
       "  <tbody>\n",
       "    <tr>\n",
       "      <th>2018-01-02</th>\n",
       "      <td>13382.16</td>\n",
       "    </tr>\n",
       "    <tr>\n",
       "      <th>2018-01-03</th>\n",
       "      <td>14690.00</td>\n",
       "    </tr>\n",
       "    <tr>\n",
       "      <th>2018-01-04</th>\n",
       "      <td>14919.51</td>\n",
       "    </tr>\n",
       "    <tr>\n",
       "      <th>2018-01-05</th>\n",
       "      <td>15059.56</td>\n",
       "    </tr>\n",
       "    <tr>\n",
       "      <th>2018-01-06</th>\n",
       "      <td>16960.39</td>\n",
       "    </tr>\n",
       "    <tr>\n",
       "      <th>...</th>\n",
       "      <td>...</td>\n",
       "    </tr>\n",
       "    <tr>\n",
       "      <th>2019-05-12</th>\n",
       "      <td>7076.24</td>\n",
       "    </tr>\n",
       "    <tr>\n",
       "      <th>2019-05-13</th>\n",
       "      <td>6968.24</td>\n",
       "    </tr>\n",
       "    <tr>\n",
       "      <th>2019-05-14</th>\n",
       "      <td>7795.62</td>\n",
       "    </tr>\n",
       "    <tr>\n",
       "      <th>2019-05-15</th>\n",
       "      <td>7945.26</td>\n",
       "    </tr>\n",
       "    <tr>\n",
       "      <th>2019-05-16</th>\n",
       "      <td>8169.08</td>\n",
       "    </tr>\n",
       "  </tbody>\n",
       "</table>\n",
       "<p>500 rows × 1 columns</p>\n",
       "</div>"
      ],
      "text/plain": [
       "               price\n",
       "time                \n",
       "2018-01-02  13382.16\n",
       "2018-01-03  14690.00\n",
       "2018-01-04  14919.51\n",
       "2018-01-05  15059.56\n",
       "2018-01-06  16960.39\n",
       "...              ...\n",
       "2019-05-12   7076.24\n",
       "2019-05-13   6968.24\n",
       "2019-05-14   7795.62\n",
       "2019-05-15   7945.26\n",
       "2019-05-16   8169.08\n",
       "\n",
       "[500 rows x 1 columns]"
      ]
     },
     "execution_count": 10,
     "metadata": {},
     "output_type": "execute_result"
    }
   ],
   "source": [
    "df.index = pd.DatetimeIndex(df[\"time\"])\n",
    "df = df[[\"price\"]]\n",
    "df"
   ]
  },
  {
   "cell_type": "code",
   "execution_count": 11,
   "metadata": {},
   "outputs": [
    {
     "data": {
      "text/plain": [
       "[<matplotlib.lines.Line2D at 0x7f30e3421cd0>]"
      ]
     },
     "execution_count": 11,
     "metadata": {},
     "output_type": "execute_result"
    },
    {
     "data": {
      "image/png": "[encoded data removed]",
      "text/plain": [
       "<Figure size 640x480 with 1 Axes>"
      ]
     },
     "metadata": {},
     "output_type": "display_data"
    }
   ],
   "source": [
    "# Ahora para graficar no es necesario especificar las dos columnas, sino sólo el dataframe\n",
    "plt.plot(df)"
   ]
  }
 ],
 "metadata": {
  "kernelspec": {
   "display_name": "Python 3",
   "language": "python",
   "name": "python3"
  },
  "language_info": {
   "codemirror_mode": {
    "name": "ipython",
    "version": 3
   },
   "file_extension": ".py",
   "mimetype": "text/x-python",
   "name": "python",
   "nbconvert_exporter": "python",
   "pygments_lexer": "ipython3",
   "version": "3.9.5 (tags/v3.9.5:0a7dcbd, May  3 2021, 17:27:52) [MSC v.1928 64 bit (AMD64)]"
  },
  "orig_nbformat": 4,
  "vscode": {
   "interpreter": {
    "hash": "2e242e6b8c453217117083c6680e6db82176874e34559806b32fd7417ddae620"
   }
  }
 },
 "nbformat": 4,
 "nbformat_minor": 2
}
