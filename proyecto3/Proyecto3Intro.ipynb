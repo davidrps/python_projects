{
  "cells": [
    {
      "cell_type": "markdown",
      "metadata": {
        "id": "I0BknIhDgOW1"
      },
      "source": [
        "# Proyecto 3\n",
        "\n",
        "## Aplicando Data Science Para El Mercado Cripto:\n",
        "\n",
        "Nuestro cliente es una financiera que trabaja en el Trading, nos pide que apliquemos todos nuestros conocimientos para estudiar el mercado de las criptomonedas y que le ayudemos a predecir el precio de éstas. Usarás para ello algoritmos de Clasificación y de Series de Tiempo."
      ]
    },
    {
      "cell_type": "markdown",
      "metadata": {
        "id": "xPYo1oeVgOXA"
      },
      "source": [
        "## ¿Qué es el Trading?\n",
        "\n",
        "El trading es comprar y vender activos financieros, como acciones, divisas, índices y criptomonedas, con el objetivo de obtener beneficios a corto plazo. Los traders pueden operar en el mercado de valores, en el mercado de divisas (también conocido como Forex) o en otros mercados financieros (crypto, por ejemplo). Algunos traders trabajan en una empresa o banco o broker, mientras que otros son individuos que operan por cuenta propia."
      ]
    },
    {
      "cell_type": "markdown",
      "metadata": {
        "id": "5sscIxJsgOXH"
      },
      "source": [
        "![](trading.jpg)"
      ]
    },
    {
      "cell_type": "markdown",
      "metadata": {
        "id": "lpFScqMAgOXJ"
      },
      "source": [
        "# ¿Cuáles son las criptomonedas más importantes?\n",
        "\n",
        "Las criptomonedas más importantes son:\n",
        "\n",
        "- Bitcoin (BTC): Es la primera y más conocida criptomoneda. Fue creada en 2009 y es considerada la primera implementación de la tecnología blockchain.\n",
        "\n",
        "- Ethereum (ETH): Es una plataforma de contratos inteligentes que permite la creación de aplicaciones descentralizadas. Su moneda nativa se llama Ether.\n",
        "\n",
        "- Ripple (XRP): Es una criptomoneda que se utiliza principalmente para facilitar el intercambio de dinero entre diferentes divisas. Es utilizada por la compañía Ripple Labs.\n",
        "\n",
        "- Bitcoin Cash (BCH): Es una bifurcación de Bitcoin que se creó en 2017. Se diferencia de Bitcoin en que tiene un tamaño de bloque más grande, lo que permite la confirmación de transacciones más rápido.\n",
        "\n",
        "- Litecoin (LTC): Es una criptomoneda que se basa en la misma tecnología que Bitcoin, pero con una serie de mejoras que la hacen más rápida y eficiente.\n",
        "\n",
        "- Cardano (ADA): Es una plataforma de contratos inteligentes que utiliza la tecnología blockchain y se enfoca en la privacidad y la seguridad. Su moneda nativa se llama Ada."
      ]
    },
    {
      "cell_type": "markdown",
      "metadata": {
        "id": "W19Kiu3egOXN"
      },
      "source": [
        "![](criptomonedas.jpg)"
      ]
    },
    {
      "cell_type": "markdown",
      "metadata": {
        "id": "QLw2TGuTgOXP"
      },
      "source": [
        "# Ejercicio:\n",
        "\n",
        "Extrae de coinmarketcap.com los nombres de las 1.000 criptomonedas más importantes\n",
        "\n",
        "Para ello, utiliza las técnicas de web scrapping aprendidas en el proyecto 2"
      ]
    },
    {
      "cell_type": "code",
      "execution_count": null,
      "metadata": {
        "id": "mE0a9AEsg16b"
      },
      "outputs": [],
      "source": [
        "import re\n",
        "from re import sub\n",
        "import pandas as pd\n",
        "import numpy as np\n",
        "import requests\n",
        "import urllib.request\n",
        "from bs4 import BeautifulSoup\n",
        "from html.parser import HTMLParser\n",
        "import sys\n"
      ]
    },
    {
      "cell_type": "code",
      "execution_count": null,
      "metadata": {
        "colab": {
          "base_uri": "https://localhost:8080/"
        },
        "id": "oongkcktjUrL",
        "outputId": "888f5257-5401-4cf2-a0bd-10c5fca2a27f"
      },
      "outputs": [
        {
          "data": {
            "text/plain": [
              "True"
            ]
          },
          "execution_count": 3,
          "metadata": {},
          "output_type": "execute_result"
        }
      ],
      "source": [
        "url = 'https://coinmarketcap.com'\n",
        "read = requests.get(url)\n",
        "read.ok"
      ]
    },
    {
      "cell_type": "code",
      "execution_count": null,
      "metadata": {
        "id": "R7ddTrSfmx8Q"
      },
      "outputs": [],
      "source": [
        "soup = BeautifulSoup(read.content, 'html.parser')\n",
        "ps = soup.find_all('p',class_=\"sc-e225a64a-0 ePTNty\") "
      ]
    },
    {
      "cell_type": "code",
      "execution_count": null,
      "metadata": {
        "id": "MYAcHiZtrPax"
      },
      "outputs": [],
      "source": [
        "for p in ps:\n",
        "  print(p)\n",
        "# No es posible usar la clase porque después de la décima opción cambia la clase por una diferente"
      ]
    },
    {
      "cell_type": "code",
      "execution_count": null,
      "metadata": {
        "id": "_ngov-oWZ25u"
      },
      "outputs": [],
      "source": [
        "links = soup.find_all('a') \n",
        "currencies = []\n",
        "for a in links:\n",
        "  if a.get(\"href\"):\n",
        "    linkSplit = re.split(\"/\", a.get(\"href\"))\n",
        "    if len(linkSplit) > 2:\n",
        "      if linkSplit[1] == \"currencies\" and linkSplit[2] != \"icon\" and linkSplit[2] not in currencies:\n",
        "        currencies.append(linkSplit[2])\n",
        "print(currencies)\n",
        "print(len(currencies)) #con esto confirmo que se guardaron las 100 criptomonedas de la primera pagina"
      ]
    },
    {
      "cell_type": "code",
      "execution_count": null,
      "metadata": {
        "colab": {
          "base_uri": "https://localhost:8080/"
        },
        "id": "HPxj48TliNxx",
        "outputId": "2f23cbc3-2467-4577-fc90-df66cc2f35be"
      },
      "outputs": [
        {
          "name": "stdout",
          "output_type": "stream",
          "text": [
            "['bitcoin', 'ethereum', 'tether', 'bnb', 'usd-coin', 'xrp', 'binance-usd', 'cardano', 'dogecoin', 'polygon', 'solana', 'polkadot-new', 'litecoin', 'shiba-inu', 'multi-collateral-dai', 'tron', 'avalanche', 'uniswap', 'wrapped-bitcoin', 'cosmos', 'chainlink', 'unus-sed-leo', 'monero', 'ethereum-classic', 'toncoin', 'bitcoin-cash', 'stellar', 'cronos', 'okb', 'near-protocol', 'apecoin-ape', 'quant', 'filecoin', 'lido-dao', 'algorand', 'vechain', 'internet-computer', 'hedera', 'decentraland', 'aave', 'eos', 'flow', 'bitdao', 'the-sandbox', 'terra-luna', 'aptos', 'multiversx-egld', 'theta-network', 'tezos', 'fantom', 'chiliz', 'axie-infinity', 'paxos-standard', 'bitcoin-sv', 'trueusd', 'huobi-token', 'kucoin-token', 'zcash', 'the-graph', 'usdd', 'bittorrent-new', 'maker', 'frax-share', 'trust-wallet-token', 'gemini-dollar', 'pancakeswap', 'iota', 'klaytn', 'ecash', 'synthetix', 'thorchain', 'dash', 'neo', 'pax-gold', 'curve-dao-token', 'immutable-x', 'mina', 'helium', 'ethereum-pow', 'zilliqa', 'fei-usd', 'optimism-ethereum', 'gmx', 'gatetoken', 'osmosis', 'nexo', 'casper', '1inch', 'loopring', 'compound', 'stacks', 'convex-finance', 'enjin-coin', 'gala', 'kava', 'holo', 'basic-attention-token', 'celo', 'nem', 'xinfin', 'decred', 'arweave', 'wootrade', 'balancer', 'ravencoin', 'kusama', 'green-metaverse-token', 'ethereum-name-service', 'oasis-network', 'sushiswap', 'bitcoin-gold', 'theta-fuel', 'gnosis-gno', 'iotex', 'chain', 'terra-luna-v2', 'yearn-finance', 'waves', 'qtum', 'neutrino-usd', 'kadena', 'singularitynet', 'jasmy', 'terrausd', 'swissborg', 'chia-network', 'binaryx', 'bone-shibaswap', 'symbol', 'golem-network-tokens', 'ankr', 'harmony', 'moonbeam', 'dydx', 'fetch', 'just', 'amp', 'threshold', 'mask-network', 'zel', 'ocean-protocol', 'omg', 'dogelon', '0x', 'iostoken', 'audius', 'ontology', 'astar', 'hive-blockchain', 'reserve-rights', 'livepeer', 'ssv-network', 'magic-token', 'digibyte', 'polymath-network', 'siacoin', 'bora', 'celsius', 'render-token', 'safepal', 'wax', 'storj', 'horizen', 'rlc', 'sxp', 'braintrust', 'constitutiondao', 'uma', 'secret', 'apenft', 'dao-maker', 'skale-network', 'smooth-love-potion', 'kyber-network-crystal-v2', 'injective', 'serum', 'playdapp', 'lisk', 'voyager-token', 'nervos-network', 'ribbon-finance', 'aragon', 'tribe', 'illuvium', 'synapse-2', 'medibloc', 'pundix-new', 'civic', 'request', 'nano', 'vulcan-forged-pyr', 'nucypher', 'api3', 'numeraire', 'band-protocol', 'chromia', 'status', 'celer-network', 'aelf', 'wrapped-tron', 'steth', 'hex', 'wbnb', 'bitcoin-bep2', 'frax', 'huobi-btc', 'bittorrent', 'ftx-token', 'tnc-coin', 'tether-gold', 'radix-protocol', 'rocket-pool', 'nxm', 't-mac-dao', 'link', 'usdj', 'bitget-token-new', 'gensokishis-metaverse', 'defichain', 'edgecoin', 'liquity-usd', 'beldex', 'locus-chain', 'telcoin', 'anyswap', 'zeon', 'lukso', 'bitrise-token', 'stasis-euro', 'vvs-finance', 'baby-doge-coin', 'creditcoin', 'wemix', 'safe', 'merit-circle', 'kaspa', 'venus-usdc', 'ergo', 'usdx-kava', 'avinoc', 'polymesh', 'energy-web-token', 'looksrare', 'keep-network', 'metisdao', 'dexe', 'dkargo', 'syscoin', 'ontology-gas', 'abbc-coin', 'gitcoin', 'mx-token', 'alpha-finance-lab', 'persistence', 'wrapped-everscale', 'wink', 'biconomy', 'dent', 'mxc', 'deso', 'humanscape', 'everscale', 'cartesi', 'hooked-protocol', 'mobox', 'galxe', 'radicle', 'xyo', 'centrifuge', 'coti', 'renbtc', 'ardor', 'mdex', 'pirate-chain', 'mvl', 'acala', 'ceek-vr', 'orbs', 'nkn', 'steem', 'power-ledger', 'ren', 'origintrail', 'funtoken', 'hi-dollar', 'veritaseum', 'mobilecoin', 'spell-token', 'iq', 'prom', 'function-x', 'bifrost', 'rsk-smart-bitcoin', 'constellation', 'biswap', 'marlin', 'stratis', 'radio-caca', 'sologenic', 'decimal', 'milk-alliance', 'venus', 'nest-protocol', 'shentu', 'velas', 'wazirx', 'reef', 'rakon', 'axelar', 'ultra', 'orbit-chain', 'bancor', 'world-mobile-token', 'vethor-token', 'saitama-inu-new', 'glitzkoin', 'richquack-com', 'wrapped-velas', 'phala-network', 'hashflow', 'cvault-finance', 'metadium', 'stargate-finance', 'morpheus-network', 'dero', 'quarkchain', 'myneighboralice', 'uquid-coin', 'lcx', 'augur', 'alchemy-pay', 'metal', 'axel', 'standard-tokenization-protocol', 'insure', 'liquity', 'origin-protocol', 'whitecoin', 'venus-busd', 'alethea-artificial-liquid-intelligence-token', 'ampleforth', 'joe', 'conflux-network', 'vai', 'cortex', 'maidsafecoin', 'loom-network', 'beta-finance', 'alien-worlds', 'krypton-dao', 'orchid', 'mainframe', 'ark', 'dawn-protocol', 'dodo', 'stormx', 'yearn-finance-ii', 'sun-token', 'susd', 'star-atlas-polis', 'rsk-infrastructure-framework', 'marblex', 'utrust', 'revain', 'propy', 'aergo', 'somesing', 'ampleforth-governance-token', 'mines-of-dalarnia', 'clash-of-lilliput', 'covalent', 'ankreth', 'concordium', 'verge', 'xsgd', 'coin98', 'terran-coin', 'origin-dollar', 'efinity', 'perpetual-protocol', 'adshares', 'yield-guild-games', 'bitmax-token', 'rss3', 'moonriver', 'seedify-fund', 'defi-pulse-index', 'aavegotchi', 'moviebloc', 'badger-dao', 'chrono-tech', 'meter-governance', 'volt-inu-v2', 'enzyme', 'cocos-bcx', 'divi', 'strike', 'onus', 'celo-dollar', 'qredo', 'dusk-network', 'battle-world', 'raydium', 'wrapped-nxm', 'arpa-chain', 'ufo-gaming', 'superfarm', 'cobak-token', 'mstable-usd', 'smartofgiving', 'thundercore', 'league-of-kingdoms', 'electroneum', 'gamefi', 'polkastarter', 'defigram', 'verasity', 'wanchain', 'vegaprotocol', 'rally', 'phoenix-global-new', 'alpaca-finance', 'bloktopia', 'automata-network', 'gods-unchained', 'superrare', 'xcad-network', 'wirex-token', 'deapcoin', 'conun', 'boba-network', 'ramp', 'litentry', 'metacraft', 'cult-dao', 'platon', 'telos', 'hedgetrade', 'star-atlas', 'veruscoin', 'lto-network', 'beefy-finance', 'rarible', 'travala', 'gxchain', 'venus-usdt', 'coinex-token', 'hunt', 'truefi-token', 'chainbing', 'star-link', 'bakerytoken', 'kiltprotocol', 'idex', 'neblio', 'terra-virtua-kolect', 'tokocrypto', 'bitshares', 'tomochain', 'kardiachain', 'groestlcoin', 'wrapped-kardiachain', 'syntropy', 'keep3rv1', 'lazio-fan-token', 'komodo', 'firmachain', 'dia', 'bounce-token', 'barnbridge', 'orion-protocol', 'lever', 'bytom', 'gomining-token', 'linear', 'ethernity-chain', 'wilder-world', 'yooshi', 'steem-dollars', 'husd', 'forta', 'radix', 'alchemix', 'flamingo', 'carry', 'vidt-dao', 'unibright', 'usdk', 'quickswap', 'dxdao', 'efforce', 'akash-network', 'stafi', 'moss-coin', 'clover', 'metars-genesis', 'sentinel-protocol', 'nvirworld', 'rai-finance-sofi', 'coinpoker', 'aurora-near', 'alpine-f1-team-fan-token', 'qlink', 'ichi', 'refereum', 'euro-coin', 'h2o-dao', 'allianceblock', 'aeternity', 'sonm-bep20', 'vectorspace-ai', 'ellipsis', 'benqi', 'tokenlon-network-token', 'klever', 'reserve', 'monacoin', 'era-swap', 'santos-fc-fan-token', 'tellor', 'aioz-network', 'maple', 'dego-finance', 'proton', 'rei-network', 'gifto', 'celo-euro', 'paris-saint-germain-fan-token', 'bitcoin-diamond', 'cream-finance', 'troy', 'ultiledger', 'router-protocol', 'gas', 'astrafer', 'harvest-finance', 'cratos', 'alpha-quark-token', 'bella-protocol', 'freeway-token', 'boson-protocol', 'fc-barcelona-fan-token', 'sweat-economy', 'fusion', 'ellipsis-epx', 'dxchain-token', 'fc-porto', 'fio-protocol', 'centrality', 'contentos', 'xmon', 'streamr', 'tokenpocket', 'nuls', 'bitcicoin', 'unifi-protocol-dao', 'adventure-gold', 'metahero', 'hard-protocol', 'irisnet', 'firo', 'splintershards', 'kunci-coin', 'ethereum-swarm', 'rmrk', 'voxies', 'terra-krw', 'bluzelle', 'vite', 'burger-cities', 'venus-xvs', 'chimpion', 'namecoin', 'choise', 'elitium', 'haven-protocol', 'onbuff', 'mango-markets', 'guild-of-guardians', 'saito', 'gyen', 'petals', 'bonfida', 'hillstone', 'airdao', 'pitbull', 'shiden-network', 'manchester-city-fan-token', 'tranchess', 'wing', 'stream-coin', 'ahatoken', 'hermez-network', 'degate', 'mantra', 'adx-net', 'trustswap', 'kin', 'pivx', 'aleph-im', 'selfkey', 'meverse', 'neutrino-system-base-token', 'apm-coin', 'dforce', 'elastos', 'map-protocol', 'parsiq', 'hegic', 'phantasma', 'frontier', 'coinloan', 'singularitydao', 'waltonchain', 'dora-factory', 'tap', 'samoyedcoin', 'pluton', 'anchor-protocol', 'aion', 'airswap', 'tokemak', 'measurable-data-token', 'bitmart-token', 'kleros', 'dextools', 'nestree', 'circuits-of-value', 'latoken', 'spookyswap', 'opendao', 'metronome', 'drep-new', 'ooki-protocol', 'maro', 'viberate', 'pendle', 'beam', 'presearch', 'karura', 'goldfinch-protocol', 'yield-app', 'particl', 'decentral-games', 'arsenal-fan-token', 'six', 'mint-marble', 'auto', 'fox-token', 'hyperdao', 'dock', 'super-zero-protocol', 'bscpad', 'galatasaray-fan-token', 'valobit', 'binance-idr', 'deversifi', 'student-coin', 'prosper', 'handshake', 'akropolis', 'hathor', 'highstreet', 'obyte', 'mixmarvel', 'btc-standard-hashrate-token', 'velo', 'derace', 'uncx', 'everrise', 'rizon-blockchain', 'clearpool', 'shiba-predator', 'get-protocol', 'somnium-space-cubes', 'energi', 'polyswarm', 'hydra', 'solend', 'apeswap-finance', 'impt', 'stratos', 'hapi-one', 'solve', 'math', 'marinade', 'hopr', 'senso', 'bitball-treasure', 'milc-platform', 'dad', 'alitas', 'apollox', 'mirror-protocol', 'district0x', 'bosagora', 'ac-milan-fan-token', 'urus', 'polkadex', 'wabi', 'opulous', 'nimiq', 'green-satoshi-token', 'unification', 'the-force-protocol', 'assemble-protocol', 'amo-coin', 'gari', 'bitkan', 'switcheo', 'rainicorn', 'galaxia', 'mimblewimblecoin', 'oax', 'kryll', 'peercoin', 'arcblock', 'cudos', 'hoge-finance', 'cere-network', 'keystone-of-opportunity-knowledge', 'zenon', '1eco', 'the-transfer-token', 'dacxi', 'erc20', 'bridge-oracle', 'juventus-fan-token', 'redfox-labs', 'apollo-currency', 'vita-inu', 'dvision-network', 'callisto-network', 'deeper-network', 'mileverse', 'vertcoin', 'invictus-hyperion-fund', 'oxen', 'nakamoto-games', 'xdefi-wallet', 'unilend', 'pnetwork', 'taboo-token', 'gelato', 'quantstamp', 'nunet', 'nftx', 'powerpool', 'govi', 'pintu-token', 'btse', 'king-dag', '0chain', 'unisocks', 'te-food', 'zkswap', 'atletico-de-madrid-fan-token', 'cryptex-finance', 'babyswap', 'altura', 'redd', 'suku', 'keeperdao', 'waykichain', 'polkafoundry', 'bitcoin2', 'kambria', 'inter-milan-fan-token', 'derivadao', 'basic', 'newscrypto', 'epns', 'gochain', 'shping', 'adappter-token', 'diamond', 'mancium', 'rai', 'rupiah-token', 'oraichain-token', 'cajutel', 'lossless', 'vibing', 'digitalbits', 'lattice-token', 'whale', 'hackenai', 'bepro-network', 'masq', 'chainge', 'perlin', 'epic-cash', 'zynecoin', 'xenioscoin', 'quantum-resistant-ledger', 'civilization', 'vimworld', 'meta-apes-peel', 'mcdex', 'pallapay', 'crpt', 'wrapped-ncg', 'grid', 'banano', 'aventus', 'receive-access-ecosystem', 'insights-network', 'deepbrain-chain', 'offshift', 'inflation-hedging-coin', 'electra-protocol', 'magiccraft', 'library-credits', 'monero-classic', 'scallop', 'newyork-exchange', 'gocrypto-token', 'stader', 'retreeb', 'findora', 'thetan-arena', 'dimecoin', 'zebec-protocol', 'observer', 'prizm', 'fruits-eco', 'numbers-protocol', 'emirex-token', 'venus-ltc', 'swash', 'validity', 'cellframe', 'grin', 'venus-reward-token', 'napoli-fan-token', 'temco', 'digixdao', 'counterparty', 'titanswap', 'asta', 'blockv', 'chainx', 'arianee-protocol', 'quadrantprotocol', 'proximax', 'hiblocks', 'across-protocol', 'crustnetwork', 'pangolin', 'quiztok', 'as-roma-fan-token', 'pkt', 'ovr', 'nexus', 'bitforex-token', 'position-exchange', 'town-star', 'scprime', 'fast-access-blockchain', 'buying-com', 'permission-coin', 'torn', 'aurory', 'qash', 'darwinia-network', 'shyft-network', 'label-foundation', 'epik-prime', 'bigone-token', 'unicly-cryptopunks-collection', 'sperax', 'bux-token', 'electric-vehicle-zone', 'sora', 'argentinefootballassociationfantoken', 'venus-dai', 'foam', 'ternoa', 'safe-deal', 'bytecoin-bcn', 'reapchain', 'ignis', 'sharetoken', 'molecular-future', 'diamond-launch', 'biopassport-token', 'wombat-exchange', 'victoria-vr', 'matrix-ai-network', 'peakdefi', 'mysterium', 'bloomzed-token', 'exeedme', 'elysia', 'carbon-credit', 'project-seed', 'shiryo-inu', 'memetic', 'poolz-finance', 'poa', 'kasta', 'probit-token', 'gamercoin', 'atomic-wallet-coin', 'soda-coin', 'zano', 'factom', 'gulf-coin', 'cropbytes', 'jupiter', 'tokenomy', 'signum', 'ariva', 'sovryn', 'gridcoin', 'shopping-io-token', 'red-token', 'og-fan-token', 'caduceus-foundation', 'hello-labs', 'rari-governance-token', 'sylo', 'mintme-com-coin', 'juggernaut', 'polaris-share', 'weway', 'bitcountry-neer', 'calamari-network', 'vidya', 'gny', 'trabzonspor-fan-token', 'dragonchain', 'saffron-finance', 'kromatika', 'utopia', 'swftcoin', 'infinity-pad', 'rocket-vault-rocketx', 'xaya', 'mithril', 'dfyn-network', 'defi-yield-protocol', 'dogebonk', 'monavale', 'rush-coin', 'cashaa', 'cardstack', 'doc-com', 'guildfi', 'bondly', 'polkamarkets', 'monkeyball', 'nash', 'project-with', 'mandox-v2', 'animalgo', 'meetone', 'woonkly-power', 'adora-token', 'xdai', 'venus-link', 'gameswap', 'nft-worlds', 'ilcoin', 'solanium', 'zimbocash', 'valor-token', 'vempire-ddao', 'bitcny', 'nxt', 'tokpie', 'hypercash', 'nav-coin', 'bitrue-coin', 'multivac', 'peardao', 'linker-coin', 'inverse-finance', 'chain-guardians', 'newton', 'now-token', 'trustverse', 'ethax', 'defi-land', 'atari-token', 'fenerbahce-token', 'pstake-finance', 'bnktothefuture', 'dotmoovs', 'strikecoin', 'everest', 'cache-gold', 'sentinel', 'baasid', 'tifi-token', 'cumrocket', 'santiment', 'xeno-token', 'polkabridge']\n",
            "999\n"
          ]
        }
      ],
      "source": [
        "# Funcion para extraer los nombres de las criptos de una página\n",
        "def extractPageCurrencies(url):\n",
        "  read = requests.get(url)\n",
        "  soup = BeautifulSoup(read.content, 'html.parser')\n",
        "  links = soup.find_all('a')\n",
        "  currencies = []\n",
        "  for a in links:\n",
        "    if a.get(\"href\"):\n",
        "      linkSplit = re.split(\"/\", a.get(\"href\"))\n",
        "      if len(linkSplit) > 2:\n",
        "        if linkSplit[1] == \"currencies\" and linkSplit[2] != \"icon\" and linkSplit[2] not in currencies:\n",
        "          currencies.append(linkSplit[2])\n",
        "  return currencies\n",
        "\n",
        "# Funcion para extraer los 100 primeros nombres\n",
        "def extractCurrencies():\n",
        "  baseUrl = \"https://coinmarketcap.com/\"\n",
        "  currencies = []\n",
        "  for x in range(1,11):\n",
        "    if x == 1:\n",
        "      currencies = extractPageCurrencies(baseUrl)\n",
        "    else:\n",
        "      currencies += extractPageCurrencies(baseUrl + \"?page=\" + str(x))\n",
        "  return currencies\n",
        "\n",
        "print(extractCurrencies())\n",
        "print(len(extractCurrencies()))"
      ]
    },
    {
      "cell_type": "markdown",
      "metadata": {
        "id": "_hRw9kFqgOXR"
      },
      "source": [
        "### ¿Qué métodos hay para realizar predicciones en series de tiempo?\n",
        "\n",
        "- Modelos ARIMA (AutoRegressive Integrated Moving Average) que son una extensión de los modelos ARMA (AutoRegressive Moving Average) que incluyen términos de diferenciación para manejar la estacionalidad en los datos.\n",
        "\n",
        "- Modelos de procesos estocásticos, como el modelo de Holt-Winters, que se utilizan para manejar la estacionalidad y la tendencia en los datos.\n",
        "\n",
        "- Redes neuronales artificiales (RNNs), como las redes LSTM (Long Short-Term Memory) y GRU (Gated Recurrent Unit), que se utilizan para manejar secuencias de datos y pueden capturar patrones complejos en los datos.\n",
        "\n",
        "- Modelos basados en aprendizaje automático, como el XGBoost y Random Forest.\n",
        "\n",
        "- Modelos de propagación de tendencias, como el modelo de Croston, que se utilizan para predecir la frecuencia y la magnitud de los eventos con baja frecuencia."
      ]
    },
    {
      "cell_type": "markdown",
      "metadata": {
        "id": "4YnNii_qgOXS"
      },
      "source": [
        "### Implementación de ARIMA en Python para predecir Bitcoin\n",
        "\n",
        "Ejemplo básico de cómo utilizar el módulo statsmodels de Python para entrenar un modelo ARIMA para predecir el precio de Bitcoin:"
      ]
    },
    {
      "cell_type": "code",
      "execution_count": null,
      "metadata": {
        "id": "Y9mGDnvzgOXU"
      },
      "outputs": [],
      "source": [
        "import pandas as pd\n",
        "from statsmodels.tsa.arima_model import ARIMA\n",
        "\n",
        "# Cargar los datos de precios de Bitcoin\n",
        "df = pd.read_csv('bitcoin_prices.csv')\n",
        "\n",
        "# Crear el modelo ARIMA\n",
        "model = ARIMA(df['Close'], order=(2, 1, 2))\n",
        "model_fit = model.fit()\n",
        "\n",
        "# Realizar la predicción\n",
        "predictions = model_fit.forecast(steps=30)[0]\n",
        "\n",
        "# Imprimir las predicciones\n",
        "print(predictions)"
      ]
    },
    {
      "cell_type": "markdown",
      "metadata": {
        "id": "uhJ7mRk4gOXX"
      },
      "source": [
        "En este ejemplo, se utiliza el conjunto de datos de precios de cierre de Bitcoin, y se entrena un modelo ARIMA con orden (2,1,2). El parámetro steps=30 indica que se desean hacer predicciones para los próximos 30 días.\n",
        "\n",
        "Ten en cuenta que los parámetros del modelo (2,1,2) son solo un ejemplo y pueden ser diferentes para tus datos. Puedes utilizar técnicas de ajuste automático de parámetros como grid search o auto-arima para determinar los parámetros óptimos para tu modelo.\n",
        "\n",
        "También es importante mencionar que para realizar una predicción en serie de tiempo con ARIMA es necesario hacer una serie de pasos previos como la estacionariedad, es decir determinar si la serie es estacionaria o no, eliminar tendencias y/o sazonalidad en caso de que existan, entre otros."
      ]
    },
    {
      "cell_type": "markdown",
      "metadata": {
        "id": "-GOXH5gygOXY"
      },
      "source": [
        "### ¿Cómo funciona el modelo ARIMA?\n",
        "\n",
        "ARIMA (AutoRegressive Integrated Moving Average) es un modelo estadístico utilizado para analizar y predecir series de tiempo. Funciona mediante la combinación de tres componentes:\n",
        "\n",
        "- El componente AutoRegresivo (AR) se refiere a la relación entre una observación en un punto específico en el tiempo y uno o varios puntos en el tiempo anterior. Este componente se utiliza para modelar la tendencia y la estacionalidad en los datos.\n",
        "\n",
        "- El componente Integrado (I) se refiere a la diferenciación de los datos. Esto significa que se utiliza para manejar la estacionalidad en los datos cuando la serie no es estacionaria.\n",
        "\n",
        "- El componente Moving Average (MA) se refiere a la media móvil de las observaciones de error. Este componente se utiliza para modelar la variabilidad aleatoria en los datos.\n",
        "\n",
        "En resumen el modelo ARIMA combina estos tres componentes (AutoRegresivo, Integrado y Moving Average) para generar un modelo matemático que se ajusta a los datos de entrada y se utiliza para hacer predicciones. El proceso para generar un modelo ARIMA consiste en identificar los parámetros adecuados para cada uno de los componentes (p,d,q) estos parámetros se determinan con técnicas estadísticas como el análisis de la información Akaike (AIC) o el criterio de Bayesiano de información (BIC)."
      ]
    }
  ],
  "metadata": {
    "colab": {
      "provenance": []
    },
    "kernelspec": {
      "display_name": "base",
      "language": "python",
      "name": "python3"
    },
    "language_info": {
      "codemirror_mode": {
        "name": "ipython",
        "version": 3
      },
      "file_extension": ".py",
      "mimetype": "text/x-python",
      "name": "python",
      "nbconvert_exporter": "python",
      "pygments_lexer": "ipython3",
      "version": "3.8.8 (default, Apr 13 2021, 15:08:03) [MSC v.1916 64 bit (AMD64)]"
    },
    "orig_nbformat": 4,
    "vscode": {
      "interpreter": {
        "hash": "5beeed5a7ffdc4b4a0108c0b3292efe9a775794c700b606d5e33717d9ba16765"
      }
    }
  },
  "nbformat": 4,
  "nbformat_minor": 0
}
