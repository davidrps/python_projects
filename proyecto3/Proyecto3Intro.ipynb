{
 "cells": [
  {
   "attachments": {},
   "cell_type": "markdown",
   "metadata": {},
   "source": [
    "# Proyecto 3\n",
    "\n",
    "## Aplicando Data Science Para El Mercado Cripto:\n",
    "\n",
    "Nuestro cliente es una financiera que trabaja en el Trading, nos pide que apliquemos todos nuestros conocimientos para estudiar el mercado de las criptomonedas y que le ayudemos a predecir el precio de éstas. Usarás para ello algoritmos de Clasificación y de Series de Tiempo."
   ]
  },
  {
   "attachments": {},
   "cell_type": "markdown",
   "metadata": {},
   "source": [
    "## ¿Qué es el Trading?\n",
    "\n",
    "El trading es comprar y vender activos financieros, como acciones, divisas, índices y criptomonedas, con el objetivo de obtener beneficios a corto plazo. Los traders pueden operar en el mercado de valores, en el mercado de divisas (también conocido como Forex) o en otros mercados financieros (crypto, por ejemplo). Algunos traders trabajan en una empresa o banco o broker, mientras que otros son individuos que operan por cuenta propia."
   ]
  },
  {
   "attachments": {},
   "cell_type": "markdown",
   "metadata": {},
   "source": [
    "![](trading.jpg)"
   ]
  },
  {
   "attachments": {},
   "cell_type": "markdown",
   "metadata": {},
   "source": [
    "# ¿Cuáles son las criptomonedas más importantes?\n",
    "\n",
    "Las criptomonedas más importantes son:\n",
    "\n",
    "- Bitcoin (BTC): Es la primera y más conocida criptomoneda. Fue creada en 2009 y es considerada la primera implementación de la tecnología blockchain.\n",
    "\n",
    "- Ethereum (ETH): Es una plataforma de contratos inteligentes que permite la creación de aplicaciones descentralizadas. Su moneda nativa se llama Ether.\n",
    "\n",
    "- Ripple (XRP): Es una criptomoneda que se utiliza principalmente para facilitar el intercambio de dinero entre diferentes divisas. Es utilizada por la compañía Ripple Labs.\n",
    "\n",
    "- Bitcoin Cash (BCH): Es una bifurcación de Bitcoin que se creó en 2017. Se diferencia de Bitcoin en que tiene un tamaño de bloque más grande, lo que permite la confirmación de transacciones más rápido.\n",
    "\n",
    "- Litecoin (LTC): Es una criptomoneda que se basa en la misma tecnología que Bitcoin, pero con una serie de mejoras que la hacen más rápida y eficiente.\n",
    "\n",
    "- Cardano (ADA): Es una plataforma de contratos inteligentes que utiliza la tecnología blockchain y se enfoca en la privacidad y la seguridad. Su moneda nativa se llama Ada."
   ]
  },
  {
   "attachments": {},
   "cell_type": "markdown",
   "metadata": {},
   "source": [
    "![](criptomonedas.jpg)"
   ]
  },
  {
   "attachments": {},
   "cell_type": "markdown",
   "metadata": {},
   "source": [
    "# Ejercicio:\n",
    "\n",
    "Extrae de coinmarketcap.com los nombres de las 1.000 criptomonedas más importantes\n",
    "\n",
    "Para ello, utiliza las técnicas de web scrapping aprendidas en el proyecto 2"
   ]
  },
  {
   "attachments": {},
   "cell_type": "markdown",
   "metadata": {},
   "source": [
    "### ¿Qué métodos hay para realizar predicciones en series de tiempo?\n",
    "\n",
    "- Modelos ARIMA (AutoRegressive Integrated Moving Average) que son una extensión de los modelos ARMA (AutoRegressive Moving Average) que incluyen términos de diferenciación para manejar la estacionalidad en los datos.\n",
    "\n",
    "- Modelos de procesos estocásticos, como el modelo de Holt-Winters, que se utilizan para manejar la estacionalidad y la tendencia en los datos.\n",
    "\n",
    "- Redes neuronales artificiales (RNNs), como las redes LSTM (Long Short-Term Memory) y GRU (Gated Recurrent Unit), que se utilizan para manejar secuencias de datos y pueden capturar patrones complejos en los datos.\n",
    "\n",
    "- Modelos basados en aprendizaje automático, como el XGBoost y Random Forest.\n",
    "\n",
    "- Modelos de propagación de tendencias, como el modelo de Croston, que se utilizan para predecir la frecuencia y la magnitud de los eventos con baja frecuencia."
   ]
  },
  {
   "attachments": {},
   "cell_type": "markdown",
   "metadata": {},
   "source": [
    "### Implementación de ARIMA en Python para predecir Bitcoin\n",
    "\n",
    "Ejemplo básico de cómo utilizar el módulo statsmodels de Python para entrenar un modelo ARIMA para predecir el precio de Bitcoin:"
   ]
  },
  {
   "cell_type": "code",
   "execution_count": null,
   "metadata": {},
   "outputs": [],
   "source": [
    "import pandas as pd\n",
    "from statsmodels.tsa.arima_model import ARIMA\n",
    "\n",
    "# Cargar los datos de precios de Bitcoin\n",
    "df = pd.read_csv('bitcoin_prices.csv')\n",
    "\n",
    "# Crear el modelo ARIMA\n",
    "model = ARIMA(df['Close'], order=(2, 1, 2))\n",
    "model_fit = model.fit()\n",
    "\n",
    "# Realizar la predicción\n",
    "predictions = model_fit.forecast(steps=30)[0]\n",
    "\n",
    "# Imprimir las predicciones\n",
    "print(predictions)"
   ]
  },
  {
   "attachments": {},
   "cell_type": "markdown",
   "metadata": {},
   "source": [
    "En este ejemplo, se utiliza el conjunto de datos de precios de cierre de Bitcoin, y se entrena un modelo ARIMA con orden (2,1,2). El parámetro steps=30 indica que se desean hacer predicciones para los próximos 30 días.\n",
    "\n",
    "Ten en cuenta que los parámetros del modelo (2,1,2) son solo un ejemplo y pueden ser diferentes para tus datos. Puedes utilizar técnicas de ajuste automático de parámetros como grid search o auto-arima para determinar los parámetros óptimos para tu modelo.\n",
    "\n",
    "También es importante mencionar que para realizar una predicción en serie de tiempo con ARIMA es necesario hacer una serie de pasos previos como la estacionariedad, es decir determinar si la serie es estacionaria o no, eliminar tendencias y/o sazonalidad en caso de que existan, entre otros."
   ]
  },
  {
   "attachments": {},
   "cell_type": "markdown",
   "metadata": {},
   "source": [
    "### ¿Cómo funciona el modelo ARIMA?\n",
    "\n",
    "ARIMA (AutoRegressive Integrated Moving Average) es un modelo estadístico utilizado para analizar y predecir series de tiempo. Funciona mediante la combinación de tres componentes:\n",
    "\n",
    "- El componente AutoRegresivo (AR) se refiere a la relación entre una observación en un punto específico en el tiempo y uno o varios puntos en el tiempo anterior. Este componente se utiliza para modelar la tendencia y la estacionalidad en los datos.\n",
    "\n",
    "- El componente Integrado (I) se refiere a la diferenciación de los datos. Esto significa que se utiliza para manejar la estacionalidad en los datos cuando la serie no es estacionaria.\n",
    "\n",
    "- El componente Moving Average (MA) se refiere a la media móvil de las observaciones de error. Este componente se utiliza para modelar la variabilidad aleatoria en los datos.\n",
    "\n",
    "En resumen el modelo ARIMA combina estos tres componentes (AutoRegresivo, Integrado y Moving Average) para generar un modelo matemático que se ajusta a los datos de entrada y se utiliza para hacer predicciones. El proceso para generar un modelo ARIMA consiste en identificar los parámetros adecuados para cada uno de los componentes (p,d,q) estos parámetros se determinan con técnicas estadísticas como el análisis de la información Akaike (AIC) o el criterio de Bayesiano de información (BIC)."
   ]
  }
 ],
 "metadata": {
  "kernelspec": {
   "display_name": "Python 3.8.10 64-bit",
   "language": "python",
   "name": "python3"
  },
  "language_info": {
   "codemirror_mode": {
    "name": "ipython",
    "version": 3
   },
   "file_extension": ".py",
   "mimetype": "text/x-python",
   "name": "python",
   "nbconvert_exporter": "python",
   "pygments_lexer": "ipython3",
   "version": "3.8.10 (default, Nov 14 2022, 12:59:47) \n[GCC 9.4.0]"
  },
  "orig_nbformat": 4,
  "vscode": {
   "interpreter": {
    "hash": "31f2aee4e71d21fbe5cf8b01ff0e069b9275f58929596ceb00d14d90e3e16cd6"
   }
  }
 },
 "nbformat": 4,
 "nbformat_minor": 2
}
