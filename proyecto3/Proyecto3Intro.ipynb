{
  "cells": [
    {
      "cell_type": "markdown",
      "metadata": {
        "id": "I0BknIhDgOW1"
      },
      "source": [
        "# Proyecto 3\n",
        "\n",
        "## Aplicando Data Science Para El Mercado Cripto:\n",
        "\n",
        "Nuestro cliente es una financiera que trabaja en el Trading, nos pide que apliquemos todos nuestros conocimientos para estudiar el mercado de las criptomonedas y que le ayudemos a predecir el precio de éstas. Usarás para ello algoritmos de Clasificación y de Series de Tiempo."
      ]
    },
    {
      "cell_type": "markdown",
      "metadata": {
        "id": "xPYo1oeVgOXA"
      },
      "source": [
        "## ¿Qué es el Trading?\n",
        "\n",
        "El trading es comprar y vender activos financieros, como acciones, divisas, índices y criptomonedas, con el objetivo de obtener beneficios a corto plazo. Los traders pueden operar en el mercado de valores, en el mercado de divisas (también conocido como Forex) o en otros mercados financieros (crypto, por ejemplo). Algunos traders trabajan en una empresa o banco o broker, mientras que otros son individuos que operan por cuenta propia."
      ]
    },
    {
      "cell_type": "markdown",
      "metadata": {
        "id": "5sscIxJsgOXH"
      },
      "source": [
        "![](trading.jpg)"
      ]
    },
    {
      "cell_type": "markdown",
      "metadata": {
        "id": "lpFScqMAgOXJ"
      },
      "source": [
        "# ¿Cuáles son las criptomonedas más importantes?\n",
        "\n",
        "Las criptomonedas más importantes son:\n",
        "\n",
        "- Bitcoin (BTC): Es la primera y más conocida criptomoneda. Fue creada en 2009 y es considerada la primera implementación de la tecnología blockchain.\n",
        "\n",
        "- Ethereum (ETH): Es una plataforma de contratos inteligentes que permite la creación de aplicaciones descentralizadas. Su moneda nativa se llama Ether.\n",
        "\n",
        "- Ripple (XRP): Es una criptomoneda que se utiliza principalmente para facilitar el intercambio de dinero entre diferentes divisas. Es utilizada por la compañía Ripple Labs.\n",
        "\n",
        "- Bitcoin Cash (BCH): Es una bifurcación de Bitcoin que se creó en 2017. Se diferencia de Bitcoin en que tiene un tamaño de bloque más grande, lo que permite la confirmación de transacciones más rápido.\n",
        "\n",
        "- Litecoin (LTC): Es una criptomoneda que se basa en la misma tecnología que Bitcoin, pero con una serie de mejoras que la hacen más rápida y eficiente.\n",
        "\n",
        "- Cardano (ADA): Es una plataforma de contratos inteligentes que utiliza la tecnología blockchain y se enfoca en la privacidad y la seguridad. Su moneda nativa se llama Ada."
      ]
    },
    {
      "cell_type": "markdown",
      "metadata": {
        "id": "W19Kiu3egOXN"
      },
      "source": [
        "![](criptomonedas.jpg)"
      ]
    },
    {
      "cell_type": "markdown",
      "metadata": {
        "id": "QLw2TGuTgOXP"
      },
      "source": [
        "# Ejercicio:\n",
        "\n",
        "Extrae de coinmarketcap.com los nombres de las 1.000 criptomonedas más importantes\n",
        "\n",
        "Para ello, utiliza las técnicas de web scrapping aprendidas en el proyecto 2"
      ]
    },
    {
      "cell_type": "code",
      "source": [
        "import re\n",
        "from re import sub\n",
        "import pandas as pd\n",
        "import numpy as np\n",
        "import requests\n",
        "import urllib.request\n",
        "from bs4 import BeautifulSoup\n",
        "from html.parser import HTMLParser\n",
        "import sys\n"
      ],
      "metadata": {
        "id": "mE0a9AEsg16b"
      },
      "execution_count": null,
      "outputs": []
    },
    {
      "cell_type": "code",
      "source": [
        "url = 'https://coinmarketcap.com/?page=2'\n",
        "read = requests.get(url)\n",
        "read.ok"
      ],
      "metadata": {
        "colab": {
          "base_uri": "https://localhost:8080/"
        },
        "id": "oongkcktjUrL",
        "outputId": "2db796be-6786-4378-83a6-7081b703c969"
      },
      "execution_count": null,
      "outputs": [
        {
          "output_type": "execute_result",
          "data": {
            "text/plain": [
              "True"
            ]
          },
          "metadata": {},
          "execution_count": 2
        }
      ]
    },
    {
      "cell_type": "code",
      "source": [
        "soup = BeautifulSoup(read.content, 'html.parser')\n",
        "soup.find_all('p')"
      ],
      "metadata": {
        "id": "R7ddTrSfmx8Q"
      },
      "execution_count": null,
      "outputs": []
    },
    {
      "cell_type": "code",
      "source": [
        "flag1 = -100000\n",
        "currencies = []\n",
        "for a in soup.find_all('a'):\n",
        "  if a.get('href') == '/view/avalanche-ecosystem/':\n",
        "    flag1 = 0\n",
        "  flag1 += 1\n",
        "  if flag1 > 0:\n",
        "    if \n",
        "    print(re.split('/',a.get('href'))[2])\n",
        "    #print(re.sub('^/currencies/','',a.get('href')))"
      ],
      "metadata": {
        "id": "MYAcHiZtrPax",
        "colab": {
          "base_uri": "https://localhost:8080/",
          "height": 1000
        },
        "outputId": "07533834-64fd-40f8-eda2-efe1dbe84301"
      },
      "execution_count": null,
      "outputs": [
        {
          "output_type": "stream",
          "name": "stdout",
          "text": [
            "avalanche-ecosystem\n",
            "wootrade\n",
            "wootrade\n",
            "wootrade\n",
            "wootrade\n",
            "decred\n",
            "decred\n",
            "decred\n",
            "decred\n",
            "arweave\n",
            "arweave\n",
            "arweave\n",
            "arweave\n",
            "balancer\n",
            "balancer\n",
            "balancer\n",
            "balancer\n",
            "kusama\n",
            "kusama\n",
            "kusama\n",
            "kusama\n",
            "ravencoin\n",
            "ravencoin\n",
            "ravencoin\n",
            "ravencoin\n",
            "ethereum-name-service\n",
            "ethereum-name-service\n",
            "ethereum-name-service\n",
            "ethereum-name-service\n",
            "green-metaverse-token\n",
            "green-metaverse-token\n",
            "green-metaverse-token\n",
            "green-metaverse-token\n",
            "oasis-network\n",
            "oasis-network\n",
            "oasis-network\n",
            "oasis-network\n",
            "theta-fuel\n",
            "theta-fuel\n",
            "theta-fuel\n",
            "theta-fuel\n",
            "sushiswap\n",
            "bitcoin-gold\n",
            "iotex\n",
            "gnosis-gno\n",
            "chain\n",
            "terra-luna-v2\n",
            "yearn-finance\n",
            "waves\n",
            "neutrino-usd\n",
            "qtum\n",
            "singularitynet\n",
            "kadena\n",
            "jasmy\n",
            "terrausd\n",
            "harmony\n",
            "swissborg\n",
            "symbol\n",
            "dydx\n",
            "binaryx\n",
            "ankr\n",
            "bone-shibaswap\n",
            "fetch\n",
            "golem-network-tokens\n",
            "chia-network\n",
            "moonbeam\n",
            "amp\n",
            "just\n",
            "threshold\n",
            "mask-network\n",
            "icon\n",
            "zel\n",
            "omg\n",
            "dogelon\n",
            "iostoken\n",
            "0x\n",
            "audius\n",
            "ontology\n",
            "astar\n",
            "hive-blockchain\n",
            "livepeer\n",
            "reserve-rights\n",
            "ocean-protocol\n",
            "ssv-network\n",
            "polymath-network\n",
            "magic-token\n",
            "digibyte\n",
            "siacoin\n",
            "bora\n",
            "celsius\n",
            "render-token\n",
            "safepal\n",
            "storj\n",
            "wax\n",
            "horizen\n",
            "sxp\n",
            "braintrust\n",
            "constitutiondao\n",
            "rlc\n",
            "uma\n",
            "apenft\n",
            "secret\n",
            "dao-maker\n",
            "skale-network\n",
            "kyber-network-crystal-v2\n",
            "smooth-love-potion\n",
            "serum\n",
            "injective\n",
            "voyager-token\n",
            "playdapp\n",
            "lisk\n",
            "nervos-network\n",
            "aragon\n",
            "ribbon-finance\n",
            "synapse-2\n",
            "tribe\n",
            "medibloc\n",
            "illuvium\n",
            "pundix-new\n",
            "civic\n",
            "request\n",
            "vulcan-forged-pyr\n",
            "nano\n",
            "api3\n",
            "nucypher\n",
            "celer-network\n",
            "chromia\n",
            "band-protocol\n",
            "keep-network\n",
            "status\n",
            "gitcoin\n"
          ]
        },
        {
          "output_type": "error",
          "ename": "IndexError",
          "evalue": "ignored",
          "traceback": [
            "\u001b[0;31m---------------------------------------------------------------------------\u001b[0m",
            "\u001b[0;31mIndexError\u001b[0m                                Traceback (most recent call last)",
            "\u001b[0;32m<ipython-input-31-27940c7116b7>\u001b[0m in \u001b[0;36m<module>\u001b[0;34m\u001b[0m\n\u001b[1;32m      6\u001b[0m   \u001b[0mflag1\u001b[0m \u001b[0;34m+=\u001b[0m \u001b[0;36m1\u001b[0m\u001b[0;34m\u001b[0m\u001b[0;34m\u001b[0m\u001b[0m\n\u001b[1;32m      7\u001b[0m   \u001b[0;32mif\u001b[0m \u001b[0mflag1\u001b[0m \u001b[0;34m>\u001b[0m \u001b[0;36m0\u001b[0m\u001b[0;34m:\u001b[0m\u001b[0;34m\u001b[0m\u001b[0;34m\u001b[0m\u001b[0m\n\u001b[0;32m----> 8\u001b[0;31m     \u001b[0mprint\u001b[0m\u001b[0;34m(\u001b[0m\u001b[0mre\u001b[0m\u001b[0;34m.\u001b[0m\u001b[0msplit\u001b[0m\u001b[0;34m(\u001b[0m\u001b[0;34m'/'\u001b[0m\u001b[0;34m,\u001b[0m\u001b[0ma\u001b[0m\u001b[0;34m.\u001b[0m\u001b[0mget\u001b[0m\u001b[0;34m(\u001b[0m\u001b[0;34m'href'\u001b[0m\u001b[0;34m)\u001b[0m\u001b[0;34m)\u001b[0m\u001b[0;34m[\u001b[0m\u001b[0;36m2\u001b[0m\u001b[0;34m]\u001b[0m\u001b[0;34m)\u001b[0m\u001b[0;34m\u001b[0m\u001b[0;34m\u001b[0m\u001b[0m\n\u001b[0m\u001b[1;32m      9\u001b[0m     \u001b[0;31m#print(re.sub('^/currencies/','',a.get('href')))\u001b[0m\u001b[0;34m\u001b[0m\u001b[0;34m\u001b[0m\u001b[0;34m\u001b[0m\u001b[0m\n",
            "\u001b[0;31mIndexError\u001b[0m: list index out of range"
          ]
        }
      ]
    },
    {
      "cell_type": "markdown",
      "metadata": {
        "id": "_hRw9kFqgOXR"
      },
      "source": [
        "### ¿Qué métodos hay para realizar predicciones en series de tiempo?\n",
        "\n",
        "- Modelos ARIMA (AutoRegressive Integrated Moving Average) que son una extensión de los modelos ARMA (AutoRegressive Moving Average) que incluyen términos de diferenciación para manejar la estacionalidad en los datos.\n",
        "\n",
        "- Modelos de procesos estocásticos, como el modelo de Holt-Winters, que se utilizan para manejar la estacionalidad y la tendencia en los datos.\n",
        "\n",
        "- Redes neuronales artificiales (RNNs), como las redes LSTM (Long Short-Term Memory) y GRU (Gated Recurrent Unit), que se utilizan para manejar secuencias de datos y pueden capturar patrones complejos en los datos.\n",
        "\n",
        "- Modelos basados en aprendizaje automático, como el XGBoost y Random Forest.\n",
        "\n",
        "- Modelos de propagación de tendencias, como el modelo de Croston, que se utilizan para predecir la frecuencia y la magnitud de los eventos con baja frecuencia."
      ]
    },
    {
      "cell_type": "markdown",
      "metadata": {
        "id": "4YnNii_qgOXS"
      },
      "source": [
        "### Implementación de ARIMA en Python para predecir Bitcoin\n",
        "\n",
        "Ejemplo básico de cómo utilizar el módulo statsmodels de Python para entrenar un modelo ARIMA para predecir el precio de Bitcoin:"
      ]
    },
    {
      "cell_type": "code",
      "execution_count": null,
      "metadata": {
        "id": "Y9mGDnvzgOXU"
      },
      "outputs": [],
      "source": [
        "import pandas as pd\n",
        "from statsmodels.tsa.arima_model import ARIMA\n",
        "\n",
        "# Cargar los datos de precios de Bitcoin\n",
        "df = pd.read_csv('bitcoin_prices.csv')\n",
        "\n",
        "# Crear el modelo ARIMA\n",
        "model = ARIMA(df['Close'], order=(2, 1, 2))\n",
        "model_fit = model.fit()\n",
        "\n",
        "# Realizar la predicción\n",
        "predictions = model_fit.forecast(steps=30)[0]\n",
        "\n",
        "# Imprimir las predicciones\n",
        "print(predictions)"
      ]
    },
    {
      "cell_type": "markdown",
      "metadata": {
        "id": "uhJ7mRk4gOXX"
      },
      "source": [
        "En este ejemplo, se utiliza el conjunto de datos de precios de cierre de Bitcoin, y se entrena un modelo ARIMA con orden (2,1,2). El parámetro steps=30 indica que se desean hacer predicciones para los próximos 30 días.\n",
        "\n",
        "Ten en cuenta que los parámetros del modelo (2,1,2) son solo un ejemplo y pueden ser diferentes para tus datos. Puedes utilizar técnicas de ajuste automático de parámetros como grid search o auto-arima para determinar los parámetros óptimos para tu modelo.\n",
        "\n",
        "También es importante mencionar que para realizar una predicción en serie de tiempo con ARIMA es necesario hacer una serie de pasos previos como la estacionariedad, es decir determinar si la serie es estacionaria o no, eliminar tendencias y/o sazonalidad en caso de que existan, entre otros."
      ]
    },
    {
      "cell_type": "markdown",
      "metadata": {
        "id": "-GOXH5gygOXY"
      },
      "source": [
        "### ¿Cómo funciona el modelo ARIMA?\n",
        "\n",
        "ARIMA (AutoRegressive Integrated Moving Average) es un modelo estadístico utilizado para analizar y predecir series de tiempo. Funciona mediante la combinación de tres componentes:\n",
        "\n",
        "- El componente AutoRegresivo (AR) se refiere a la relación entre una observación en un punto específico en el tiempo y uno o varios puntos en el tiempo anterior. Este componente se utiliza para modelar la tendencia y la estacionalidad en los datos.\n",
        "\n",
        "- El componente Integrado (I) se refiere a la diferenciación de los datos. Esto significa que se utiliza para manejar la estacionalidad en los datos cuando la serie no es estacionaria.\n",
        "\n",
        "- El componente Moving Average (MA) se refiere a la media móvil de las observaciones de error. Este componente se utiliza para modelar la variabilidad aleatoria en los datos.\n",
        "\n",
        "En resumen el modelo ARIMA combina estos tres componentes (AutoRegresivo, Integrado y Moving Average) para generar un modelo matemático que se ajusta a los datos de entrada y se utiliza para hacer predicciones. El proceso para generar un modelo ARIMA consiste en identificar los parámetros adecuados para cada uno de los componentes (p,d,q) estos parámetros se determinan con técnicas estadísticas como el análisis de la información Akaike (AIC) o el criterio de Bayesiano de información (BIC)."
      ]
    }
  ],
  "metadata": {
    "kernelspec": {
      "display_name": "Python 3.8.10 64-bit",
      "language": "python",
      "name": "python3"
    },
    "language_info": {
      "codemirror_mode": {
        "name": "ipython",
        "version": 3
      },
      "file_extension": ".py",
      "mimetype": "text/x-python",
      "name": "python",
      "nbconvert_exporter": "python",
      "pygments_lexer": "ipython3",
      "version": "3.8.10 (default, Nov 14 2022, 12:59:47) \n[GCC 9.4.0]"
    },
    "orig_nbformat": 4,
    "vscode": {
      "interpreter": {
        "hash": "31f2aee4e71d21fbe5cf8b01ff0e069b9275f58929596ceb00d14d90e3e16cd6"
      }
    },
    "colab": {
      "provenance": []
    }
  },
  "nbformat": 4,
  "nbformat_minor": 0
}