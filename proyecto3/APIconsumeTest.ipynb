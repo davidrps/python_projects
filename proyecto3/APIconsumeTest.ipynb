{
 "cells": [
  {
   "cell_type": "markdown",
   "id": "a2f08eb6",
   "metadata": {
    "id": "a2f08eb6"
   },
   "source": [
    "                                        Consumo de APIs - Resultado en tabla plana"
   ]
  },
  {
   "cell_type": "markdown",
   "id": "19259af0",
   "metadata": {
    "id": "19259af0"
   },
   "source": [
    "Test:\n",
    "\n",
    "1.- Consumir la API http://numbersapi.com/1..10\n",
    "\n",
    "2.- Crear un dataFrame con los 1000 primeros números y descripciones\n",
    "\n",
    "3.- Grabar la tabla en formato CSV\n",
    "\n",
    "4.- Crear nueva columna con la longitud de la descripcion\n",
    "\n",
    "5.- Mostrar en un histograma la distribución de longitudes de descripción\n"
   ]
  },
  {
   "cell_type": "code",
   "execution_count": 26,
   "id": "xya43yK18nLc",
   "metadata": {
    "id": "xya43yK18nLc"
   },
   "outputs": [],
   "source": [
    "#__IMPORTAMOS TODAS LAS LIBRERIAS NECESARIAS__\n",
    "import pandas as pd\n",
    "import csv\n",
    "import requests\n",
    "import re\n",
    "import ast\n",
    "import matplotlib\n",
    "import matplotlib.pyplot as plt\n",
    "from datetime import datetime, timedelta\n",
    "import sys\n",
    "import numpy as np\n"
   ]
  },
  {
   "cell_type": "code",
   "execution_count": 27,
   "id": "CgTgAzhn9goW",
   "metadata": {
    "colab": {
     "base_uri": "https://localhost:8080/",
     "height": 184
    },
    "id": "CgTgAzhn9goW",
    "outputId": "86d0b8eb-8ef3-4aa4-ca7d-93912585f86c"
   },
   "outputs": [
    {
     "name": "stdout",
     "output_type": "stream",
     "text": [
      "True\n",
      "200\n",
      "0:00:00.378243\n"
     ]
    },
    {
     "data": {
      "text/plain": [
       "'{\\n \"1\": \"1 is the number of dimensions of a line.\",\\n \"2\": \"2 is the number of polynucleotide strands in a DNA double helix.\",\\n \"3\": \"3 is number of performers in a trio.\",\\n \"4\": \"4 is the number of movements in a symphony.\",\\n \"5\": \"5 is the number of Justices on the Supreme Court of the United States necessary to render a majority decision.\",\\n \"6\": \"6 is the jersey number worn by the starting stand-off half/five-eighth in most rugby league competitions.\",\\n \"7\": \"7 is the number of days in a week.\",\\n \"8\": \"8 is the number of planets in the Solar System.\",\\n \"9\": \"9 is the number of innings in a regulation, non-tied game of baseball.\",\\n \"10\": \"10 is the Number of dots in a tetractys.\",\\n \"11\": \"11 is the number of pounds one gallon of pure maple syrup weighs.\",\\n \"12\": \"12 is the number of function keys on most PC keyboards (F1 through F12).\",\\n \"13\": \"13 is the speed of rush hour traffic on average in kilometres per hour in London.\",\\n \"14\": \"14 is the number of muqatta\\'at in the Qur\\'an.\",\\n \"15\": \"15 is the age for obtaining a driver\\'s (or learner\\'s) permit in certain jurisdictions, including some where the age for a driver\\'s license is sixteen.\",\\n \"16\": \"16 is the number of personality types in the Myers-Briggs classification system.\",\\n \"17\": \"17 is the maximum number of strokes of a Chinese radical.\",\\n \"18\": \"18 is the number of holes in a stipulated round of golf.\",\\n \"19\": \"19 is the final year a person is a teenager.\",\\n \"20\": \"20 is the number of ounces in Venti size coffees at Starbucks coffee shops.\",\\n \"21\": \"21 is the number of demands which were sent to the Chinese government by the Japanese government of Okuma Shigenobu in 1915.\",\\n \"22\": \"22 is the typical (minimum) number of episodes in a season for a television program broadcast on a major American network.\",\\n \"23\": \"23 is the number of chromosomes normal human sex cells have.\",\\n \"24\": \"24 is the number of carats representing 100% pure gold.\",\\n \"25\": \"25 is the number of years of marriage marked in a silver wedding anniversary.\",\\n \"26\": \"26 is the number of spacetime dimensions in bosonic string theory.\",\\n \"27\": \"27 is the total number of letters in the Hebrew alphabet (22 regular letters and 5 final consonants).\",\\n \"28\": \"28 is the number of dominoes in standard domino sets.\",\\n \"29\": \"29 is the highest possible score in a hand of Cribbage or Khanhoo.\",\\n \"30\": \"30 is the duration in years of the Thirty Years\\' War - 1618 to 1648.\",\\n \"31\": \"31 is the number of musical triads (12 major, 12 minor, 4 diminished, and 3 augmented).\",\\n \"32\": \"32 is the number of teeth of a full set of teeth in an adult human, including wisdom teeth.\",\\n \"33\": \"33 is the temperature at which water boils according to the Newton scale.\",\\n \"34\": \"34 is the lucky number of Victor Pelevin\\'s protagonist Stepan Mikhailov in the novel Numbers.\",\\n \"35\": \"35 is the percentage of all bingo players are under the age of 35.\",\\n \"36\": \"36 is the number of vehicles that run in each race of NASCAR\\'s Camping World Truck Series.\",\\n \"37\": \"37 is the number of slots in European Roulette (numbered 0 through 36, the 00 is not used in European roulette as it is in American roulette).\",\\n \"38\": \"38 is the number of slots on an American Roulette wheel (0, 00, and 1 through 36; European roulette does not use the 00 slot and has only 37 slots).\",\\n \"39\": \"39 is the number of mentions of work or labor in the Torah.\",\\n \"40\": \"40 is the number of years of marriage as the ruby wedding anniversary.\",\\n \"41\": \"41 is the age at which writer/director Tom Graeff (of Teenagers from Outer Space fame) committed suicide.\",\\n \"42\": \"42 is the number of US gallons in a barrel of oil.\",\\n \"43\": \"43 is the maximum number of cars participating in a NASCAR race in the Cup Series or Nationwide Series.\",\\n \"44\": \"44 is the number of candles in a box of Hanukkah candles.\",\\n \"45\": \"45 is the sapphire wedding anniversary in years of marriage.\",\\n \"46\": \"46 is the number of mountains in the 46 peaks of the Adirondack mountain range.\",\\n \"47\": \"47 is the number of phonemes in English phonology in Received Pronunciation.\",\\n \"48\": \"48 is the number of Ptolemaic constellations.\",\\n \"49\": \"49 is the number of days and night Siddhartha Gautama spent meditating as a holy man.\",\\n \"50\": \"50 is the gold or \\\\\"golden\\\\\" wedding anniversary in years of marriage.\",\\n \"51\": \"51 is the atomic number of antimony.\",\\n \"52\": \"52 is the number of white keys (notes in the C major scale).\",\\n \"53\": \"53 is the port number of UDP and TCP for the Domain Name System protocol.\",\\n \"54\": \"54 is the number of cards in a deck of playing cards, if two jokers are included.\",\\n \"55\": \"55 is the percentage of movies released that are Rated R.\",\\n \"56\": \"56 is the number of consecutive games in baseball in which New York Yankees\\' Joe DiMaggio had a base hit in 1941, still a record.\",\\n \"57\": \"57 is the number of people at 20th Century Fox Studios died amid rioting and suicide.\",\\n \"58\": \"58 is the number of counties in California.\",\\n \"59\": \"59 is the number on a button commonly worn by feminist activists in the 1970s (based on the claim that a woman earned 59 cents to an equally qualified man\\'s dollar).\",\\n \"60\": \"60 is the number of minutes in an hour.\",\\n \"61\": \"61 is the number of points required to win a \\\\\"standard\\\\\" game of Cribbage.\",\\n \"62\": \"62 is the atomic number of samarium.\",\\n \"63\": \"63 is the number of groats in a guinea in British pre-decimal currency.\",\\n \"64\": \"64 is the total number of black and white squares on the game board in chess or draughts.\",\\n \"65\": \"65 is the traditional age for retirement in the United Kingdom, Germany and other countries.\",\\n \"66\": \"66 is the total number of books in the Protestant edition of the Bible (Old Testament and New Testament) combined.\",\\n \"67\": \"67 is the number of counties in Florida.\",\\n \"68\": \"68 is the number of sectors on one cylinder of MFM hard disks with 4 heads and 17 sectors per track.\",\\n \"69\": \"69 is the number Bill and Ted were thinking of when talking to their future selves.\",\\n \"70\": \"70 is the distance (meter) from archer to targets in Olympic Archery.\",\\n \"71\": \"71 is the number of different characters that can be used with a standard English Keyboard, excluding uppercase letters.\",\\n \"72\": \"72 is the standard resolution of an Apple Macintosh screen in dots per inch.\",\\n \"73\": \"73 is the favorite number of The Big Bang Theory\\'s character Sheldon Cooper.\",\\n \"74\": \"74 is the atomic number of tungsten.\",\\n \"75\": \"75 is the age limit for Canadian senators.\",\\n \"76\": \"76 is the atomic number of osmium.\",\\n \"77\": \"77 is the atomic number of iridium.\",\\n \"78\": \"78 is the atomic number of platinum.\",\\n \"79\": \"79 is the record for cumulative weeks at #1 on the Billboard charts, held by Elvis Presley.\",\\n \"80\": \"80 is the length (years) of the Eighty Years\\' War (1568–1648).\",\\n \"81\": \"81 is the number of stanzas or chapters in the Tao te Ching (in the most common arrangements).\",\\n \"82\": \"82 is the number of games in an NBA or NHL regular season.\",\\n \"83\": \"83 is the highest UHF channel on older televisions made before the late 1970s.\",\\n \"84\": \"84 is the code for international direct dial phone calls to Vietnam.\",\\n \"85\": \"85 is the atomic number of astatine.\",\\n \"86\": \"86 is the device number for a lockout relay function in electrical circuit protection schemes.\",\\n \"87\": \"87 is the number of tools in the Wenger Swiss Army Knife version XXL, listed in the Guinness Book of World Records as the world\\'s most multi-functional penknife.\",\\n \"88\": \"88 is the pounds of oxygen that the adult human body requires daily.\",\\n \"89\": \"89 is the number of units of each colour in the board game Blokus.\",\\n \"90\": \"90 is the latitude of the North Pole and the South Pole.\",\\n \"91\": \"91 is the atomic number of protactinium.\",\\n \"92\": \"92 is the number of stories in the Xujiahui Tower proposed to be built in Shanghai, China.\",\\n \"93\": \"93 is that approximate distance in millions of miles the Sun is away from the Earth.\",\\n \"94\": \"94 is the length of an NBA court in feet.\",\\n \"95\": \"95 is the NBA record for Most Assists in a 7-game playoff series (by Magic Johnson of the Los Angeles Lakers in 1984).\",\\n \"96\": \"96 is the rating of Skyrim on metacritic.com.\",\\n \"97\": \"97 is the number of minutes it takes the Hubble space telescope to complete an orbit around the Earth.\",\\n \"98\": \"98 is the temperature (F) of the normal body.\",\\n \"99\": \"99 is the highest jersey number allowed in most major league sports.\",\\n \"100\": \"100 is the number of yards in an American football field (not including the end zones).\"\\n}'"
      ]
     },
     "execution_count": 27,
     "metadata": {},
     "output_type": "execute_result"
    }
   ],
   "source": [
    "# 1.- Consumir la API http://numbersapi.com/1..10\n",
    "APIurl = \"http://numbersapi.com/1..10000\"\n",
    "APIresp = requests.get(APIurl)\n",
    "print(APIresp.ok)\n",
    "print(APIresp.status_code)\n",
    "print(APIresp.elapsed)\n",
    "APIresp.text"
   ]
  },
  {
   "cell_type": "code",
   "execution_count": 28,
   "id": "yQ79xm6kHTuT",
   "metadata": {
    "colab": {
     "base_uri": "https://localhost:8080/",
     "height": 423
    },
    "id": "yQ79xm6kHTuT",
    "outputId": "021bddca-ed95-44ff-b1a0-9d04b8d75134"
   },
   "outputs": [
    {
     "data": {
      "text/html": [
       "<div>\n",
       "<style scoped>\n",
       "    .dataframe tbody tr th:only-of-type {\n",
       "        vertical-align: middle;\n",
       "    }\n",
       "\n",
       "    .dataframe tbody tr th {\n",
       "        vertical-align: top;\n",
       "    }\n",
       "\n",
       "    .dataframe thead th {\n",
       "        text-align: right;\n",
       "    }\n",
       "</style>\n",
       "<table border=\"1\" class=\"dataframe\">\n",
       "  <thead>\n",
       "    <tr style=\"text-align: right;\">\n",
       "      <th></th>\n",
       "      <th>Number</th>\n",
       "      <th>Description</th>\n",
       "    </tr>\n",
       "  </thead>\n",
       "  <tbody>\n",
       "    <tr>\n",
       "      <th>0</th>\n",
       "      <td>1</td>\n",
       "      <td>1 is the number of dimensions of a line.</td>\n",
       "    </tr>\n",
       "    <tr>\n",
       "      <th>1</th>\n",
       "      <td>2</td>\n",
       "      <td>2 is the number of polynucleotide strands in a...</td>\n",
       "    </tr>\n",
       "    <tr>\n",
       "      <th>2</th>\n",
       "      <td>3</td>\n",
       "      <td>3 is number of performers in a trio.</td>\n",
       "    </tr>\n",
       "    <tr>\n",
       "      <th>3</th>\n",
       "      <td>4</td>\n",
       "      <td>4 is the number of movements in a symphony.</td>\n",
       "    </tr>\n",
       "    <tr>\n",
       "      <th>4</th>\n",
       "      <td>5</td>\n",
       "      <td>5 is the number of Justices on the Supreme Cou...</td>\n",
       "    </tr>\n",
       "    <tr>\n",
       "      <th>...</th>\n",
       "      <td>...</td>\n",
       "      <td>...</td>\n",
       "    </tr>\n",
       "    <tr>\n",
       "      <th>95</th>\n",
       "      <td>96</td>\n",
       "      <td>96 is the rating of Skyrim on metacritic.com.</td>\n",
       "    </tr>\n",
       "    <tr>\n",
       "      <th>96</th>\n",
       "      <td>97</td>\n",
       "      <td>97 is the number of minutes it takes the Hubbl...</td>\n",
       "    </tr>\n",
       "    <tr>\n",
       "      <th>97</th>\n",
       "      <td>98</td>\n",
       "      <td>98 is the temperature (F) of the normal body.</td>\n",
       "    </tr>\n",
       "    <tr>\n",
       "      <th>98</th>\n",
       "      <td>99</td>\n",
       "      <td>99 is the highest jersey number allowed in mos...</td>\n",
       "    </tr>\n",
       "    <tr>\n",
       "      <th>99</th>\n",
       "      <td>100</td>\n",
       "      <td>100 is the number of yards in an American foot...</td>\n",
       "    </tr>\n",
       "  </tbody>\n",
       "</table>\n",
       "<p>100 rows × 2 columns</p>\n",
       "</div>"
      ],
      "text/plain": [
       "   Number                                        Description\n",
       "0       1           1 is the number of dimensions of a line.\n",
       "1       2  2 is the number of polynucleotide strands in a...\n",
       "2       3               3 is number of performers in a trio.\n",
       "3       4        4 is the number of movements in a symphony.\n",
       "4       5  5 is the number of Justices on the Supreme Cou...\n",
       "..    ...                                                ...\n",
       "95     96      96 is the rating of Skyrim on metacritic.com.\n",
       "96     97  97 is the number of minutes it takes the Hubbl...\n",
       "97     98      98 is the temperature (F) of the normal body.\n",
       "98     99  99 is the highest jersey number allowed in mos...\n",
       "99    100  100 is the number of yards in an American foot...\n",
       "\n",
       "[100 rows x 2 columns]"
      ]
     },
     "execution_count": 28,
     "metadata": {},
     "output_type": "execute_result"
    }
   ],
   "source": [
    "# 2.- Crear un dataFrame con los 1000 primeros números y descripciones\n",
    "x = ast.literal_eval(APIresp.text)\n",
    "\n",
    "# 3.- Grabar la tabla en formato CSV\n",
    "# 4.- Crear nueva columna con la longitud de la descripcion\n",
    "df = pd.DataFrame([[key, x[key]] for key in x.keys()], columns=['Number', 'Description'])\n",
    "df"
   ]
  },
  {
   "cell_type": "code",
   "execution_count": 29,
   "id": "aJqzqbT_QSPK",
   "metadata": {
    "colab": {
     "base_uri": "https://localhost:8080/",
     "height": 534
    },
    "id": "aJqzqbT_QSPK",
    "outputId": "ffd6c066-04f9-4c72-dda5-3b37cad71886"
   },
   "outputs": [
    {
     "name": "stdout",
     "output_type": "stream",
     "text": [
      "numero         object\n",
      "descripcion    object\n",
      "dtype: object\n",
      "numero         float64\n",
      "descripcion     object\n",
      "dtype: object\n"
     ]
    },
    {
     "data": {
      "text/html": [
       "<div>\n",
       "<style scoped>\n",
       "    .dataframe tbody tr th:only-of-type {\n",
       "        vertical-align: middle;\n",
       "    }\n",
       "\n",
       "    .dataframe tbody tr th {\n",
       "        vertical-align: top;\n",
       "    }\n",
       "\n",
       "    .dataframe thead th {\n",
       "        text-align: right;\n",
       "    }\n",
       "</style>\n",
       "<table border=\"1\" class=\"dataframe\">\n",
       "  <thead>\n",
       "    <tr style=\"text-align: right;\">\n",
       "      <th></th>\n",
       "      <th>numero</th>\n",
       "      <th>descripcion</th>\n",
       "    </tr>\n",
       "  </thead>\n",
       "  <tbody>\n",
       "    <tr>\n",
       "      <th>0</th>\n",
       "      <td>1.0</td>\n",
       "      <td>1 is the number of dimensions of a line.</td>\n",
       "    </tr>\n",
       "    <tr>\n",
       "      <th>1</th>\n",
       "      <td>2.0</td>\n",
       "      <td>2 is the number of polynucleotide strands in a...</td>\n",
       "    </tr>\n",
       "    <tr>\n",
       "      <th>2</th>\n",
       "      <td>3.0</td>\n",
       "      <td>3 is number of performers in a trio.</td>\n",
       "    </tr>\n",
       "    <tr>\n",
       "      <th>3</th>\n",
       "      <td>4.0</td>\n",
       "      <td>4 is the number of movements in a symphony.</td>\n",
       "    </tr>\n",
       "    <tr>\n",
       "      <th>4</th>\n",
       "      <td>5.0</td>\n",
       "      <td>5 is the number of Justices on the Supreme Cou...</td>\n",
       "    </tr>\n",
       "    <tr>\n",
       "      <th>...</th>\n",
       "      <td>...</td>\n",
       "      <td>...</td>\n",
       "    </tr>\n",
       "    <tr>\n",
       "      <th>95</th>\n",
       "      <td>96.0</td>\n",
       "      <td>96 is the rating of Skyrim on metacritic.com.</td>\n",
       "    </tr>\n",
       "    <tr>\n",
       "      <th>96</th>\n",
       "      <td>97.0</td>\n",
       "      <td>97 is the number of minutes it takes the Hubbl...</td>\n",
       "    </tr>\n",
       "    <tr>\n",
       "      <th>97</th>\n",
       "      <td>98.0</td>\n",
       "      <td>98 is the temperature (F) of the normal body.</td>\n",
       "    </tr>\n",
       "    <tr>\n",
       "      <th>98</th>\n",
       "      <td>99.0</td>\n",
       "      <td>99 is the highest jersey number allowed in mos...</td>\n",
       "    </tr>\n",
       "    <tr>\n",
       "      <th>99</th>\n",
       "      <td>100.0</td>\n",
       "      <td>100 is the number of yards in an American foot...</td>\n",
       "    </tr>\n",
       "  </tbody>\n",
       "</table>\n",
       "<p>100 rows × 2 columns</p>\n",
       "</div>"
      ],
      "text/plain": [
       "    numero                                        descripcion\n",
       "0      1.0           1 is the number of dimensions of a line.\n",
       "1      2.0  2 is the number of polynucleotide strands in a...\n",
       "2      3.0               3 is number of performers in a trio.\n",
       "3      4.0        4 is the number of movements in a symphony.\n",
       "4      5.0  5 is the number of Justices on the Supreme Cou...\n",
       "..     ...                                                ...\n",
       "95    96.0      96 is the rating of Skyrim on metacritic.com.\n",
       "96    97.0  97 is the number of minutes it takes the Hubbl...\n",
       "97    98.0      98 is the temperature (F) of the normal body.\n",
       "98    99.0  99 is the highest jersey number allowed in mos...\n",
       "99   100.0  100 is the number of yards in an American foot...\n",
       "\n",
       "[100 rows x 2 columns]"
      ]
     },
     "execution_count": 29,
     "metadata": {},
     "output_type": "execute_result"
    }
   ],
   "source": [
    "# Rename dataFrame columns\n",
    "df.rename( columns={\"Number\" :'numero'}, inplace=True)\n",
    "df.rename( columns={\"Description\" :'descripcion'}, inplace=True)\n",
    "\n",
    "# Convert string to float\n",
    "print (df.dtypes)\n",
    "df.numero = df.numero.astype(float)\n",
    "print (df.dtypes)\n",
    "\n",
    "df"
   ]
  },
  {
   "cell_type": "code",
   "execution_count": 25,
   "id": "b8961e15",
   "metadata": {},
   "outputs": [
    {
     "data": {
      "text/plain": [
       "[40,\n",
       " 131,\n",
       " 71,\n",
       " 63,\n",
       " 47,\n",
       " 69,\n",
       " 78,\n",
       " 44,\n",
       " 70,\n",
       " 60,\n",
       " 97,\n",
       " 52,\n",
       " 41,\n",
       " 38,\n",
       " 61,\n",
       " 137,\n",
       " 69,\n",
       " 57,\n",
       " 43,\n",
       " 75,\n",
       " 94,\n",
       " 70,\n",
       " 52,\n",
       " 73,\n",
       " 77,\n",
       " 61,\n",
       " 101,\n",
       " 62,\n",
       " 68,\n",
       " 119,\n",
       " 87,\n",
       " 85,\n",
       " 73,\n",
       " 93,\n",
       " 81,\n",
       " 90,\n",
       " 142,\n",
       " 145,\n",
       " 122,\n",
       " 108,\n",
       " 100,\n",
       " 80,\n",
       " 103,\n",
       " 57,\n",
       " 60,\n",
       " 98,\n",
       " 111,\n",
       " 45,\n",
       " 85,\n",
       " 58,\n",
       " 36,\n",
       " 60,\n",
       " 66,\n",
       " 60,\n",
       " 115,\n",
       " 111,\n",
       " 85,\n",
       " 81,\n",
       " 165,\n",
       " 50,\n",
       " 73,\n",
       " 63,\n",
       " 79,\n",
       " 84,\n",
       " 92,\n",
       " 86,\n",
       " 131,\n",
       " 100,\n",
       " 49,\n",
       " 77,\n",
       " 120,\n",
       " 70,\n",
       " 79,\n",
       " 36,\n",
       " 99,\n",
       " 34,\n",
       " 35,\n",
       " 36,\n",
       " 91,\n",
       " 62,\n",
       " 53,\n",
       " 32,\n",
       " 35,\n",
       " 36,\n",
       " 46,\n",
       " 94,\n",
       " 161,\n",
       " 76,\n",
       " 36,\n",
       " 56,\n",
       " 66,\n",
       " 90,\n",
       " 37,\n",
       " 37,\n",
       " 105,\n",
       " 45,\n",
       " 102,\n",
       " 134,\n",
       " 53,\n",
       " 63]"
      ]
     },
     "execution_count": 25,
     "metadata": {},
     "output_type": "execute_result"
    }
   ],
   "source": [
    "lenDescrip = []\n",
    "for i in df['descripcion']:\n",
    "    lenDescrip.append(len(i))\n",
    "lenDescrip"
   ]
  },
  {
   "cell_type": "code",
   "execution_count": 31,
   "id": "57983370",
   "metadata": {},
   "outputs": [
    {
     "data": {
      "image/png": "[encoded data removed]",
      "text/plain": [
       "<Figure size 432x288 with 1 Axes>"
      ]
     },
     "metadata": {},
     "output_type": "display_data"
    }
   ],
   "source": [
    "plt.style.use('ggplot')\n",
    "plt.hist(lenDescrip, bins=10)\n",
    "plt.show()"
   ]
  },
  {
   "cell_type": "code",
   "execution_count": 35,
   "id": "6a0982e8",
   "metadata": {},
   "outputs": [
    {
     "data": {
      "image/png": "[encoded data removed]",
      "text/plain": [
       "<Figure size 432x288 with 1 Axes>"
      ]
     },
     "metadata": {},
     "output_type": "display_data"
    }
   ],
   "source": [
    "plt.hist(lenDescrip, bins=20)\n",
    "plt.show()"
   ]
  },
  {
   "cell_type": "code",
   "execution_count": 37,
   "id": "ObfAKS5mUk1S",
   "metadata": {
    "id": "ObfAKS5mUk1S"
   },
   "outputs": [],
   "source": [
    "# Grabamos el resultado como CSV separado por comas\n",
    "CSVfilename = \"numbers1000.csv\"\n",
    "df.to_csv(CSVfilename, index=False)"
   ]
  }
 ],
 "metadata": {
  "colab": {
   "provenance": []
  },
  "kernelspec": {
   "display_name": "Python 3",
   "language": "python",
   "name": "python3"
  },
  "language_info": {
   "codemirror_mode": {
    "name": "ipython",
    "version": 3
   },
   "file_extension": ".py",
   "mimetype": "text/x-python",
   "name": "python",
   "nbconvert_exporter": "python",
   "pygments_lexer": "ipython3",
   "version": "3.8.8"
  },
  "vscode": {
   "interpreter": {
    "hash": "5beeed5a7ffdc4b4a0108c0b3292efe9a775794c700b606d5e33717d9ba16765"
   }
  }
 },
 "nbformat": 4,
 "nbformat_minor": 5
}
