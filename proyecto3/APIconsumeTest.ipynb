{
  "cells": [
    {
      "cell_type": "markdown",
      "id": "a2f08eb6",
      "metadata": {
        "id": "a2f08eb6"
      },
      "source": [
        "                                        Consumo de APIs - Resultado en tabla plana"
      ]
    },
    {
      "cell_type": "markdown",
      "id": "19259af0",
      "metadata": {
        "id": "19259af0"
      },
      "source": [
        "Test:\n",
        "\n",
        "1.- Consumir la API http://numbersapi.com/1..10\n",
        "\n",
        "2.- Crear un dataFrame con los 1000 primeros números y descripciones\n",
        "\n",
        "3.- Grabar la tabla en formato CSV\n",
        "\n",
        "4.- Crear nueva columna con la longitud de la descripcion\n",
        "\n",
        "5.- Mostrar en un histograma la distribución de longitudes de descripción\n"
      ]
    },
    {
      "cell_type": "code",
      "execution_count": 17,
      "id": "xya43yK18nLc",
      "metadata": {
        "id": "xya43yK18nLc"
      },
      "outputs": [],
      "source": [
        "#__IMPORTAMOS TODAS LAS LIBRERIAS NECESARIAS__\n",
        "import pandas as pd\n",
        "import csv\n",
        "import requests\n",
        "import re\n",
        "import ast\n",
        "import matplotlib\n",
        "import matplotlib.pyplot as plt\n",
        "from datetime import datetime, timedelta"
      ]
    },
    {
      "cell_type": "code",
      "execution_count": 18,
      "id": "CgTgAzhn9goW",
      "metadata": {
        "colab": {
          "base_uri": "https://localhost:8080/",
          "height": 184
        },
        "id": "CgTgAzhn9goW",
        "outputId": "86d0b8eb-8ef3-4aa4-ca7d-93912585f86c"
      },
      "outputs": [
        {
          "name": "stdout",
          "output_type": "stream",
          "text": [
            "True\n",
            "200\n",
            "0:00:00.307828\n"
          ]
        },
        {
          "data": {
            "text/plain": [
              "'{\\n \"1\": \"1 is the number of moons orbiting Earth.\",\\n \"2\": \"2 is the lowest channel of television in the United States, Canada, Argentina and Mexico on which television signals are broadcast.\",\\n \"3\": \"3 is the number of novels or films in a trilogy and the number of interconnected works of art in a triptych.\",\\n \"4\": \"4 is the number of nucleobase types in DNA and RNA – adenine, guanine, cytosine, thymine (uracil in RNA).\",\\n \"5\": \"5 is the number of permanent members with veto power on the United Nations Security Council.\",\\n \"6\": \"6 is the number of fundamental flight instruments lumped together on a cockpit display.\",\\n \"7\": \"7 is the approximate number of years in the lifespan of Irish Wolfhound dogs.\",\\n \"8\": \"8 is the number of planets in the Solar System.\",\\n \"9\": \"9 is the number of innings in a regulation, non-tied game of baseball.\",\\n \"10\": \"10 is the number of letters used in the traditional Snellen chart.\",\\n \"11\": \"11 is the possible age of the youngest elected pope, Benedict IX.\",\\n \"12\": \"12 is the number of months in a year.\",\\n \"13\": \"13 is the Youngest age a minor can rent or purchase a T rated game by the ESRB without parental (age 18 or older) consent.\",\\n \"14\": \"14 is the number of pounds in a stone in traditional British units of weight.\",\\n \"15\": \"15 is the number of minutes carbon monoxide can kill a person in.\",\\n \"16\": \"16 is the number of teams that qualified for the finals of the FIFA World Cup from 1934 through 1978 (although for various reasons, only 15 competed in the 1938 and 1950 finals).\",\\n \"17\": \"17 is the number of flames emanating from the grenade cap-badge of the Grenadier Guards.\",\\n \"18\": \"18 is the number of chapters into which James Joyce\\'s epic novel Ulysses is divided.\",\\n \"19\": \"19 is the final year a person is a teenager.\",\\n \"20\": \"20 is the number of baby teeth in the deciduous dentition.\",\\n \"21\": \"21 is the number of demands which were sent to the Chinese government by the Japanese government of Okuma Shigenobu in 1915.\",\\n \"22\": \"22 is the number of yards in a chain.\",\\n \"23\": \"23 is the number of crosses on Calvary in the Monty Python film Life Of Brian.\",\\n \"24\": \"24 is the number of hours in a day.\",\\n \"25\": \"25 is the number of years of marriage marked in a silver wedding anniversary.\",\\n \"26\": \"26 is the number of Cantons of Switzerland.\",\\n \"27\": \"27 is the total number of letters in the Spanish alphabet (5 vowels and 22 consonants).\",\\n \"28\": \"28 is the average number of minutes in a day that kids in the U.S. between the ages of 2 - 8 spend coloring.\",\\n \"29\": \"29 is the number of Knuts in one Sickle in the fictional currency in the Harry Potter novels.\",\\n \"30\": \"30 is the minimum age for United States senators.\",\\n \"31\": \"31 is the number of days in the months January, March, May, July, August, October and December.\",\\n \"32\": \"32 is the number of teeth of a full set of teeth in an adult human, including wisdom teeth.\",\\n \"33\": \"33 is the number of workers trapped, and also the number of survivors of the 2010 Copiapó mining accident.\",\\n \"34\": \"34 is the lucky number of Victor Pelevin\\'s protagonist Stepan Mikhailov in the novel Numbers.\",\\n \"35\": \"35 is the minimum age of candidates for election to the United States Presidency.\",\\n \"36\": \"36 is the number of vehicles that run in each race of NASCAR\\'s Camping World Truck Series.\",\\n \"37\": \"37 is the number of plays William Shakespeare is thought to have written (counting Henry IV as three parts).\",\\n \"38\": \"38 is the number of years it took the Israelites to travel from Kadesh Barnea to the Zered valley in Deuteronomy.\",\\n \"39\": \"39 is the number of signers to the United States Constitution, out of 55 members of the Philadelphia Convention delegates.\",\\n \"40\": \"40 is the number of weeks for an average term of pregnancy, counting from the woman’s last menstrual period.\",\\n \"41\": \"41 is the number of times Paul McCartney sings the phrase \\\\\"Let It Be\\\\\" in the Beatles\\' hit Let It Be.\",\\n \"42\": \"42 is the number of US gallons in a barrel of oil.\",\\n \"43\": \"43 is the maximum number of cars participating in a NASCAR race in the Cup Series or Nationwide Series.\",\\n \"44\": \"44 is the percentage of kids who watch television before they go to sleep in the US.\",\\n \"45\": \"45 is the sapphire wedding anniversary in years of marriage.\",\\n \"46\": \"46 is the number of mountains in the 46 peaks of the Adirondack mountain range.\",\\n \"47\": \"47 is the number of phonemes in English phonology in Received Pronunciation.\",\\n \"48\": \"48 is the number of Ptolemaic constellations.\",\\n \"49\": \"49 is the number of days and night Siddhartha Gautama spent meditating as a holy man.\",\\n \"50\": \"50 is the traditional number of years in a jubilee period.\",\\n \"51\": \"51 is the atomic number of antimony.\",\\n \"52\": \"52 is the number of cards in a standard deck of playing cards, not counting Jokers or advertisement cards.\",\\n \"53\": \"53 is the port number of UDP and TCP for the Domain Name System protocol.\",\\n \"54\": \"54 is the score in golf colloquially referred to as a perfect round.\",\\n \"55\": \"55 is the number of Delegates who attended the United States Constitutional Convention in 1787.\",\\n \"56\": \"56 is the number of Aubrey Holes in the first stage of Stonehenge.\",\\n \"57\": \"57 is the number of cm that the smallest man measured, Gul Mohammed (1957-1997) of India.\",\\n \"58\": \"58 is the number of counties in California.\",\\n \"59\": \"59 is the number corresponding to the last second in a given minute.\",\\n \"60\": \"60 is the number of miles polar bears have been known to swim without a rest.\",\\n \"61\": \"61 is the code for international direct dial phone calls to Australia.\",\\n \"62\": \"62 is the number which Sigmund Freud has an irrational fear of.\",\\n \"63\": \"63 is the number of chromosomes found in the offspring of a donkey and a horse.\",\\n \"64\": \"64 is the total number of black and white squares on the game board in chess or draughts.\",\\n \"65\": \"65 is the traditional age for retirement in the United Kingdom, Germany and other countries.\",\\n \"66\": \"66 is the number of years of the longest hiccups on record by an American pig farmer from 1922 to 1987.\",\\n \"67\": \"67 is the number of throws in Judo.\",\\n \"68\": \"68 is the number of sectors on one cylinder of MFM hard disks with 4 heads and 17 sectors per track.\",\\n \"69\": \"69 is the number Bill and Ted were thinking of when talking to their future selves.\",\\n \"70\": \"70 is the distance (meter) from archer to targets in Olympic Archery.\",\\n \"71\": \"71 is the atomic number of lutetium.\",\\n \"72\": \"72 is the record number of victories in an NBA season (1995-96 Chicago Bulls).\",\\n \"73\": \"73 is the favorite number of The Big Bang Theory\\'s character Sheldon Cooper.\",\\n \"74\": \"74 is the number of stars obtained by SpongeBob SquarePants in his driving school.\",\\n \"75\": \"75 is the age in years that the Saguaro Cactus, found in southwestern US, must be to grow branches.\",\\n \"76\": \"76 is the atomic number of osmium.\",\\n \"77\": \"77 is the atomic number of iridium.\",\\n \"78\": \"78 is the atomic number of platinum.\",\\n \"79\": \"79 is the record for cumulative weeks at #1 on the Billboard charts, held by Elvis Presley.\",\\n \"80\": \"80 is a common limit for the characters per line in computing (derived from the number of columns in IBM cards).\",\\n \"81\": \"81 is the number of stanzas or chapters in the Tao te Ching (in the most common arrangements).\",\\n \"82\": \"82 is the atomic number of lead.\",\\n \"83\": \"83 is the atomic number of bismuth.\",\\n \"84\": \"84 is the atomic number of polonium.\",\\n \"85\": \"85 is the IQ and nickname of Aaron in Alien 3.\",\\n \"86\": \"86 is the device number for a lockout relay function in electrical circuit protection schemes.\",\\n \"87\": \"87 is the number of tools in the Wenger Swiss Army Knife version XXL, listed in the Guinness Book of World Records as the world\\'s most multi-functional penknife.\",\\n \"88\": \"88 is the approximate number of days it takes Mercury to complete its orbit.\",\\n \"89\": \"89 is the atomic number of actinium.\",\\n \"90\": \"90 is the number of minutes in a football (soccer) match.\",\\n \"91\": \"91 is the atomic number of protactinium.\",\\n \"92\": \"92 is the number of letters in the longest place name: Taumatawhakatangihangakoauauotamateaurehaeaturipukakapikimaungahoronukupokaiwhenuakitanatahu.\",\\n \"93\": \"93 is that approximate distance in millions of miles the Sun is away from the Earth.\",\\n \"94\": \"94 is the length of an NBA court in feet.\",\\n \"95\": \"95 is the atomic number of americium.\",\\n \"96\": \"96 is the rating of Skyrim on metacritic.com.\",\\n \"97\": \"97 is the number of different characters that can be used with a standard English Keyboard.\",\\n \"98\": \"98 is the highest jersey number allowed in the National Hockey League (as 99 was retired by the entire league to honor Wayne Gretzky).\",\\n \"99\": \"99 is a common price ending in psychological pricing.\",\\n \"100\": \"100 is the number of runs required for a cricket batsman to score a century, a significant milestone.\"\\n}'"
            ]
          },
          "execution_count": 18,
          "metadata": {},
          "output_type": "execute_result"
        }
      ],
      "source": [
        "# 1.- Consumir la API http://numbersapi.com/1..10\n",
        "APIurl = \"http://numbersapi.com/1..10000\"\n",
        "APIresp = requests.get(APIurl)\n",
        "print(APIresp.ok)\n",
        "print(APIresp.status_code)\n",
        "print(APIresp.elapsed)\n",
        "APIresp.text"
      ]
    },
    {
      "cell_type": "code",
      "execution_count": 19,
      "id": "yQ79xm6kHTuT",
      "metadata": {
        "colab": {
          "base_uri": "https://localhost:8080/",
          "height": 423
        },
        "id": "yQ79xm6kHTuT",
        "outputId": "021bddca-ed95-44ff-b1a0-9d04b8d75134"
      },
      "outputs": [
        {
          "data": {
            "text/html": [
              "<div>\n",
              "<style scoped>\n",
              "    .dataframe tbody tr th:only-of-type {\n",
              "        vertical-align: middle;\n",
              "    }\n",
              "\n",
              "    .dataframe tbody tr th {\n",
              "        vertical-align: top;\n",
              "    }\n",
              "\n",
              "    .dataframe thead th {\n",
              "        text-align: right;\n",
              "    }\n",
              "</style>\n",
              "<table border=\"1\" class=\"dataframe\">\n",
              "  <thead>\n",
              "    <tr style=\"text-align: right;\">\n",
              "      <th></th>\n",
              "      <th>Number</th>\n",
              "      <th>Description</th>\n",
              "    </tr>\n",
              "  </thead>\n",
              "  <tbody>\n",
              "    <tr>\n",
              "      <th>0</th>\n",
              "      <td>1</td>\n",
              "      <td>1 is the number of moons orbiting Earth.</td>\n",
              "    </tr>\n",
              "    <tr>\n",
              "      <th>1</th>\n",
              "      <td>2</td>\n",
              "      <td>2 is the lowest channel of television in the U...</td>\n",
              "    </tr>\n",
              "    <tr>\n",
              "      <th>2</th>\n",
              "      <td>3</td>\n",
              "      <td>3 is the number of novels or films in a trilog...</td>\n",
              "    </tr>\n",
              "    <tr>\n",
              "      <th>3</th>\n",
              "      <td>4</td>\n",
              "      <td>4 is the number of nucleobase types in DNA and...</td>\n",
              "    </tr>\n",
              "    <tr>\n",
              "      <th>4</th>\n",
              "      <td>5</td>\n",
              "      <td>5 is the number of permanent members with veto...</td>\n",
              "    </tr>\n",
              "    <tr>\n",
              "      <th>...</th>\n",
              "      <td>...</td>\n",
              "      <td>...</td>\n",
              "    </tr>\n",
              "    <tr>\n",
              "      <th>95</th>\n",
              "      <td>96</td>\n",
              "      <td>96 is the rating of Skyrim on metacritic.com.</td>\n",
              "    </tr>\n",
              "    <tr>\n",
              "      <th>96</th>\n",
              "      <td>97</td>\n",
              "      <td>97 is the number of different characters that ...</td>\n",
              "    </tr>\n",
              "    <tr>\n",
              "      <th>97</th>\n",
              "      <td>98</td>\n",
              "      <td>98 is the highest jersey number allowed in the...</td>\n",
              "    </tr>\n",
              "    <tr>\n",
              "      <th>98</th>\n",
              "      <td>99</td>\n",
              "      <td>99 is a common price ending in psychological p...</td>\n",
              "    </tr>\n",
              "    <tr>\n",
              "      <th>99</th>\n",
              "      <td>100</td>\n",
              "      <td>100 is the number of runs required for a crick...</td>\n",
              "    </tr>\n",
              "  </tbody>\n",
              "</table>\n",
              "<p>100 rows × 2 columns</p>\n",
              "</div>"
            ],
            "text/plain": [
              "   Number                                        Description\n",
              "0       1           1 is the number of moons orbiting Earth.\n",
              "1       2  2 is the lowest channel of television in the U...\n",
              "2       3  3 is the number of novels or films in a trilog...\n",
              "3       4  4 is the number of nucleobase types in DNA and...\n",
              "4       5  5 is the number of permanent members with veto...\n",
              "..    ...                                                ...\n",
              "95     96      96 is the rating of Skyrim on metacritic.com.\n",
              "96     97  97 is the number of different characters that ...\n",
              "97     98  98 is the highest jersey number allowed in the...\n",
              "98     99  99 is a common price ending in psychological p...\n",
              "99    100  100 is the number of runs required for a crick...\n",
              "\n",
              "[100 rows x 2 columns]"
            ]
          },
          "execution_count": 19,
          "metadata": {},
          "output_type": "execute_result"
        }
      ],
      "source": [
        "# 2.- Crear un dataFrame con los 1000 primeros números y descripciones\n",
        "x = ast.literal_eval(APIresp.text)\n",
        "\n",
        "# 3.- Grabar la tabla en formato CSV\n",
        "# 4.- Crear nueva columna con la longitud de la descripcion\n",
        "df = pd.DataFrame([[key, x[key]] for key in x.keys()], columns=['Number', 'Description'])\n",
        "df"
      ]
    },
    {
      "cell_type": "code",
      "execution_count": 20,
      "id": "aJqzqbT_QSPK",
      "metadata": {
        "colab": {
          "base_uri": "https://localhost:8080/",
          "height": 534
        },
        "id": "aJqzqbT_QSPK",
        "outputId": "ffd6c066-04f9-4c72-dda5-3b37cad71886"
      },
      "outputs": [
        {
          "name": "stdout",
          "output_type": "stream",
          "text": [
            "numero         object\n",
            "descripcion    object\n",
            "dtype: object\n",
            "numero         float64\n",
            "descripcion     object\n",
            "dtype: object\n"
          ]
        },
        {
          "data": {
            "text/html": [
              "<div>\n",
              "<style scoped>\n",
              "    .dataframe tbody tr th:only-of-type {\n",
              "        vertical-align: middle;\n",
              "    }\n",
              "\n",
              "    .dataframe tbody tr th {\n",
              "        vertical-align: top;\n",
              "    }\n",
              "\n",
              "    .dataframe thead th {\n",
              "        text-align: right;\n",
              "    }\n",
              "</style>\n",
              "<table border=\"1\" class=\"dataframe\">\n",
              "  <thead>\n",
              "    <tr style=\"text-align: right;\">\n",
              "      <th></th>\n",
              "      <th>numero</th>\n",
              "      <th>descripcion</th>\n",
              "    </tr>\n",
              "  </thead>\n",
              "  <tbody>\n",
              "    <tr>\n",
              "      <th>0</th>\n",
              "      <td>1.0</td>\n",
              "      <td>1 is the number of moons orbiting Earth.</td>\n",
              "    </tr>\n",
              "    <tr>\n",
              "      <th>1</th>\n",
              "      <td>2.0</td>\n",
              "      <td>2 is the lowest channel of television in the U...</td>\n",
              "    </tr>\n",
              "    <tr>\n",
              "      <th>2</th>\n",
              "      <td>3.0</td>\n",
              "      <td>3 is the number of novels or films in a trilog...</td>\n",
              "    </tr>\n",
              "    <tr>\n",
              "      <th>3</th>\n",
              "      <td>4.0</td>\n",
              "      <td>4 is the number of nucleobase types in DNA and...</td>\n",
              "    </tr>\n",
              "    <tr>\n",
              "      <th>4</th>\n",
              "      <td>5.0</td>\n",
              "      <td>5 is the number of permanent members with veto...</td>\n",
              "    </tr>\n",
              "    <tr>\n",
              "      <th>...</th>\n",
              "      <td>...</td>\n",
              "      <td>...</td>\n",
              "    </tr>\n",
              "    <tr>\n",
              "      <th>95</th>\n",
              "      <td>96.0</td>\n",
              "      <td>96 is the rating of Skyrim on metacritic.com.</td>\n",
              "    </tr>\n",
              "    <tr>\n",
              "      <th>96</th>\n",
              "      <td>97.0</td>\n",
              "      <td>97 is the number of different characters that ...</td>\n",
              "    </tr>\n",
              "    <tr>\n",
              "      <th>97</th>\n",
              "      <td>98.0</td>\n",
              "      <td>98 is the highest jersey number allowed in the...</td>\n",
              "    </tr>\n",
              "    <tr>\n",
              "      <th>98</th>\n",
              "      <td>99.0</td>\n",
              "      <td>99 is a common price ending in psychological p...</td>\n",
              "    </tr>\n",
              "    <tr>\n",
              "      <th>99</th>\n",
              "      <td>100.0</td>\n",
              "      <td>100 is the number of runs required for a crick...</td>\n",
              "    </tr>\n",
              "  </tbody>\n",
              "</table>\n",
              "<p>100 rows × 2 columns</p>\n",
              "</div>"
            ],
            "text/plain": [
              "    numero                                        descripcion\n",
              "0      1.0           1 is the number of moons orbiting Earth.\n",
              "1      2.0  2 is the lowest channel of television in the U...\n",
              "2      3.0  3 is the number of novels or films in a trilog...\n",
              "3      4.0  4 is the number of nucleobase types in DNA and...\n",
              "4      5.0  5 is the number of permanent members with veto...\n",
              "..     ...                                                ...\n",
              "95    96.0      96 is the rating of Skyrim on metacritic.com.\n",
              "96    97.0  97 is the number of different characters that ...\n",
              "97    98.0  98 is the highest jersey number allowed in the...\n",
              "98    99.0  99 is a common price ending in psychological p...\n",
              "99   100.0  100 is the number of runs required for a crick...\n",
              "\n",
              "[100 rows x 2 columns]"
            ]
          },
          "execution_count": 20,
          "metadata": {},
          "output_type": "execute_result"
        }
      ],
      "source": [
        "# Rename dataFrame columns\n",
        "df.rename( columns={\"Number\" :'numero'}, inplace=True)\n",
        "df.rename( columns={\"Description\" :'descripcion'}, inplace=True)\n",
        "\n",
        "# Convert string to float\n",
        "print (df.dtypes)\n",
        "df.numero = df.numero.astype(float)\n",
        "print (df.dtypes)\n",
        "\n",
        "df"
      ]
    },
    {
      "cell_type": "code",
      "execution_count": 22,
      "id": "b8961e15",
      "metadata": {},
      "outputs": [
        {
          "data": {
            "text/plain": [
              "[40,\n",
              " 131,\n",
              " 108,\n",
              " 105,\n",
              " 92,\n",
              " 87,\n",
              " 77,\n",
              " 47,\n",
              " 70,\n",
              " 66,\n",
              " 65,\n",
              " 37,\n",
              " 122,\n",
              " 77,\n",
              " 65,\n",
              " 178,\n",
              " 88,\n",
              " 84,\n",
              " 44,\n",
              " 58,\n",
              " 124,\n",
              " 37,\n",
              " 78,\n",
              " 35,\n",
              " 77,\n",
              " 43,\n",
              " 87,\n",
              " 108,\n",
              " 93,\n",
              " 49,\n",
              " 95,\n",
              " 91,\n",
              " 106,\n",
              " 93,\n",
              " 81,\n",
              " 90,\n",
              " 108,\n",
              " 113,\n",
              " 122,\n",
              " 108,\n",
              " 100,\n",
              " 50,\n",
              " 103,\n",
              " 84,\n",
              " 60,\n",
              " 79,\n",
              " 76,\n",
              " 45,\n",
              " 85,\n",
              " 58,\n",
              " 36,\n",
              " 106,\n",
              " 73,\n",
              " 68,\n",
              " 95,\n",
              " 66,\n",
              " 89,\n",
              " 43,\n",
              " 68,\n",
              " 77,\n",
              " 70,\n",
              " 63,\n",
              " 79,\n",
              " 89,\n",
              " 92,\n",
              " 103,\n",
              " 35,\n",
              " 100,\n",
              " 83,\n",
              " 69,\n",
              " 36,\n",
              " 78,\n",
              " 76,\n",
              " 82,\n",
              " 99,\n",
              " 34,\n",
              " 35,\n",
              " 36,\n",
              " 91,\n",
              " 112,\n",
              " 94,\n",
              " 32,\n",
              " 35,\n",
              " 36,\n",
              " 46,\n",
              " 94,\n",
              " 161,\n",
              " 76,\n",
              " 36,\n",
              " 57,\n",
              " 40,\n",
              " 148,\n",
              " 84,\n",
              " 41,\n",
              " 37,\n",
              " 45,\n",
              " 91,\n",
              " 134,\n",
              " 53,\n",
              " 101]"
            ]
          },
          "execution_count": 22,
          "metadata": {},
          "output_type": "execute_result"
        }
      ],
      "source": [
        "lenDescrip = []\n",
        "for i in df['descripcion']:\n",
        "    lenDescrip.append(len(i))\n",
        "lenDescrip"
      ]
    },
    {
      "cell_type": "code",
      "execution_count": 23,
      "id": "58lTi9OSUC4E",
      "metadata": {
        "colab": {
          "base_uri": "https://localhost:8080/",
          "height": 283
        },
        "id": "58lTi9OSUC4E",
        "outputId": "2ff35b66-731b-4fd9-9523-385a32b88c94"
      },
      "outputs": [
        {
          "data": {
            "text/plain": [
              "[<matplotlib.lines.Line2D at 0x271c2ada490>]"
            ]
          },
          "execution_count": 23,
          "metadata": {},
          "output_type": "execute_result"
        },
        {
          "data": {
            "image/png": "[encoded data removed]",
            "text/plain": [
              "<Figure size 432x288 with 1 Axes>"
            ]
          },
          "metadata": {
            "needs_background": "light"
          },
          "output_type": "display_data"
        }
      ],
      "source": [
        "# 5.- Mostrar en un histograma la distribución de longitudes de descripción\n",
        "plt.plot(df['numero'],lenDescrip)"
      ]
    },
    {
      "cell_type": "code",
      "execution_count": 8,
      "id": "ObfAKS5mUk1S",
      "metadata": {
        "id": "ObfAKS5mUk1S"
      },
      "outputs": [],
      "source": [
        "# Grabamos el resultado como CSV separado por comas\n",
        "CSVfilename = \"numbers1000.csv\"\n",
        "df.to_csv(CSVfilename, index=False)"
      ]
    },
    {
      "cell_type": "code",
      "execution_count": 7,
      "id": "FLGTgdZPU_5V",
      "metadata": {
        "colab": {
          "base_uri": "https://localhost:8080/"
        },
        "id": "FLGTgdZPU_5V",
        "outputId": "a289cb9d-0f1c-4f50-9e8b-56ce26dfe9aa"
      },
      "outputs": [
        {
          "name": "stdout",
          "output_type": "stream",
          "text": [
            "    numero                                        descripcion\n",
            "0      1.0             1 is the number of Gods in monotheism.\n",
            "1      2.0  2 is the price in cents per acre the USA bough...\n",
            "2      3.0  3 is cans of Spam consumed every second in the...\n",
            "3      4.0  4 is the number of nucleobase types in DNA and...\n",
            "4      5.0  5 is the number of Justices on the Supreme Cou...\n",
            "..     ...                                                ...\n",
            "95    96.0      96 is the rating of Skyrim on metacritic.com.\n",
            "96    97.0  97 is the number of different characters that ...\n",
            "97    98.0  98 is the highest jersey number allowed in the...\n",
            "98    99.0  99 is the number of names of Allah, the names ...\n",
            "99   100.0  100 is the number of common administrative gro...\n",
            "\n",
            "[100 rows x 2 columns]\n"
          ]
        }
      ],
      "source": [
        "print(df)"
      ]
    }
  ],
  "metadata": {
    "colab": {
      "provenance": []
    },
    "kernelspec": {
      "display_name": "base",
      "language": "python",
      "name": "python3"
    },
    "language_info": {
      "codemirror_mode": {
        "name": "ipython",
        "version": 3
      },
      "file_extension": ".py",
      "mimetype": "text/x-python",
      "name": "python",
      "nbconvert_exporter": "python",
      "pygments_lexer": "ipython3",
      "version": "3.8.8"
    },
    "vscode": {
      "interpreter": {
        "hash": "5beeed5a7ffdc4b4a0108c0b3292efe9a775794c700b606d5e33717d9ba16765"
      }
    }
  },
  "nbformat": 4,
  "nbformat_minor": 5
}
