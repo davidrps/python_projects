{
 "cells": [
  {
   "attachments": {},
   "cell_type": "markdown",
   "id": "a2f08eb6",
   "metadata": {},
   "source": [
    "# Ejercicio de Listas"
   ]
  },
  {
   "attachments": {},
   "cell_type": "markdown",
   "id": "19259af0",
   "metadata": {},
   "source": [
    "1.- Calcula con Python cuántos segundos han pasado desde la fecha de tu nacimiento.\n",
    "\n",
    "2.- Calcula con Python las fechas capicúa (palindromic number, por ejemplo: 2021-12-02) que ha habido desde la fecha de tu nacimiento hasta hoy.\n",
    "\n",
    "3.- Crea una lista llamada numeros que contenga los números del 1 al 10.\n",
    "\n",
    "4.- Utiliza la función filter() para crear una nueva lista pares que contenga sólo los números pares de la lista numeros.\n",
    "\n",
    "5.- Utiliza la función map() para crear una nueva lista cuadrados que contenga el cuadrado de cada número en la lista numeros.\n",
    "\n",
    "6.- Utiliza la función reduce() para calcular la suma de todos los números en la lista numeros.\n",
    "\n",
    "7.- Utiliza un ciclo for para imprimir cada elemento de la lista cuadrados junto con su índice en la lista.\n",
    "\n",
    "8.- Utiliza un ciclo while para eliminar todos los números impares de la lista cuadrados."
   ]
  },
  {
   "attachments": {},
   "cell_type": "markdown",
   "id": "2800e012",
   "metadata": {},
   "source": [
    "***"
   ]
  },
  {
   "attachments": {},
   "cell_type": "markdown",
   "id": "a8bb7c83",
   "metadata": {},
   "source": [
    "## 1.- Segundos desde nacimiento"
   ]
  },
  {
   "cell_type": "code",
   "execution_count": 14,
   "id": "9d589071",
   "metadata": {},
   "outputs": [
    {
     "name": "stdout",
     "output_type": "stream",
     "text": [
      "1580232484.380897\n"
     ]
    }
   ],
   "source": [
    "import datetime\n",
    "\n",
    "[year, month, day] = [1972, 12, 23]\n",
    "birthdate = datetime.datetime(year, month, day)\n",
    "now = datetime.datetime.now()\n",
    "\n",
    "seconds_since_birth = (now - birthdate).total_seconds()\n",
    "print(seconds_since_birth)\n",
    "\n",
    "# Un año posee en un total de 31.536.000 segundos\n",
    "# datetime.total_seconds() is a method that returns\n",
    "# the total number of seconds in the duration represented by the datetime object"
   ]
  },
  {
   "attachments": {},
   "cell_type": "markdown",
   "id": "af8d1573",
   "metadata": {},
   "source": [
    "## 2.- Fecha capicúa\n",
    "\n",
    "La siguiente función en Python determina si una fecha dada en el formato \"yyyy-mm-dd\" es un número capicúa:"
   ]
  },
  {
   "cell_type": "code",
   "execution_count": 15,
   "id": "50c126ad",
   "metadata": {},
   "outputs": [
    {
     "name": "stdout",
     "output_type": "stream",
     "text": [
      "True\n",
      "False\n"
     ]
    }
   ],
   "source": [
    "def is_date_palindrome(date_str):\n",
    "    date_str = date_str.replace(\"-\",\"\")\n",
    "    return date_str == date_str[::-1]\n",
    "\n",
    "date1 = \"2021-12-02\"\n",
    "date2 = \"2022-01-02\"\n",
    "print(is_date_palindrome(date1)) # True\n",
    "print(is_date_palindrome(date2)) # False"
   ]
  },
  {
   "attachments": {},
   "cell_type": "markdown",
   "id": "a0b770ff",
   "metadata": {},
   "source": [
    "Reemplaza los caracteres de guion medio con una cadena vacía, lo que convierte la fecha en una cadena numérica.\n",
    "\n",
    "Luego, utiliza la notación (slicing) de rebanada con el (step) paso -1 para invertir la cadena y compararla con la original. "
   ]
  },
  {
   "cell_type": "code",
   "execution_count": 16,
   "id": "4ded33a7",
   "metadata": {},
   "outputs": [
    {
     "name": "stdout",
     "output_type": "stream",
     "text": [
      "['2001-10-02', '2010-01-02', '2011-11-02', '2020-02-02', '2021-12-02']\n"
     ]
    }
   ],
   "source": [
    "from datetime import date, timedelta\n",
    "\n",
    "def palindrome_dates(start_date):\n",
    "    current_date = date.today()\n",
    "    palindrome_dates = []\n",
    "    while start_date <= current_date:\n",
    "        if is_date_palindrome(start_date.strftime(\"%Y-%m-%d\")):\n",
    "            palindrome_dates.append(start_date.strftime(\"%Y-%m-%d\"))\n",
    "        start_date += timedelta(days=1)\n",
    "    return palindrome_dates\n",
    "\n",
    "start_date = date(1972, 12, 23)\n",
    "print(palindrome_dates(start_date))"
   ]
  },
  {
   "attachments": {},
   "cell_type": "markdown",
   "id": "5e0dade9",
   "metadata": {},
   "source": [
    "La función palindrome_dates toma una fecha de inicio en formato date y utiliza un bucle while para iterar desde esa fecha hasta la fecha actual. Dentro del bucle, utiliza la función is_date_palindrome para verificar si la fecha en formato \"yyyy-mm-dd\" es un número capicúa. Si es así, agrega la fecha a una lista de fechas capicúa y finalmente devuelve la lista."
   ]
  },
  {
   "attachments": {},
   "cell_type": "markdown",
   "id": "079e5a5d",
   "metadata": {},
   "source": [
    "## 3.- Crear lista"
   ]
  },
  {
   "cell_type": "code",
   "execution_count": 11,
   "id": "c6831b43",
   "metadata": {},
   "outputs": [
    {
     "name": "stdout",
     "output_type": "stream",
     "text": [
      "[1, 2, 3, 4, 5, 6, 7, 8, 9, 10]\n"
     ]
    }
   ],
   "source": [
    "numeros = [1, 2, 3, 4, 5, 6, 7, 8, 9, 10]\n",
    "print(numeros)"
   ]
  },
  {
   "attachments": {},
   "cell_type": "markdown",
   "id": "99c1d753",
   "metadata": {},
   "source": [
    "## 4.- Filter\n",
    "\n",
    "Para aplicar la función filter() en una lista en Python, primero debe especificar una función de filtro y luego pasar la lista a la función. La función de filtro debe tomar un solo argumento y devolver un valor booleano que indique si el elemento debe incluirse o no en el resultado.\n",
    "\n",
    "En este ejemplo, la función es_par() toma un número como argumento y devuelve True si ese número es par y False si es impar. La función filter() utiliza esta función para filtrar la lista numeros, devolviendo solo los números pares en una nueva lista."
   ]
  },
  {
   "cell_type": "code",
   "execution_count": 12,
   "id": "af613ee0",
   "metadata": {},
   "outputs": [
    {
     "name": "stdout",
     "output_type": "stream",
     "text": [
      "[2, 4, 6, 8, 10]\n"
     ]
    }
   ],
   "source": [
    "def es_par(numero):\n",
    "    if numero % 2 == 0:\n",
    "        return True\n",
    "    else:\n",
    "        return False\n",
    "\n",
    "# Forma compacta de crear la misma función\n",
    "#\n",
    "# def es_par(numero):\n",
    "#     return numero % 2 == 0\n",
    "\n",
    "pares = list(filter(es_par, numeros))\n",
    "print(pares)"
   ]
  },
  {
   "attachments": {},
   "cell_type": "markdown",
   "id": "84892d65",
   "metadata": {},
   "source": [
    "El resultado de la función filter() es un objeto iterable, **NO UNA LISTA**.\n",
    "\n",
    "Por eso hay que convertirlo a lista con el comando list() y poder escribirlo en pantalla con print()"
   ]
  },
  {
   "cell_type": "code",
   "execution_count": 13,
   "id": "e8c5fb1c",
   "metadata": {},
   "outputs": [
    {
     "name": "stdout",
     "output_type": "stream",
     "text": [
      "[2, 4, 6, 8, 10]\n"
     ]
    }
   ],
   "source": [
    "# Forma ultra compacta de filtrar una lista usando la función lambda\n",
    "\n",
    "pares = list(filter(lambda x : x % 2 == 0, numeros))\n",
    "print(pares)"
   ]
  },
  {
   "attachments": {},
   "cell_type": "markdown",
   "id": "fc491b12",
   "metadata": {},
   "source": [
    "## 5.- Cálculos en listas con map()\n",
    "\n",
    "La función map() en Python se utiliza para aplicar una función dada a cada elemento de un iterable (como una lista, tupla, etc.). Puedes usar map() para crear una nueva lista que contenga el cuadrado de cada número en una lista de números dada."
   ]
  },
  {
   "cell_type": "code",
   "execution_count": 17,
   "id": "52e2044e",
   "metadata": {},
   "outputs": [
    {
     "name": "stdout",
     "output_type": "stream",
     "text": [
      "[1, 4, 9, 16, 25, 36, 49, 64, 81, 100]\n"
     ]
    }
   ],
   "source": [
    "squares = list(map(lambda x: x**2, numeros))\n",
    "print(squares)"
   ]
  },
  {
   "attachments": {},
   "cell_type": "markdown",
   "id": "25d885ae",
   "metadata": {},
   "source": [
    "Se utiliza la función map() para iterar sobre la lista numbers y aplicar la función lambda x: x**2 a cada elemento. La función lambda es una función anónima que toma un argumento x y devuelve su valor elevado al cuadrado. El resultado de la función map() es un objeto iterable, por lo que se usa la función list() para convertirlo en una lista.\n",
    "\n",
    "También podría hacerse este cálculo sin usar lambda y emplear una función de tipo def:"
   ]
  },
  {
   "cell_type": "code",
   "execution_count": 18,
   "id": "213b47f3",
   "metadata": {},
   "outputs": [
    {
     "name": "stdout",
     "output_type": "stream",
     "text": [
      "[1, 4, 9, 16, 25, 36, 49, 64, 81, 100]\n"
     ]
    }
   ],
   "source": [
    "def square(x):\n",
    "    return x**2\n",
    "\n",
    "squares = list(map(square, numeros))\n",
    "print(squares)"
   ]
  },
  {
   "attachments": {},
   "cell_type": "markdown",
   "id": "15ca64a9",
   "metadata": {},
   "source": [
    "## 6.- Cálculos con reduce()\n",
    "\n",
    "La función reduce() en Python se utiliza para aplicar una función binaria (binaria significa que tiene 2 argunmentos o parámetros) a los elementos de un iterable de forma acumulativa. Vamos a usar reduce() para calcular la suma de todos los números en una lista dada. Pero primero es necesario importar el módulo functools."
   ]
  },
  {
   "cell_type": "code",
   "execution_count": 19,
   "id": "0a248eae",
   "metadata": {},
   "outputs": [
    {
     "name": "stdout",
     "output_type": "stream",
     "text": [
      "55\n"
     ]
    }
   ],
   "source": [
    "from functools import reduce\n",
    "\n",
    "sum_of_numbers = reduce(lambda x, y: x + y, numeros)\n",
    "print(sum_of_numbers)"
   ]
  },
  {
   "attachments": {},
   "cell_type": "markdown",
   "id": "51e36254",
   "metadata": {},
   "source": [
    "En Python3, si quieres sumar todos los elementos de una lista puedes usar la función sum() que es más sencilla y eficiente:"
   ]
  },
  {
   "cell_type": "code",
   "execution_count": 20,
   "id": "b5aef9ca",
   "metadata": {},
   "outputs": [
    {
     "name": "stdout",
     "output_type": "stream",
     "text": [
      "55\n"
     ]
    }
   ],
   "source": [
    "sum_of_numbers = sum(numeros)\n",
    "print(sum_of_numbers)"
   ]
  },
  {
   "attachments": {},
   "cell_type": "markdown",
   "id": "0b96078c",
   "metadata": {},
   "source": [
    "## 7.- Mostrar índices y elementos de una lista\n",
    "\n",
    "Los elementos de una lista se numeran con un índice de 0 en adelante. Así el elemento con índice 0 es el primero, y el de índice 1 es el segundo.\n",
    "\n",
    "Podemos recorrer un índice incremental de 0 al último, que es len(lista) y mostrar el calor de cada elemento mediante su índice."
   ]
  },
  {
   "cell_type": "code",
   "execution_count": 21,
   "id": "289f8728",
   "metadata": {},
   "outputs": [
    {
     "name": "stdout",
     "output_type": "stream",
     "text": [
      "0 1\n",
      "1 4\n",
      "2 9\n",
      "3 16\n",
      "4 25\n",
      "5 36\n",
      "6 49\n",
      "7 64\n",
      "8 81\n",
      "9 100\n"
     ]
    }
   ],
   "source": [
    "for i in range(0, len(squares)):\n",
    "    print(i, squares[i])"
   ]
  },
  {
   "attachments": {},
   "cell_type": "markdown",
   "id": "fe6a15d7",
   "metadata": {},
   "source": [
    "## 8.- Bucle while\n",
    "\n",
    "Podemos recorrer la lista con while estableciendo como condición de fin de iteración alcanzar el último elemento de la lista, que nos viene dado por la función len()"
   ]
  },
  {
   "cell_type": "code",
   "execution_count": 22,
   "id": "d0000733",
   "metadata": {},
   "outputs": [
    {
     "name": "stdout",
     "output_type": "stream",
     "text": [
      "[4, 16, 36, 64, 100]\n"
     ]
    }
   ],
   "source": [
    "i = 0 # inicializo el índice en 0\n",
    "\n",
    "while i < len(squares):\n",
    "    if squares[i] % 2 != 0:\n",
    "        squares.remove(squares[i])\n",
    "    else:\n",
    "        i += 1\n",
    "\n",
    "print(squares)"
   ]
  },
  {
   "attachments": {},
   "cell_type": "markdown",
   "id": "dfb3d2ca",
   "metadata": {},
   "source": [
    "Dentro del bucle, se comprueba si el número en la posición actual es impar (usando el operador de módulo %) y, si es así, se elimina con el método remove(). Si el número es par, se aumenta i para avanzar a la siguiente posición en la lista.\n",
    "\n",
    "Fíjate que el índice requiere ser incrementado i += 1. Con un bucle for no hace falta, porque for ya implementa automáticamente este incremento.\n",
    "\n",
    "Fíjate también que cuando eliminamos un elemento de la lista no hace falta incrementar el índice porque al eliminar ese elemento, todos los posteriores descienden una posición dentro de la lista."
   ]
  }
 ],
 "metadata": {
  "kernelspec": {
   "display_name": "Python 3",
   "language": "python",
   "name": "python3"
  },
  "language_info": {
   "codemirror_mode": {
    "name": "ipython",
    "version": 3
   },
   "file_extension": ".py",
   "mimetype": "text/x-python",
   "name": "python",
   "nbconvert_exporter": "python",
   "pygments_lexer": "ipython3",
   "version": "3.9.5 (tags/v3.9.5:0a7dcbd, May  3 2021, 17:27:52) [MSC v.1928 64 bit (AMD64)]"
  },
  "vscode": {
   "interpreter": {
    "hash": "2e242e6b8c453217117083c6680e6db82176874e34559806b32fd7417ddae620"
   }
  }
 },
 "nbformat": 4,
 "nbformat_minor": 5
}
