{
 "cells": [
  {
   "cell_type": "markdown",
   "metadata": {},
   "source": [
    "# Random Walk\n",
    "\n",
    "Un proceso random walk es el obtenido al sumar incrementos (deltas) aleatorios en una serie de pasos\n",
    "\n",
    "Primero veamos como obtener incrementos aleatorios y luego veremos como representar un proceso random walk"
   ]
  },
  {
   "cell_type": "code",
   "execution_count": null,
   "metadata": {},
   "outputs": [],
   "source": [
    "# Creamos un array de 100 elementos con la distribución de Rademacher (+1/-1)\n",
    "\n",
    "#pip install tensorflow\n",
    "#pip install -U tensorflow\n",
    "#pip install -U dm-sonnet==1.23\n",
    "#pip install --upgrade tfp-nightly\n",
    "#https://towardsdatascience.com/the-ultimate-tensorflow-gpu-installation-guide-for-2022-and-beyond-27a88f5e6c6e\n",
    "import tensorflow as tf\n",
    "os.environ['TF_CPP_MIN_LOG_LEVEL'] = '3' # 3 = INFO, WARNING, and ERROR messages are not printed\n",
    "import tensorflow_probability as tfp\n",
    "tfd = tfp.distributions # By convention, we refer to the tf probability distributions library as tfd\n",
    "import seaborn as sns\n",
    "from matplotlib import pyplot as plt\n",
    "\n",
    "# Discrete random variable\n",
    "# https://www.tensorflow.org/probability/api_docs/python/tfp/random/rademacher\n",
    "rademacher = tfp.random.rademacher([1, 100], dtype=tf.int32)\n",
    "print(rademacher)"
   ]
  },
  {
   "cell_type": "markdown",
   "metadata": {},
   "source": [
    "## La distribución Rademacher\n",
    "\n",
    "La distribución Rademacher es una distribución discreta que toma dos valores, +1 y -1, con igual probabilidad. Se utiliza a menudo en el análisis de álgebra lineal y el aprendizaje automático como una forma de evaluar el rendimiento de un modelo de aprendizaje automático.\n",
    "\n",
    "## Tensorflow\n",
    "\n",
    "TensorFlow es una muy importante librería de aprendizaje automático y ciencia de datos. Se utiliza para entrenar y explotar modelos de aprendizaje automático como por ejemplo: detección de spam, traducción automática, clasificación de imágenes y análisis de sentimientos."
   ]
  },
  {
   "cell_type": "code",
   "execution_count": 4,
   "metadata": {},
   "outputs": [
    {
     "ename": "ModuleNotFoundError",
     "evalue": "No module named 'seaborn'",
     "output_type": "error",
     "traceback": [
      "\u001b[1;31m---------------------------------------------------------------------------\u001b[0m",
      "\u001b[1;31mModuleNotFoundError\u001b[0m                       Traceback (most recent call last)",
      "Cell \u001b[1;32mIn[4], line 3\u001b[0m\n\u001b[0;32m      1\u001b[0m \u001b[39m# Usamos un heatmap para viualizar arrays y tensores grandes\u001b[39;00m\n\u001b[0;32m      2\u001b[0m \u001b[39mimport\u001b[39;00m \u001b[39mnumpy\u001b[39;00m \u001b[39mas\u001b[39;00m \u001b[39mnp\u001b[39;00m\n\u001b[1;32m----> 3\u001b[0m \u001b[39mimport\u001b[39;00m \u001b[39mseaborn\u001b[39;00m \u001b[39mas\u001b[39;00m \u001b[39msns\u001b[39;00m\n\u001b[0;32m      4\u001b[0m \u001b[39mimport\u001b[39;00m \u001b[39mmatplotlib\u001b[39;00m\u001b[39m.\u001b[39;00m\u001b[39mpylab\u001b[39;00m \u001b[39mas\u001b[39;00m \u001b[39mplt\u001b[39;00m\n\u001b[0;32m      6\u001b[0m uniforme \u001b[39m=\u001b[39m np\u001b[39m.\u001b[39mrandom\u001b[39m.\u001b[39mrand(\u001b[39m10\u001b[39m, \u001b[39m10\u001b[39m)\u001b[39m.\u001b[39mround(\u001b[39m2\u001b[39m)\n",
      "\u001b[1;31mModuleNotFoundError\u001b[0m: No module named 'seaborn'"
     ]
    }
   ],
   "source": [
    "# Usamos un heatmap para viualizar arrays y tensores grandes\n",
    "import numpy as np\n",
    "import seaborn as sns\n",
    "import matplotlib.pylab as plt\n",
    "\n",
    "uniforme = np.random.rand(10, 10).round(2)\n",
    "print(uniforme)\n",
    "ax = sns.heatmap(uniforme, linewidth=0.5)\n",
    "plt.show()"
   ]
  },
  {
   "cell_type": "markdown",
   "metadata": {},
   "source": [
    "## Mapa de calor\n",
    "\n",
    "sns.heatmap es una función de la biblioteca de visualización de datos seaborn de Python. Se utiliza para crear un mapa de calor, que es una gráfica de dos dimensiones que muestra los valores de una tabla de datos a través de una escala de colores. Los valores más altos se representan con colores más cálidos, mientras que los valores más bajos se representan con colores más fríos."
   ]
  },
  {
   "cell_type": "code",
   "execution_count": null,
   "metadata": {},
   "outputs": [],
   "source": [
    "# Visualizar un vector o tensor unidimensional\n",
    "ax = sns.heatmap(rademacher)\n",
    "plt.show()"
   ]
  },
  {
   "cell_type": "code",
   "execution_count": null,
   "metadata": {},
   "outputs": [],
   "source": [
    "# Visualizar una matriz o tensor bidimensional\n",
    "rademacher2D = tfp.random.rademacher([100, 100], dtype=tf.int32)\n",
    "print(tf.shape(rademacher2D))\n",
    "ax = sns.heatmap(rademacher2D)\n",
    "plt.show()"
   ]
  },
  {
   "cell_type": "code",
   "execution_count": null,
   "metadata": {},
   "outputs": [],
   "source": [
    "# No podemos visualizar gráficamente un tensor tridimensional\n",
    "rademacher3D = tfp.random.rademacher([100, 100, 100], dtype=tf.int32)\n",
    "print(tf.shape(rademacher3D))\n",
    "print(rademacher3D)"
   ]
  },
  {
   "cell_type": "markdown",
   "metadata": {},
   "source": [
    "## Álgebra lineal y aprendizaje automático\n",
    "\n",
    "En álgebra lineal y en el aprendizaje automático, se utilizan diferentes tipos de objetos matemáticos para representar y manipular datos. Algunos de los más comunes son los escalares, los vectores y los tensores.\n",
    "\n",
    "Un escalar es un número simple, como 3 o pi. Un vector es un arreglo ordenado de números, como [1, 2, 3] o [4, 5, 6]. Un tensor es una generalización de un vector a más dimensiones. Por ejemplo, un tensor de dos dimensiones se puede ver como una matriz, mientras que un tensor de tres dimensiones se puede ver como un cubo de números.\n",
    "\n",
    "En el aprendizaje automático, a menudo se utilizan vectores y tensores para representar datos. Por ejemplo, un vector puede utilizarse para representar una observación individual, mientras que un tensor de dos dimensiones puede utilizarse para representar un conjunto de observaciones. Los tensores también se utilizan a menudo en el procesamiento de imágenes, donde cada elemento del tensor representa el valor de un pixel en una imagen.\n",
    "\n",
    "En resumen, un escalar es un número simple, un vector es un arreglo ordenado de números y un tensor es una generalización de un vector a más dimensiones."
   ]
  },
  {
   "cell_type": "code",
   "execution_count": null,
   "metadata": {},
   "outputs": [],
   "source": [
    "# Iterando un tensor unidimensional o vector de 100 componentes\n",
    "for i in range(0, 100):\n",
    "    print(rademacher[0, i].numpy())"
   ]
  },
  {
   "cell_type": "code",
   "execution_count": 6,
   "metadata": {},
   "outputs": [
    {
     "ename": "NameError",
     "evalue": "name 'rademacher' is not defined",
     "output_type": "error",
     "traceback": [
      "\u001b[1;31m---------------------------------------------------------------------------\u001b[0m",
      "\u001b[1;31mNameError\u001b[0m                                 Traceback (most recent call last)",
      "Cell \u001b[1;32mIn[6], line 5\u001b[0m\n\u001b[0;32m      3\u001b[0m sumatorio \u001b[39m=\u001b[39m \u001b[39m0\u001b[39m\n\u001b[0;32m      4\u001b[0m \u001b[39mfor\u001b[39;00m i \u001b[39min\u001b[39;00m \u001b[39mrange\u001b[39m(\u001b[39m0\u001b[39m, \u001b[39m100\u001b[39m):\n\u001b[1;32m----> 5\u001b[0m     sumatorio \u001b[39m+\u001b[39m\u001b[39m=\u001b[39m rademacher[\u001b[39m0\u001b[39m, i]\u001b[39m.\u001b[39mnumpy()\n\u001b[0;32m      6\u001b[0m     randomWalk[i] \u001b[39m=\u001b[39m sumatorio\n\u001b[0;32m      8\u001b[0m \u001b[39mprint\u001b[39m(randomWalk)\n",
      "\u001b[1;31mNameError\u001b[0m: name 'rademacher' is not defined"
     ]
    }
   ],
   "source": [
    "# Sumando cada componente como un incremento aleatorio obtengo un random walk\n",
    "randomWalk = np.zeros(shape=(100))\n",
    "sumatorio = 0\n",
    "for i in range(0, 100):\n",
    "    sumatorio += rademacher[0, i].numpy()\n",
    "    randomWalk[i] = sumatorio\n",
    "\n",
    "print(randomWalk)"
   ]
  },
  {
   "cell_type": "code",
   "execution_count": null,
   "metadata": {},
   "outputs": [],
   "source": [
    "plt.plot(randomWalk)\n",
    "plt.show()"
   ]
  },
  {
   "cell_type": "markdown",
   "metadata": {},
   "source": [
    "## ¿Qué es un Random Walk?\n",
    "\n",
    "Un Random Walk es un proceso estocástico en el que el siguiente paso depende del anterior de manera aleatoria. Es una forma simple de generar secuencias de números aleatorios.\n",
    "\n",
    "Se utiliza en física, economía y ciencia de datos:\n",
    "\n",
    "- En la física, un Random Walk se puede utilizar como un modelo simple de la dinámica de las partículas en un gas o en un líquido.\n",
    "\n",
    "- En la economía, un Random Walk se puede utilizar como un modelo simple de la fluctuación del precio de una acción o de una moneda.\n",
    "\n",
    "- En el aprendizaje automático, un Random Walk se puede utilizar como una forma simple de generar datos aleatorios para probar algoritmos o evaluar la robustez de modelos."
   ]
  },
  {
   "cell_type": "code",
   "execution_count": null,
   "metadata": {},
   "outputs": [],
   "source": [
    "# Ejercicio:\n",
    "\n",
    "# Escribe una función que acepte un argumento o parámetro como input: N\n",
    "# Y esta función va a generar un tensor unidimensional (un vector) de N componentes con la distribución Rademacher.\n",
    "# Luego lo iterará para construir el vector randomWalk.\n",
    "# Finalmente lo dibuja como en el caso de arriba."
   ]
  },
  {
   "cell_type": "code",
   "execution_count": null,
   "metadata": {},
   "outputs": [],
   "source": [
    "import numpy as np\n",
    "import matplotlib.pyplot as plt\n",
    "\n",
    "def random_walk(N):\n",
    "  # Genera un tensor unidimensional de N componentes con la distribución Rademacher\n",
    "  steps = np.random.choice([-1, 1], size=N)\n",
    "\n",
    "  # Construye el vector random walk sumando los pasos\n",
    "  random_walk = np.cumsum(steps)\n",
    "\n",
    "  # Dibuja el vector random walk\n",
    "  plt.plot(random_walk)\n",
    "  plt.show()\n",
    "\n",
    "random_walk(10000)"
   ]
  },
  {
   "cell_type": "markdown",
   "metadata": {},
   "source": [
    "## ¿Qué hace la función np.cumsum?\n",
    "\n",
    "np.cumsum es una función de la biblioteca numpy que se utiliza para calcular la suma acumulativa de un tensor. Esto significa que, para cada elemento del tensor, se calcula la suma de todos los elementos anteriores.\n",
    "\n",
    "Por ejemplo, si tienes el siguiente tensor:\n",
    "\n",
    "[1, 2, 3, 4]\n",
    "\n",
    "La función np.cumsum calcularía la siguiente secuencia de sumas acumulativas:\n",
    "\n",
    "[1, 3, 6, 10]\n",
    "\n",
    "La función np.cumsum puede calcular este sumatorio a lo largo de un eje específico de un tensor. Por ejemplo, en un tensor de dos dimensiones o matriz, puede sumar por filas o por columnas."
   ]
  },
  {
   "cell_type": "code",
   "execution_count": null,
   "metadata": {},
   "outputs": [],
   "source": [
    "# Random walk 2D\n",
    "import pandas as pd\n",
    "\n",
    "def drawRandomWalk2D(numIteraciones = 100):\n",
    "    # Creo tensor con números aleatorios para deltas\n",
    "    rademacher2D = tfp.random.rademacher([1, numIteraciones * 2], dtype=tf.int32)\n",
    "\n",
    "    # Creo dataframe vacío con dos columnas para X e Y\n",
    "    randomWalk2D = pd.DataFrame(np.zeros(shape=(numIteraciones)), columns=['X'])\n",
    "    randomWalk2D[\"Y\"] = pd.DataFrame(np.zeros(shape=(numIteraciones)))\n",
    "    print(randomWalk2D)\n",
    "\n",
    "    # Aplico los deltas para ir encontrando las coordenadas de los puntos que definen\n",
    "    # el randomWalk en el plano 2D\n",
    "    sumatorioX, sumatorioY = 0, 0\n",
    "    for i in range(0, numIteraciones):\n",
    "        delta = rademacher2D[0, i].numpy()\n",
    "        \n",
    "        if i%2 == 0: # Si i es par\n",
    "            sumatorioX += delta\n",
    "        else: # Si es impar\n",
    "            sumatorioY += delta\n",
    "        randomWalk2D[\"X\"][i] = sumatorioX\n",
    "        randomWalk2D[\"Y\"][i] = sumatorioY\n",
    "\n",
    "    print(randomWalk2D)\n",
    "\n",
    "    plt.plot(randomWalk2D)\n",
    "    plt.show()\n",
    "\n",
    "    plt.plot(randomWalk2D[\"X\"], randomWalk2D[\"Y\"])\n",
    "    plt.show()"
   ]
  },
  {
   "cell_type": "code",
   "execution_count": null,
   "metadata": {},
   "outputs": [],
   "source": [
    "drawRandomWalk2D(10000)\n"
   ]
  },
  {
   "cell_type": "code",
   "execution_count": null,
   "metadata": {},
   "outputs": [],
   "source": [
    "# Es posible generar un random walk en dos dimensiones\n",
    "# utilizando la librería numpy para generar los deltas (o pasos) aleatorios\n",
    "# en vez de usar tensorflow\n",
    "\n",
    "import numpy as np\n",
    "import matplotlib.pyplot as plt\n",
    "\n",
    "def random_walk_2d(N):\n",
    "  # Genera pasos aleatorios en dos dimensiones\n",
    "  steps_x = np.random.choice([-1, 1], size=N)\n",
    "  steps_y = np.random.choice([-1, 1], size=N)\n",
    "\n",
    "  # Construye el random walk sumando los pasos en cada dimensión\n",
    "  random_walk_x = np.cumsum(steps_x)\n",
    "  random_walk_y = np.cumsum(steps_y)\n",
    "\n",
    "  # Dibuja el random walk\n",
    "  plt.plot(random_walk_x, random_walk_y)\n",
    "  plt.show()\n",
    "\n",
    "# Para utilizar esta función, simplemente la invocamos pasando el número de pasos deseado como argumento.\n",
    "random_walk_2d(10000)"
   ]
  },
  {
   "cell_type": "markdown",
   "metadata": {},
   "source": [
    "## Pregunta:\n",
    "\n",
    "¿Por qué este random walk está construido con patrones romboidales y el anterior formaba patrones cuadriculados?"
   ]
  },
  {
   "cell_type": "code",
   "execution_count": null,
   "metadata": {},
   "outputs": [],
   "source": [
    "# Ejercicio: Modificar la función drawRandomWalk2D para que utilice\n",
    "# como deltas aleatorios una distribución gaussiana en vez de usar\n",
    "# la distribución rademacher"
   ]
  },
  {
   "cell_type": "code",
   "execution_count": null,
   "metadata": {},
   "outputs": [],
   "source": [
    "import numpy as np\n",
    "import matplotlib.pyplot as plt\n",
    "\n",
    "def random_walk_2d_gaussian(N):\n",
    "  # Genera pasos aleatorios en dos dimensiones con la distribución gaussiana\n",
    "  steps_x = np.random.normal(size=N)\n",
    "  steps_y = np.random.normal(size=N)\n",
    "\n",
    "  # Construye el random walk sumando los pasos en cada dimensión\n",
    "  random_walk_x = np.cumsum(steps_x)\n",
    "  random_walk_y = np.cumsum(steps_y)\n",
    "\n",
    "  # Dibuja el random walk\n",
    "  plt.plot(random_walk_x, random_walk_y)\n",
    "  plt.show()\n",
    "\n",
    "random_walk_2d_gaussian(10000)"
   ]
  },
  {
   "cell_type": "code",
   "execution_count": null,
   "metadata": {},
   "outputs": [],
   "source": [
    "# Esta solución se consigue usando la librería numpy.\n",
    "# Busca una solución usando la librería tensorflow\n",
    "# para generar los deltas aleatorios."
   ]
  },
  {
   "cell_type": "markdown",
   "metadata": {},
   "source": [
    "## En 3D\n",
    "\n",
    "La clase Axes3D se utiliza para crear gráficos de tres dimensiones en Python utilizando la biblioteca matplotlib.\n",
    "\n",
    "Para utilizar la clase Axes3D, primero debes importarla al inicio de tu código utilizando la línea de código from mpl_toolkits.mplot3d import Axes3D. Luego, puedes utilizar la clase Axes3D para crear un gráfico de tres dimensiones y dibujar en él utilizando las funciones de dibujo de matplotlib."
   ]
  },
  {
   "cell_type": "code",
   "execution_count": null,
   "metadata": {},
   "outputs": [],
   "source": [
    "import numpy as np\n",
    "import matplotlib.pyplot as plt\n",
    "from mpl_toolkits.mplot3d import Axes3D\n",
    "\n",
    "def random_walk_3d_rademacher(N):\n",
    "\n",
    "    # Genera pasos aleatorios en tres dimensiones\n",
    "    steps_x = np.random.choice([-1, 1], size=N)\n",
    "    steps_y = np.random.choice([-1, 1], size=N)\n",
    "    steps_z = np.random.choice([-1, 1], size=N)\n",
    "\n",
    "    # Construye el random walk sumando los pasos en cada dimensión\n",
    "    random_walk_x = np.cumsum(steps_x)\n",
    "    random_walk_y = np.cumsum(steps_y)\n",
    "    random_walk_z = np.cumsum(steps_z)\n",
    "\n",
    "    # Creamos la figura.\n",
    "    # plt.figure es una función de la biblioteca matplotlib\n",
    "    # que se utiliza para crear una figura vacía para dibujar gráficos.\n",
    "    # Una figura es una ventana o lienzo que contiene uno o más gráficos.\n",
    "    fig = plt.figure()\n",
    "\n",
    "    # Plano 3D y plot\n",
    "    ax1 = fig.add_subplot(111, projection='3d')\n",
    "    ax1.plot3D(random_walk_x, random_walk_y, random_walk_z, 'black')\n",
    "\n",
    "    # Mostramos el gráfico\n",
    "    plt.show()\n",
    "\n",
    "random_walk_3d_rademacher(10000)"
   ]
  },
  {
   "attachments": {},
   "cell_type": "markdown",
   "metadata": {},
   "source": [
    "## Promedio de un random walk\n",
    "\n",
    "Un random walk es un proceso estocástico en el que una variable aleatoria se mueve en una serie de pasos aleatorios en una dirección dada. El promedio de un random walk depende de la distribución de probabilidad utilizada para los pasos aleatorios.\n",
    "\n",
    "En el caso de un random walk con pasos aleatorios con distribución normal estandar, **el promedio es cero**. Esto se debe a que la distribución normal tiene simetría en torno a su media, por lo que la probabilidad de dar un paso hacia arriba es igual a la probabilidad de dar un paso hacia abajo.\n",
    "\n",
    "Sin embargo, si los pasos aleatorios tienen una distribución asimétrica, el promedio del random walk no será cero. Por ejemplo, si los pasos aleatorios tienen una distribución de probabilidad que tiene más probabilidades de dar un paso hacia arriba que hacia abajo, entonces el promedio del random walk será positivo.\n",
    "\n",
    "En resumen, el promedio de un random walk dependerá de la distribución de probabilidad utilizada para los pasos aleatorios. Si los pasos aleatorios son distribuidos de forma simétrica alrededor de su media, el promedio será cero, de lo contrario el promedio será diferente de cero.\n",
    "\n",
    "Más detalles en https://stats.stackexchange.com/questions/521994/intuition-of-random-walk-having-a-constant-mean"
   ]
  },
  {
   "attachments": {},
   "cell_type": "markdown",
   "metadata": {},
   "source": [
    "## Ejercicios:\n",
    "### 1.- Crear un proceso randomwalk unidimensional de 100 iteraciones con origen en 0 bajo la distribución normal con media 0 y desviación estándard 1\n"
   ]
  },
  {
   "cell_type": "code",
   "execution_count": 13,
   "metadata": {},
   "outputs": [],
   "source": [
    "import numpy as np\n",
    "import matplotlib.pyplot as plt"
   ]
  },
  {
   "cell_type": "code",
   "execution_count": 17,
   "metadata": {},
   "outputs": [],
   "source": [
    "# 2.- Dibujar un plot de línea la evolución de y (valor del randomwalk) frente a x (iteración del 1 al 100)\n",
    "# Inicializar el proceso en 0\n",
    "posicion = 0\n",
    "\n",
    "# Generar una lista para almacenar las posiciones en cada iteración\n",
    "posiciones = [posicion]\n",
    "\n",
    "# Iterar 100 veces\n",
    "for i in range(100):\n",
    "    # Generar un número aleatorio con distribución normal (media = 0, desviación estándar = 1)\n",
    "    movimiento = np.random.normal(0, 1)\n",
    "    # Actualizar la posición\n",
    "    posicion += movimiento\n",
    "    # Guardar la posición en la lista\n",
    "    posiciones.append(posicion)"
   ]
  },
  {
   "cell_type": "code",
   "execution_count": 15,
   "metadata": {},
   "outputs": [
    {
     "ename": "ValueError",
     "evalue": "x and y must have same first dimension, but have shapes (100,) and (101,)",
     "output_type": "error",
     "traceback": [
      "\u001b[1;31m---------------------------------------------------------------------------\u001b[0m",
      "\u001b[1;31mValueError\u001b[0m                                Traceback (most recent call last)",
      "Cell \u001b[1;32mIn[15], line 7\u001b[0m\n\u001b[0;32m      4\u001b[0m iteraciones \u001b[39m=\u001b[39m \u001b[39mlist\u001b[39m(\u001b[39mrange\u001b[39m(\u001b[39m1\u001b[39m, \u001b[39m101\u001b[39m))\n\u001b[0;32m      6\u001b[0m \u001b[39m# Dibujar el gráfico de línea\u001b[39;00m\n\u001b[1;32m----> 7\u001b[0m plt\u001b[39m.\u001b[39;49mplot(iteraciones, posiciones)\n\u001b[0;32m      9\u001b[0m \u001b[39m# Agregar títulos a los ejes\u001b[39;00m\n\u001b[0;32m     10\u001b[0m plt\u001b[39m.\u001b[39mxlabel(\u001b[39m\"\u001b[39m\u001b[39mIteraciones\u001b[39m\u001b[39m\"\u001b[39m)\n",
      "File \u001b[1;32mc:\\Users\\n_sar\\AppData\\Local\\Programs\\Python\\Python39\\lib\\site-packages\\matplotlib\\pyplot.py:2748\u001b[0m, in \u001b[0;36mplot\u001b[1;34m(scalex, scaley, data, *args, **kwargs)\u001b[0m\n\u001b[0;32m   2746\u001b[0m \u001b[39m@_copy_docstring_and_deprecators\u001b[39m(Axes\u001b[39m.\u001b[39mplot)\n\u001b[0;32m   2747\u001b[0m \u001b[39mdef\u001b[39;00m \u001b[39mplot\u001b[39m(\u001b[39m*\u001b[39margs, scalex\u001b[39m=\u001b[39m\u001b[39mTrue\u001b[39;00m, scaley\u001b[39m=\u001b[39m\u001b[39mTrue\u001b[39;00m, data\u001b[39m=\u001b[39m\u001b[39mNone\u001b[39;00m, \u001b[39m*\u001b[39m\u001b[39m*\u001b[39mkwargs):\n\u001b[1;32m-> 2748\u001b[0m     \u001b[39mreturn\u001b[39;00m gca()\u001b[39m.\u001b[39mplot(\n\u001b[0;32m   2749\u001b[0m         \u001b[39m*\u001b[39margs, scalex\u001b[39m=\u001b[39mscalex, scaley\u001b[39m=\u001b[39mscaley,\n\u001b[0;32m   2750\u001b[0m         \u001b[39m*\u001b[39m\u001b[39m*\u001b[39m({\u001b[39m\"\u001b[39m\u001b[39mdata\u001b[39m\u001b[39m\"\u001b[39m: data} \u001b[39mif\u001b[39;00m data \u001b[39mis\u001b[39;00m \u001b[39mnot\u001b[39;00m \u001b[39mNone\u001b[39;00m \u001b[39melse\u001b[39;00m {}), \u001b[39m*\u001b[39m\u001b[39m*\u001b[39mkwargs)\n",
      "File \u001b[1;32mc:\\Users\\n_sar\\AppData\\Local\\Programs\\Python\\Python39\\lib\\site-packages\\matplotlib\\axes\\_axes.py:1668\u001b[0m, in \u001b[0;36mAxes.plot\u001b[1;34m(self, scalex, scaley, data, *args, **kwargs)\u001b[0m\n\u001b[0;32m   1425\u001b[0m \u001b[39m\u001b[39m\u001b[39m\"\"\"\u001b[39;00m\n\u001b[0;32m   1426\u001b[0m \u001b[39mPlot y versus x as lines and/or markers.\u001b[39;00m\n\u001b[0;32m   1427\u001b[0m \n\u001b[1;32m   (...)\u001b[0m\n\u001b[0;32m   1665\u001b[0m \u001b[39m(``'green'``) or hex strings (``'#008000'``).\u001b[39;00m\n\u001b[0;32m   1666\u001b[0m \u001b[39m\"\"\"\u001b[39;00m\n\u001b[0;32m   1667\u001b[0m kwargs \u001b[39m=\u001b[39m cbook\u001b[39m.\u001b[39mnormalize_kwargs(kwargs, mlines\u001b[39m.\u001b[39mLine2D)\n\u001b[1;32m-> 1668\u001b[0m lines \u001b[39m=\u001b[39m [\u001b[39m*\u001b[39m\u001b[39mself\u001b[39m\u001b[39m.\u001b[39m_get_lines(\u001b[39m*\u001b[39margs, data\u001b[39m=\u001b[39mdata, \u001b[39m*\u001b[39m\u001b[39m*\u001b[39mkwargs)]\n\u001b[0;32m   1669\u001b[0m \u001b[39mfor\u001b[39;00m line \u001b[39min\u001b[39;00m lines:\n\u001b[0;32m   1670\u001b[0m     \u001b[39mself\u001b[39m\u001b[39m.\u001b[39madd_line(line)\n",
      "File \u001b[1;32mc:\\Users\\n_sar\\AppData\\Local\\Programs\\Python\\Python39\\lib\\site-packages\\matplotlib\\axes\\_base.py:311\u001b[0m, in \u001b[0;36m_process_plot_var_args.__call__\u001b[1;34m(self, data, *args, **kwargs)\u001b[0m\n\u001b[0;32m    309\u001b[0m     this \u001b[39m+\u001b[39m\u001b[39m=\u001b[39m args[\u001b[39m0\u001b[39m],\n\u001b[0;32m    310\u001b[0m     args \u001b[39m=\u001b[39m args[\u001b[39m1\u001b[39m:]\n\u001b[1;32m--> 311\u001b[0m \u001b[39myield from\u001b[39;00m \u001b[39mself\u001b[39;49m\u001b[39m.\u001b[39;49m_plot_args(\n\u001b[0;32m    312\u001b[0m     this, kwargs, ambiguous_fmt_datakey\u001b[39m=\u001b[39;49mambiguous_fmt_datakey)\n",
      "File \u001b[1;32mc:\\Users\\n_sar\\AppData\\Local\\Programs\\Python\\Python39\\lib\\site-packages\\matplotlib\\axes\\_base.py:504\u001b[0m, in \u001b[0;36m_process_plot_var_args._plot_args\u001b[1;34m(self, tup, kwargs, return_kwargs, ambiguous_fmt_datakey)\u001b[0m\n\u001b[0;32m    501\u001b[0m     \u001b[39mself\u001b[39m\u001b[39m.\u001b[39maxes\u001b[39m.\u001b[39myaxis\u001b[39m.\u001b[39mupdate_units(y)\n\u001b[0;32m    503\u001b[0m \u001b[39mif\u001b[39;00m x\u001b[39m.\u001b[39mshape[\u001b[39m0\u001b[39m] \u001b[39m!=\u001b[39m y\u001b[39m.\u001b[39mshape[\u001b[39m0\u001b[39m]:\n\u001b[1;32m--> 504\u001b[0m     \u001b[39mraise\u001b[39;00m \u001b[39mValueError\u001b[39;00m(\u001b[39mf\u001b[39m\u001b[39m\"\u001b[39m\u001b[39mx and y must have same first dimension, but \u001b[39m\u001b[39m\"\u001b[39m\n\u001b[0;32m    505\u001b[0m                      \u001b[39mf\u001b[39m\u001b[39m\"\u001b[39m\u001b[39mhave shapes \u001b[39m\u001b[39m{\u001b[39;00mx\u001b[39m.\u001b[39mshape\u001b[39m}\u001b[39;00m\u001b[39m and \u001b[39m\u001b[39m{\u001b[39;00my\u001b[39m.\u001b[39mshape\u001b[39m}\u001b[39;00m\u001b[39m\"\u001b[39m)\n\u001b[0;32m    506\u001b[0m \u001b[39mif\u001b[39;00m x\u001b[39m.\u001b[39mndim \u001b[39m>\u001b[39m \u001b[39m2\u001b[39m \u001b[39mor\u001b[39;00m y\u001b[39m.\u001b[39mndim \u001b[39m>\u001b[39m \u001b[39m2\u001b[39m:\n\u001b[0;32m    507\u001b[0m     \u001b[39mraise\u001b[39;00m \u001b[39mValueError\u001b[39;00m(\u001b[39mf\u001b[39m\u001b[39m\"\u001b[39m\u001b[39mx and y can be no greater than 2D, but have \u001b[39m\u001b[39m\"\u001b[39m\n\u001b[0;32m    508\u001b[0m                      \u001b[39mf\u001b[39m\u001b[39m\"\u001b[39m\u001b[39mshapes \u001b[39m\u001b[39m{\u001b[39;00mx\u001b[39m.\u001b[39mshape\u001b[39m}\u001b[39;00m\u001b[39m and \u001b[39m\u001b[39m{\u001b[39;00my\u001b[39m.\u001b[39mshape\u001b[39m}\u001b[39;00m\u001b[39m\"\u001b[39m)\n",
      "\u001b[1;31mValueError\u001b[0m: x and y must have same first dimension, but have shapes (100,) and (101,)"
     ]
    },
    {
     "data": {
      "image/png": "[encoded data removed]",
      "text/plain": [
       "<Figure size 640x480 with 1 Axes>"
      ]
     },
     "metadata": {},
     "output_type": "display_data"
    }
   ],
   "source": [
    "# Crear una lista de números de iteraciones\n",
    "iteraciones = list(range(1, 101))\n",
    "\n",
    "# Dibujar el gráfico de línea\n",
    "plt.plot(iteraciones, posiciones)\n",
    "\n",
    "# Agregar títulos a los ejes\n",
    "plt.xlabel(\"Iteraciones\")\n",
    "plt.ylabel(\"Posición\")\n",
    "\n",
    "# Mostrar el gráfico\n",
    "plt.show()\n"
   ]
  },
  {
   "attachments": {},
   "cell_type": "markdown",
   "metadata": {},
   "source": [
    "### 3.- Crear otro randomwalk idéntico y dibujar los dos en una sóla gráfica\n",
    "\n",
    "### 4.- Calcular el valor promedio de y1 e y2 (promedio de los dos randomwalk) y pintarlo en la gráfica junto con los dos anteriores\n",
    "\n",
    "### 5.- Explicar por qué el valor medio está más cerca de cero que cualquiera de los dos random walks\n",
    "\n",
    "### 6.- Crear una función que genere un randomwalk idéntico a los anteriores\n",
    "\n",
    "### 7.- Invocar 10 veces la función y guardar los valores en un dataframe\n",
    "\n",
    "### 8.- Dibujar los 10 resultados de los randomwalk en una sola gráfica\n",
    "\n",
    "### 9.- Añadir a la gráfica el valor medio de los 10 resultados\n",
    "\n",
    "### 10.- Si en vez de 10, generamos 100, ¿qué conclusión podemos extraer sobre la media? Y ¿si son 1000?"
   ]
  }
 ],
 "metadata": {
  "kernelspec": {
   "display_name": "Python 3",
   "language": "python",
   "name": "python3"
  },
  "language_info": {
   "codemirror_mode": {
    "name": "ipython",
    "version": 3
   },
   "file_extension": ".py",
   "mimetype": "text/x-python",
   "name": "python",
   "nbconvert_exporter": "python",
   "pygments_lexer": "ipython3",
   "version": "3.9.5 (tags/v3.9.5:0a7dcbd, May  3 2021, 17:27:52) [MSC v.1928 64 bit (AMD64)]"
  },
  "orig_nbformat": 4,
  "vscode": {
   "interpreter": {
    "hash": "2e242e6b8c453217117083c6680e6db82176874e34559806b32fd7417ddae620"
   }
  }
 },
 "nbformat": 4,
 "nbformat_minor": 2
}
