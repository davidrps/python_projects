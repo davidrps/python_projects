{
  "cells": [
    {
      "attachments": {},
      "cell_type": "markdown",
      "metadata": {
        "id": "I0BknIhDgOW1"
      },
      "source": [
        "Obtener un dataset con las valoraciones de Bitcoin de los últimos 365 días.\n",
        "\n",
        "Con lo que vimos ayer en la clase de API, intenta conseguir ese dataset.  \n",
        "\n",
        "Graficar."
      ]
    },
    {
      "cell_type": "code",
      "execution_count": 1,
      "metadata": {},
      "outputs": [],
      "source": [
        "#Importación de librerías necesarias:\n",
        "import pandas as pd\n",
        "import csv\n",
        "import requests\n",
        "import ast\n",
        "import matplotlib\n",
        "import matplotlib.pyplot as plt\n",
        "import datetime"
      ]
    },
    {
      "cell_type": "code",
      "execution_count": 2,
      "metadata": {},
      "outputs": [
        {
          "name": "stdout",
          "output_type": "stream",
          "text": [
            "True\n",
            "200\n",
            "0:00:00.443196\n"
          ]
        },
        {
          "data": {
            "text/html": [
              "<div>\n",
              "<style scoped>\n",
              "    .dataframe tbody tr th:only-of-type {\n",
              "        vertical-align: middle;\n",
              "    }\n",
              "\n",
              "    .dataframe tbody tr th {\n",
              "        vertical-align: top;\n",
              "    }\n",
              "\n",
              "    .dataframe thead th {\n",
              "        text-align: right;\n",
              "    }\n",
              "</style>\n",
              "<table border=\"1\" class=\"dataframe\">\n",
              "  <thead>\n",
              "    <tr style=\"text-align: right;\">\n",
              "      <th></th>\n",
              "      <th>Close price</th>\n",
              "      <th>Fecha</th>\n",
              "    </tr>\n",
              "  </thead>\n",
              "  <tbody>\n",
              "    <tr>\n",
              "      <th>0</th>\n",
              "      <td>36809.34</td>\n",
              "      <td>1643241599999</td>\n",
              "    </tr>\n",
              "    <tr>\n",
              "      <th>1</th>\n",
              "      <td>37160.10</td>\n",
              "      <td>1643327999999</td>\n",
              "    </tr>\n",
              "    <tr>\n",
              "      <th>2</th>\n",
              "      <td>37716.56</td>\n",
              "      <td>1643414399999</td>\n",
              "    </tr>\n",
              "    <tr>\n",
              "      <th>3</th>\n",
              "      <td>38166.84</td>\n",
              "      <td>1643500799999</td>\n",
              "    </tr>\n",
              "    <tr>\n",
              "      <th>4</th>\n",
              "      <td>37881.76</td>\n",
              "      <td>1643587199999</td>\n",
              "    </tr>\n",
              "    <tr>\n",
              "      <th>...</th>\n",
              "      <td>...</td>\n",
              "      <td>...</td>\n",
              "    </tr>\n",
              "    <tr>\n",
              "      <th>360</th>\n",
              "      <td>22783.55</td>\n",
              "      <td>1674345599999</td>\n",
              "    </tr>\n",
              "    <tr>\n",
              "      <th>361</th>\n",
              "      <td>22707.88</td>\n",
              "      <td>1674431999999</td>\n",
              "    </tr>\n",
              "    <tr>\n",
              "      <th>362</th>\n",
              "      <td>22916.45</td>\n",
              "      <td>1674518399999</td>\n",
              "    </tr>\n",
              "    <tr>\n",
              "      <th>363</th>\n",
              "      <td>22632.89</td>\n",
              "      <td>1674604799999</td>\n",
              "    </tr>\n",
              "    <tr>\n",
              "      <th>364</th>\n",
              "      <td>22641.78</td>\n",
              "      <td>1674691199999</td>\n",
              "    </tr>\n",
              "  </tbody>\n",
              "</table>\n",
              "<p>365 rows × 2 columns</p>\n",
              "</div>"
            ],
            "text/plain": [
              "     Close price          Fecha\n",
              "0       36809.34  1643241599999\n",
              "1       37160.10  1643327999999\n",
              "2       37716.56  1643414399999\n",
              "3       38166.84  1643500799999\n",
              "4       37881.76  1643587199999\n",
              "..           ...            ...\n",
              "360     22783.55  1674345599999\n",
              "361     22707.88  1674431999999\n",
              "362     22916.45  1674518399999\n",
              "363     22632.89  1674604799999\n",
              "364     22641.78  1674691199999\n",
              "\n",
              "[365 rows x 2 columns]"
            ]
          },
          "execution_count": 2,
          "metadata": {},
          "output_type": "execute_result"
        }
      ],
      "source": [
        "# 1.- Consumir la API http://numbersapi.com/1..10\n",
        "ct = str(int(datetime.datetime.now().timestamp()))\n",
        "c2 = datetime.datetime.now() - datetime.timedelta(days=365)\n",
        "ct2 = str(int(c2.timestamp()))\n",
        "\n",
        "APIurl = \"https://api.binance.com/api/v3/klines?symbol=BTCUSDT&interval=1d&limit=365&startTime=\"+ct2+\"000&endTime=\"+ct+\"000\"\n",
        "APIresp = requests.get(APIurl)\n",
        "print(APIresp.ok)\n",
        "print(APIresp.status_code)\n",
        "print(APIresp.elapsed)\n",
        "x = ast.literal_eval(APIresp.text)\n",
        "df = pd.DataFrame(x)\n",
        "df = df.drop(df.columns[[0,1,2,3,5,7,8,9,10,11]], axis='columns')\n",
        "df.rename( columns={4 :'Close price'}, inplace=True)\n",
        "df.rename( columns={6 :'Fecha'}, inplace=True)\n",
        "df['Close price'] = pd.to_numeric(df['Close price'])\n",
        "df"
      ]
    },
    {
      "cell_type": "code",
      "execution_count": 3,
      "metadata": {},
      "outputs": [
        {
          "data": {
            "text/html": [
              "<div>\n",
              "<style scoped>\n",
              "    .dataframe tbody tr th:only-of-type {\n",
              "        vertical-align: middle;\n",
              "    }\n",
              "\n",
              "    .dataframe tbody tr th {\n",
              "        vertical-align: top;\n",
              "    }\n",
              "\n",
              "    .dataframe thead th {\n",
              "        text-align: right;\n",
              "    }\n",
              "</style>\n",
              "<table border=\"1\" class=\"dataframe\">\n",
              "  <thead>\n",
              "    <tr style=\"text-align: right;\">\n",
              "      <th></th>\n",
              "      <th>Close price</th>\n",
              "      <th>Fecha</th>\n",
              "    </tr>\n",
              "  </thead>\n",
              "  <tbody>\n",
              "    <tr>\n",
              "      <th>2022-01-27 00:59:59</th>\n",
              "      <td>36809.34</td>\n",
              "      <td>1643241599999</td>\n",
              "    </tr>\n",
              "    <tr>\n",
              "      <th>2022-01-28 00:59:59</th>\n",
              "      <td>37160.10</td>\n",
              "      <td>1643327999999</td>\n",
              "    </tr>\n",
              "    <tr>\n",
              "      <th>2022-01-29 00:59:59</th>\n",
              "      <td>37716.56</td>\n",
              "      <td>1643414399999</td>\n",
              "    </tr>\n",
              "    <tr>\n",
              "      <th>2022-01-30 00:59:59</th>\n",
              "      <td>38166.84</td>\n",
              "      <td>1643500799999</td>\n",
              "    </tr>\n",
              "    <tr>\n",
              "      <th>2022-01-31 00:59:59</th>\n",
              "      <td>37881.76</td>\n",
              "      <td>1643587199999</td>\n",
              "    </tr>\n",
              "    <tr>\n",
              "      <th>...</th>\n",
              "      <td>...</td>\n",
              "      <td>...</td>\n",
              "    </tr>\n",
              "    <tr>\n",
              "      <th>2023-01-22 00:59:59</th>\n",
              "      <td>22783.55</td>\n",
              "      <td>1674345599999</td>\n",
              "    </tr>\n",
              "    <tr>\n",
              "      <th>2023-01-23 00:59:59</th>\n",
              "      <td>22707.88</td>\n",
              "      <td>1674431999999</td>\n",
              "    </tr>\n",
              "    <tr>\n",
              "      <th>2023-01-24 00:59:59</th>\n",
              "      <td>22916.45</td>\n",
              "      <td>1674518399999</td>\n",
              "    </tr>\n",
              "    <tr>\n",
              "      <th>2023-01-25 00:59:59</th>\n",
              "      <td>22632.89</td>\n",
              "      <td>1674604799999</td>\n",
              "    </tr>\n",
              "    <tr>\n",
              "      <th>2023-01-26 00:59:59</th>\n",
              "      <td>22641.78</td>\n",
              "      <td>1674691199999</td>\n",
              "    </tr>\n",
              "  </tbody>\n",
              "</table>\n",
              "<p>365 rows × 2 columns</p>\n",
              "</div>"
            ],
            "text/plain": [
              "                     Close price          Fecha\n",
              "2022-01-27 00:59:59     36809.34  1643241599999\n",
              "2022-01-28 00:59:59     37160.10  1643327999999\n",
              "2022-01-29 00:59:59     37716.56  1643414399999\n",
              "2022-01-30 00:59:59     38166.84  1643500799999\n",
              "2022-01-31 00:59:59     37881.76  1643587199999\n",
              "...                          ...            ...\n",
              "2023-01-22 00:59:59     22783.55  1674345599999\n",
              "2023-01-23 00:59:59     22707.88  1674431999999\n",
              "2023-01-24 00:59:59     22916.45  1674518399999\n",
              "2023-01-25 00:59:59     22632.89  1674604799999\n",
              "2023-01-26 00:59:59     22641.78  1674691199999\n",
              "\n",
              "[365 rows x 2 columns]"
            ]
          },
          "execution_count": 3,
          "metadata": {},
          "output_type": "execute_result"
        }
      ],
      "source": [
        "from datetime import datetime\n",
        "listaDate = []\n",
        "for date in df['Fecha']:\n",
        "    listaDate.append(datetime.fromtimestamp(date//1000))\n",
        "df.index = listaDate\n",
        "df"
      ]
    },
    {
      "cell_type": "code",
      "execution_count": 4,
      "metadata": {},
      "outputs": [
        {
          "data": {
            "text/plain": [
              "<function matplotlib.pyplot.show(close=None, block=None)>"
            ]
          },
          "execution_count": 4,
          "metadata": {},
          "output_type": "execute_result"
        },
        {
          "data": {
            "image/png": "[encoded data removed]",
            "text/plain": [
              "<Figure size 432x288 with 1 Axes>"
            ]
          },
          "metadata": {
            "needs_background": "light"
          },
          "output_type": "display_data"
        }
      ],
      "source": [
        "# Debo convertir antes al formato datetime para que lo reconozca como índice timestamp\n",
        "df.plot(kind='line', y='Close price')\n",
        "plt.show"
      ]
    }
  ],
  "metadata": {
    "colab": {
      "provenance": []
    },
    "kernelspec": {
      "display_name": "base",
      "language": "python",
      "name": "python3"
    },
    "language_info": {
      "codemirror_mode": {
        "name": "ipython",
        "version": 3
      },
      "file_extension": ".py",
      "mimetype": "text/x-python",
      "name": "python",
      "nbconvert_exporter": "python",
      "pygments_lexer": "ipython3",
      "version": "3.8.8"
    },
    "orig_nbformat": 4,
    "vscode": {
      "interpreter": {
        "hash": "5beeed5a7ffdc4b4a0108c0b3292efe9a775794c700b606d5e33717d9ba16765"
      }
    }
  },
  "nbformat": 4,
  "nbformat_minor": 0
}
