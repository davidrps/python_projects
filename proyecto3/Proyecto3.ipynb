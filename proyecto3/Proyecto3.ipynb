{
  "cells": [
    {
      "attachments": {},
      "cell_type": "markdown",
      "metadata": {
        "id": "I0BknIhDgOW1"
      },
      "source": [
        "Obtener un dataset con las valoraciones de Bitcoin de los últimos 365 días.\n",
        "\n",
        "Con lo que vimos ayer en la clase de API, intenta conseguir ese dataset.  \n",
        "\n",
        "Graficar."
      ]
    },
    {
      "cell_type": "code",
      "execution_count": 1,
      "metadata": {},
      "outputs": [],
      "source": [
        "#Importación de librerías necesarias:\n",
        "import pandas as pd\n",
        "import csv\n",
        "import requests\n",
        "import ast\n",
        "import matplotlib\n",
        "import matplotlib.pyplot as plt\n",
        "import datetime"
      ]
    },
    {
      "cell_type": "code",
      "execution_count": 2,
      "metadata": {},
      "outputs": [
        {
          "name": "stdout",
          "output_type": "stream",
          "text": [
            "True\n",
            "200\n",
            "0:00:01.157802\n"
          ]
        }
      ],
      "source": [
        "# 1.- Consumir la API http://numbersapi.com/1..10\n",
        "ct = str(int(datetime.datetime.now().timestamp()))\n",
        "c2 = datetime.datetime.now() - datetime.timedelta(days=365*10)\n",
        "ct2 = str(int(c2.timestamp()))\n",
        "\n",
        "APIurl = \"https://api.binance.com/api/v3/klines?symbol=BTCUSDT&interval=3d&limit=1000&startTime=\"+ct2+\"000&endTime=\"+ct+\"000\"\n",
        "APIresp = requests.get(APIurl)\n",
        "print(APIresp.ok)\n",
        "print(APIresp.status_code)\n",
        "print(APIresp.elapsed)\n",
        "x = ast.literal_eval(APIresp.text)\n",
        "df = pd.DataFrame(x)\n",
        "df = df.drop(df.columns[[0,1,2,3,5,7,8,9,10,11]], axis='columns')\n",
        "df.rename( columns={4 :'Close price'}, inplace=True)\n",
        "df.rename( columns={6 :'Fecha'}, inplace=True)\n",
        "df['Close price'] = pd.to_numeric(df['Close price'])"
      ]
    },
    {
      "cell_type": "code",
      "execution_count": 3,
      "metadata": {},
      "outputs": [],
      "source": [
        "from datetime import datetime\n",
        "listaDate = []\n",
        "for date in df['Fecha']:\n",
        "    listaDate.append(datetime.fromtimestamp(date//1000))\n",
        "df.index = listaDate"
      ]
    },
    {
      "cell_type": "code",
      "execution_count": 4,
      "metadata": {},
      "outputs": [
        {
          "data": {
            "text/plain": [
              "<function matplotlib.pyplot.show(*args, **kw)>"
            ]
          },
          "execution_count": 4,
          "metadata": {},
          "output_type": "execute_result"
        },
        {
          "data": {
            "image/png": "[encoded data removed]",
            "text/plain": [
              "<Figure size 432x288 with 1 Axes>"
            ]
          },
          "metadata": {
            "needs_background": "light"
          },
          "output_type": "display_data"
        }
      ],
      "source": [
        "# Debo convertir antes al formato datetime para que lo reconozca como índice timestamp\n",
        "df.plot(kind='line', y='Close price')\n",
        "plt.show"
      ]
    }
  ],
  "metadata": {
    "colab": {
      "provenance": []
    },
    "kernelspec": {
      "display_name": "Python 3",
      "language": "python",
      "name": "python3"
    },
    "language_info": {
      "codemirror_mode": {
        "name": "ipython",
        "version": 3
      },
      "file_extension": ".py",
      "mimetype": "text/x-python",
      "name": "python",
      "nbconvert_exporter": "python",
      "pygments_lexer": "ipython3",
      "version": "3.7.1"
    },
    "orig_nbformat": 4,
    "vscode": {
      "interpreter": {
        "hash": "7dd15e51a4470d085f7a243fb04650bc4fe166c7b9d4ae5b8d1a77af89f8b74e"
      }
    }
  },
  "nbformat": 4,
  "nbformat_minor": 0
}
