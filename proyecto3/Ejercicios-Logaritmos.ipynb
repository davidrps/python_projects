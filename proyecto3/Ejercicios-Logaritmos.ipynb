{
  "cells": [
    {
      "attachments": {},
      "cell_type": "markdown",
      "metadata": {},
      "source": [
        "Calcular el logaritmo decimal de 1, 10, 100, 1.000 y 10.000"
      ]
    },
    {
      "cell_type": "code",
      "execution_count": 4,
      "metadata": {},
      "outputs": [],
      "source": [
        "import pandas as pd\n",
        "import matplotlib\n",
        "import matplotlib.pyplot as plt\n",
        "import math as ma"
      ]
    },
    {
      "cell_type": "code",
      "execution_count": 5,
      "metadata": {},
      "outputs": [
        {
          "name": "stdout",
          "output_type": "stream",
          "text": [
            "0.0\n",
            "1.0\n",
            "2.0\n",
            "2.9999999999999996\n",
            "4.0\n"
          ]
        }
      ],
      "source": [
        "N=1\n",
        "# Funcion para calcular logaritmos\n",
        "def logaritmo(N):\n",
        "    if N>0:\n",
        "        resultado = ma.log(N, 10)\n",
        "    return resultado    \n",
        "\n",
        "print(logaritmo(1))\n",
        "print(logaritmo(10))\n",
        "print(logaritmo(100))\n",
        "print(logaritmo(1000))\n",
        "print(logaritmo(10000))"
      ]
    },
    {
      "attachments": {},
      "cell_type": "markdown",
      "metadata": {},
      "source": [
        "Crear un dataframe de 100 filas con 3 columnas: \n",
        "La primera llamada X contiene valores decimales incrementales del 1 al 10, \n",
        "por ejemplo: 1.0, 1.1, 1.2, 1.3, ...\n",
        "La segunda columna llamada Y, contiene el valor Y = 3 + 5 * X\n",
        "La tercera columna llamada log10Y contiene el logaritmo decimal de Y"
      ]
    },
    {
      "cell_type": "code",
      "execution_count": 7,
      "metadata": {},
      "outputs": [
        {
          "name": "stdout",
          "output_type": "stream",
          "text": [
            "       X     Y    log10Y\n",
            "0    1.0   8.0  0.000000\n",
            "1    1.1   8.5  0.041393\n",
            "2    1.2   9.0  0.079181\n",
            "3    1.3   9.5  0.113943\n",
            "4    1.4  10.0  0.146128\n",
            "..   ...   ...       ...\n",
            "86   9.6  51.0  0.982271\n",
            "87   9.7  51.5  0.986772\n",
            "88   9.8  52.0  0.991226\n",
            "89   9.9  52.5  0.995635\n",
            "90  10.0  53.0  1.000000\n",
            "\n",
            "[91 rows x 3 columns]\n"
          ]
        }
      ],
      "source": [
        "c1 = []\n",
        "for i in range(10, 101, 1):    \n",
        "    c1.append(i/10)\n",
        "    \n",
        "c2 = []    \n",
        "for X in c1:\n",
        "    c2.append(3 + 5 * X)\n",
        "   \n",
        "c3 = [] \n",
        "for Y in c1:\n",
        "    c3.append(logaritmo(Y))\n",
        "        \n",
        "df = pd.DataFrame({'X': c1, 'Y': c2, 'log10Y': c3})\n",
        "print(df) "
      ]
    },
    {
      "attachments": {},
      "cell_type": "markdown",
      "metadata": {},
      "source": [
        "Representar gráficamente Y vs X"
      ]
    },
    {
      "cell_type": "code",
      "execution_count": 8,
      "metadata": {},
      "outputs": [
        {
          "data": {
            "image/png": "[encoded data removed]",
            "text/plain": [
              "<Figure size 432x288 with 1 Axes>"
            ]
          },
          "metadata": {
            "needs_background": "light"
          },
          "output_type": "display_data"
        },
        {
          "ename": "AttributeError",
          "evalue": "'OutStream' object has no attribute 'buffer'",
          "output_type": "error",
          "traceback": [
            "\u001b[1;31m---------------------------------------------------------------------------\u001b[0m",
            "\u001b[1;31mAttributeError\u001b[0m                            Traceback (most recent call last)",
            "\u001b[1;32m<ipython-input-8-82d6b5731938>\u001b[0m in \u001b[0;36m<module>\u001b[1;34m\u001b[0m\n\u001b[0;32m      5\u001b[0m \u001b[1;33m\u001b[0m\u001b[0m\n\u001b[0;32m      6\u001b[0m \u001b[1;31m#Two  lines to make our compiler able to draw:\u001b[0m\u001b[1;33m\u001b[0m\u001b[1;33m\u001b[0m\u001b[1;33m\u001b[0m\u001b[0m\n\u001b[1;32m----> 7\u001b[1;33m \u001b[0mplt\u001b[0m\u001b[1;33m.\u001b[0m\u001b[0msavefig\u001b[0m\u001b[1;33m(\u001b[0m\u001b[0msys\u001b[0m\u001b[1;33m.\u001b[0m\u001b[0mstdout\u001b[0m\u001b[1;33m.\u001b[0m\u001b[0mbuffer\u001b[0m\u001b[1;33m)\u001b[0m\u001b[1;33m\u001b[0m\u001b[1;33m\u001b[0m\u001b[0m\n\u001b[0m\u001b[0;32m      8\u001b[0m \u001b[0msys\u001b[0m\u001b[1;33m.\u001b[0m\u001b[0mstdout\u001b[0m\u001b[1;33m.\u001b[0m\u001b[0mflush\u001b[0m\u001b[1;33m(\u001b[0m\u001b[1;33m)\u001b[0m\u001b[1;33m\u001b[0m\u001b[1;33m\u001b[0m\u001b[0m\n",
            "\u001b[1;31mAttributeError\u001b[0m: 'OutStream' object has no attribute 'buffer'"
          ]
        }
      ],
      "source": [
        "plt.plot(c2, c1)\n",
        "plt.xlabel(\"Y\")\n",
        "plt.ylabel(\"X\")\n",
        "plt.show() \n",
        "\n",
        "#Two  lines to make our compiler able to draw:\n",
        "plt.savefig(sys.stdout.buffer)\n",
        "sys.stdout.flush()"
      ]
    },
    {
      "attachments": {},
      "cell_type": "markdown",
      "metadata": {},
      "source": [
        "Representar gráficamente log10Y vs X"
      ]
    },
    {
      "cell_type": "code",
      "execution_count": 9,
      "metadata": {},
      "outputs": [
        {
          "data": {
            "image/png": "[encoded data removed]",
            "text/plain": [
              "<Figure size 432x288 with 1 Axes>"
            ]
          },
          "metadata": {
            "needs_background": "light"
          },
          "output_type": "display_data"
        },
        {
          "ename": "AttributeError",
          "evalue": "'OutStream' object has no attribute 'buffer'",
          "output_type": "error",
          "traceback": [
            "\u001b[1;31m---------------------------------------------------------------------------\u001b[0m",
            "\u001b[1;31mAttributeError\u001b[0m                            Traceback (most recent call last)",
            "\u001b[1;32m<ipython-input-9-54b1361d99ee>\u001b[0m in \u001b[0;36m<module>\u001b[1;34m\u001b[0m\n\u001b[0;32m      5\u001b[0m \u001b[1;33m\u001b[0m\u001b[0m\n\u001b[0;32m      6\u001b[0m \u001b[1;31m#Two  lines to make our compiler able to draw:\u001b[0m\u001b[1;33m\u001b[0m\u001b[1;33m\u001b[0m\u001b[1;33m\u001b[0m\u001b[0m\n\u001b[1;32m----> 7\u001b[1;33m \u001b[0mplt\u001b[0m\u001b[1;33m.\u001b[0m\u001b[0msavefig\u001b[0m\u001b[1;33m(\u001b[0m\u001b[0msys\u001b[0m\u001b[1;33m.\u001b[0m\u001b[0mstdout\u001b[0m\u001b[1;33m.\u001b[0m\u001b[0mbuffer\u001b[0m\u001b[1;33m)\u001b[0m\u001b[1;33m\u001b[0m\u001b[1;33m\u001b[0m\u001b[0m\n\u001b[0m\u001b[0;32m      8\u001b[0m \u001b[0msys\u001b[0m\u001b[1;33m.\u001b[0m\u001b[0mstdout\u001b[0m\u001b[1;33m.\u001b[0m\u001b[0mflush\u001b[0m\u001b[1;33m(\u001b[0m\u001b[1;33m)\u001b[0m\u001b[1;33m\u001b[0m\u001b[1;33m\u001b[0m\u001b[0m\n",
            "\u001b[1;31mAttributeError\u001b[0m: 'OutStream' object has no attribute 'buffer'"
          ]
        }
      ],
      "source": [
        "plt.plot(c3, c2)\n",
        "plt.xlabel(\"log10Y\")\n",
        "plt.ylabel(\"Y\")\n",
        "plt.show() \n",
        "\n",
        "#Two  lines to make our compiler able to draw:\n",
        "plt.savefig(sys.stdout.buffer)\n",
        "sys.stdout.flush()"
      ]
    },
    {
      "attachments": {},
      "cell_type": "markdown",
      "metadata": {},
      "source": [
        "Representar gráficamente Y vs X forzando el eje Y a ser representado en escala logarítmica con la correspondiente función de matplotlib"
      ]
    },
    {
      "cell_type": "code",
      "execution_count": 10,
      "metadata": {},
      "outputs": [
        {
          "data": {
            "image/png": "[encoded data removed]",
            "text/plain": [
              "<Figure size 432x288 with 1 Axes>"
            ]
          },
          "metadata": {
            "needs_background": "light"
          },
          "output_type": "display_data"
        }
      ],
      "source": [
        "fig, ax = plt.subplots()\n",
        "ax.plot(df)\n",
        "ax.set_yscale(\"log\")\n",
        "plt.show()"
      ]
    }
  ],
  "metadata": {
    "colab": {
      "provenance": []
    },
    "kernelspec": {
      "display_name": "base",
      "language": "python",
      "name": "python3"
    },
    "language_info": {
      "codemirror_mode": {
        "name": "ipython",
        "version": 3
      },
      "file_extension": ".py",
      "mimetype": "text/x-python",
      "name": "python",
      "nbconvert_exporter": "python",
      "pygments_lexer": "ipython3",
      "version": "3.8.8"
    },
    "orig_nbformat": 4,
    "vscode": {
      "interpreter": {
        "hash": "5beeed5a7ffdc4b4a0108c0b3292efe9a775794c700b606d5e33717d9ba16765"
      }
    }
  },
  "nbformat": 4,
  "nbformat_minor": 0
}
